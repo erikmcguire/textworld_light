{
  "nbformat": 4,
  "nbformat_minor": 0,
  "metadata": {
    "colab": {
      "provenance": [],
      "collapsed_sections": [
        "eiHe0ylq_Y3w",
        "GGFDbgtUDR4Z",
        "Vp0HK80-X2TC",
        "VlbRmtIOzIxr",
        "lQady9jDul2J",
        "Wedki3uxEHGB",
        "OD5Sq5ofF8tS",
        "BFk9_VWTzKhi",
        "9QYcxaClBfB1",
        "J3bwEUqvADtL",
        "hs4MiU03AI9p",
        "zBLLm6ocGIXN",
        "7gb_upvxGP_L",
        "gXxtX4u3EsgG",
        "2xVrjBdODwLd",
        "9KRM3CW5E7TJ",
        "xaz_wdf6H52j",
        "lwODM14dFEKf",
        "Pngo3bZ-G3Fk",
        "SJlRacqTFdbT",
        "DcqQQeXbFgAq",
        "h3Ljv9thFiya",
        "EhhetlzRHdC5",
        "3LcmyGLKGCOr",
        "PFe4yxjqGDDr",
        "TezXpCn7rIm8",
        "XXIEm9K2rN1P"
      ],
      "machine_shape": "hm",
      "toc_visible": true,
      "gpuClass": "premium",
      "mount_file_id": "1wcidjWY9OXKhWn7JdfFMaSSVtaxUIrMk",
      "authorship_tag": "ABX9TyNwHiQ5Q6GYDY/h4q+krvku",
      "include_colab_link": true
    },
    "kernelspec": {
      "name": "python3",
      "display_name": "Python 3"
    },
    "language_info": {
      "name": "python"
    },
    "accelerator": "GPU",
    "gpuClass": "premium",
    "widgets": {
      "application/vnd.jupyter.widget-state+json": {
        "820cf544ad3f45a3981f59a30a08d9f4": {
          "model_module": "@jupyter-widgets/controls",
          "model_name": "VBoxModel",
          "model_module_version": "1.5.0",
          "state": {
            "_dom_classes": [
              "widget-interact"
            ],
            "_model_module": "@jupyter-widgets/controls",
            "_model_module_version": "1.5.0",
            "_model_name": "VBoxModel",
            "_view_count": null,
            "_view_module": "@jupyter-widgets/controls",
            "_view_module_version": "1.5.0",
            "_view_name": "VBoxView",
            "box_style": "",
            "children": [
              "IPY_MODEL_de8e831579d944b7b775ce4d04aa1c71",
              "IPY_MODEL_438d1fca866d491e8a235131842cccaa"
            ],
            "layout": "IPY_MODEL_49e7059c673644a8a94faac4e64fcaa9"
          }
        },
        "de8e831579d944b7b775ce4d04aa1c71": {
          "model_module": "@jupyter-widgets/controls",
          "model_name": "IntSliderModel",
          "model_module_version": "1.5.0",
          "state": {
            "_dom_classes": [],
            "_model_module": "@jupyter-widgets/controls",
            "_model_module_version": "1.5.0",
            "_model_name": "IntSliderModel",
            "_view_count": null,
            "_view_module": "@jupyter-widgets/controls",
            "_view_module_version": "1.5.0",
            "_view_name": "IntSliderView",
            "continuous_update": true,
            "description": "ix",
            "description_tooltip": null,
            "disabled": false,
            "layout": "IPY_MODEL_c9d39cc6951e4e48ab0fee59a468ef84",
            "max": 1677,
            "min": -559,
            "orientation": "horizontal",
            "readout": true,
            "readout_format": "d",
            "step": 1,
            "style": "IPY_MODEL_92cc31a20d494125a967da3d5096af30",
            "value": 559
          }
        },
        "438d1fca866d491e8a235131842cccaa": {
          "model_module": "@jupyter-widgets/output",
          "model_name": "OutputModel",
          "model_module_version": "1.0.0",
          "state": {
            "_dom_classes": [],
            "_model_module": "@jupyter-widgets/output",
            "_model_module_version": "1.0.0",
            "_model_name": "OutputModel",
            "_view_count": null,
            "_view_module": "@jupyter-widgets/output",
            "_view_module_version": "1.0.0",
            "_view_name": "OutputView",
            "layout": "IPY_MODEL_c48d130b87df4daa9e72673c0d7799ac",
            "msg_id": "",
            "outputs": [
              {
                "output_type": "stream",
                "name": "stdout",
                "text": [
                  "Gender: N\n",
                  "The Goblin - I need to get rid of the guest's possessions. - The Valley Of Doom\n"
                ]
              }
            ]
          }
        },
        "49e7059c673644a8a94faac4e64fcaa9": {
          "model_module": "@jupyter-widgets/base",
          "model_name": "LayoutModel",
          "model_module_version": "1.2.0",
          "state": {
            "_model_module": "@jupyter-widgets/base",
            "_model_module_version": "1.2.0",
            "_model_name": "LayoutModel",
            "_view_count": null,
            "_view_module": "@jupyter-widgets/base",
            "_view_module_version": "1.2.0",
            "_view_name": "LayoutView",
            "align_content": null,
            "align_items": null,
            "align_self": null,
            "border": null,
            "bottom": null,
            "display": null,
            "flex": null,
            "flex_flow": null,
            "grid_area": null,
            "grid_auto_columns": null,
            "grid_auto_flow": null,
            "grid_auto_rows": null,
            "grid_column": null,
            "grid_gap": null,
            "grid_row": null,
            "grid_template_areas": null,
            "grid_template_columns": null,
            "grid_template_rows": null,
            "height": null,
            "justify_content": null,
            "justify_items": null,
            "left": null,
            "margin": null,
            "max_height": null,
            "max_width": null,
            "min_height": null,
            "min_width": null,
            "object_fit": null,
            "object_position": null,
            "order": null,
            "overflow": null,
            "overflow_x": null,
            "overflow_y": null,
            "padding": null,
            "right": null,
            "top": null,
            "visibility": null,
            "width": null
          }
        },
        "c9d39cc6951e4e48ab0fee59a468ef84": {
          "model_module": "@jupyter-widgets/base",
          "model_name": "LayoutModel",
          "model_module_version": "1.2.0",
          "state": {
            "_model_module": "@jupyter-widgets/base",
            "_model_module_version": "1.2.0",
            "_model_name": "LayoutModel",
            "_view_count": null,
            "_view_module": "@jupyter-widgets/base",
            "_view_module_version": "1.2.0",
            "_view_name": "LayoutView",
            "align_content": null,
            "align_items": null,
            "align_self": null,
            "border": null,
            "bottom": null,
            "display": null,
            "flex": null,
            "flex_flow": null,
            "grid_area": null,
            "grid_auto_columns": null,
            "grid_auto_flow": null,
            "grid_auto_rows": null,
            "grid_column": null,
            "grid_gap": null,
            "grid_row": null,
            "grid_template_areas": null,
            "grid_template_columns": null,
            "grid_template_rows": null,
            "height": null,
            "justify_content": null,
            "justify_items": null,
            "left": null,
            "margin": null,
            "max_height": null,
            "max_width": null,
            "min_height": null,
            "min_width": null,
            "object_fit": null,
            "object_position": null,
            "order": null,
            "overflow": null,
            "overflow_x": null,
            "overflow_y": null,
            "padding": null,
            "right": null,
            "top": null,
            "visibility": null,
            "width": null
          }
        },
        "92cc31a20d494125a967da3d5096af30": {
          "model_module": "@jupyter-widgets/controls",
          "model_name": "SliderStyleModel",
          "model_module_version": "1.5.0",
          "state": {
            "_model_module": "@jupyter-widgets/controls",
            "_model_module_version": "1.5.0",
            "_model_name": "SliderStyleModel",
            "_view_count": null,
            "_view_module": "@jupyter-widgets/base",
            "_view_module_version": "1.2.0",
            "_view_name": "StyleView",
            "description_width": "",
            "handle_color": null
          }
        },
        "c48d130b87df4daa9e72673c0d7799ac": {
          "model_module": "@jupyter-widgets/base",
          "model_name": "LayoutModel",
          "model_module_version": "1.2.0",
          "state": {
            "_model_module": "@jupyter-widgets/base",
            "_model_module_version": "1.2.0",
            "_model_name": "LayoutModel",
            "_view_count": null,
            "_view_module": "@jupyter-widgets/base",
            "_view_module_version": "1.2.0",
            "_view_name": "LayoutView",
            "align_content": null,
            "align_items": null,
            "align_self": null,
            "border": null,
            "bottom": null,
            "display": null,
            "flex": null,
            "flex_flow": null,
            "grid_area": null,
            "grid_auto_columns": null,
            "grid_auto_flow": null,
            "grid_auto_rows": null,
            "grid_column": null,
            "grid_gap": null,
            "grid_row": null,
            "grid_template_areas": null,
            "grid_template_columns": null,
            "grid_template_rows": null,
            "height": null,
            "justify_content": null,
            "justify_items": null,
            "left": null,
            "margin": null,
            "max_height": null,
            "max_width": null,
            "min_height": null,
            "min_width": null,
            "object_fit": null,
            "object_position": null,
            "order": null,
            "overflow": null,
            "overflow_x": null,
            "overflow_y": null,
            "padding": null,
            "right": null,
            "top": null,
            "visibility": null,
            "width": null
          }
        },
        "f766e273e0b145df86773c3986916e15": {
          "model_module": "@jupyter-widgets/base",
          "model_name": "LayoutModel",
          "model_module_version": "1.2.0",
          "state": {
            "_model_module": "@jupyter-widgets/base",
            "_model_module_version": "1.2.0",
            "_model_name": "LayoutModel",
            "_view_count": null,
            "_view_module": "@jupyter-widgets/base",
            "_view_module_version": "1.2.0",
            "_view_name": "LayoutView",
            "align_content": null,
            "align_items": null,
            "align_self": null,
            "border": null,
            "bottom": null,
            "display": null,
            "flex": null,
            "flex_flow": null,
            "grid_area": null,
            "grid_auto_columns": null,
            "grid_auto_flow": null,
            "grid_auto_rows": null,
            "grid_column": null,
            "grid_gap": null,
            "grid_row": null,
            "grid_template_areas": null,
            "grid_template_columns": null,
            "grid_template_rows": null,
            "height": null,
            "justify_content": null,
            "justify_items": null,
            "left": null,
            "margin": null,
            "max_height": null,
            "max_width": null,
            "min_height": null,
            "min_width": null,
            "object_fit": null,
            "object_position": null,
            "order": null,
            "overflow": null,
            "overflow_x": null,
            "overflow_y": null,
            "padding": null,
            "right": null,
            "top": null,
            "visibility": null,
            "width": null
          }
        },
        "0fd018ec94d04279a3891e4d62adbc81": {
          "model_module": "@jupyter-widgets/controls",
          "model_name": "SliderStyleModel",
          "model_module_version": "1.5.0",
          "state": {
            "_model_module": "@jupyter-widgets/controls",
            "_model_module_version": "1.5.0",
            "_model_name": "SliderStyleModel",
            "_view_count": null,
            "_view_module": "@jupyter-widgets/base",
            "_view_module_version": "1.2.0",
            "_view_name": "StyleView",
            "description_width": "",
            "handle_color": null
          }
        }
      }
    }
  },
  "cells": [
    {
      "cell_type": "markdown",
      "metadata": {
        "id": "view-in-github",
        "colab_type": "text"
      },
      "source": [
        "<a href=\"https://colab.research.google.com/github/erikmcguire/textworld_light/blob/main/LIGHT_Quest_Generation.ipynb\" target=\"_parent\"><img src=\"https://colab.research.google.com/assets/colab-badge.svg\" alt=\"Open In Colab\"/></a>"
      ]
    },
    {
      "cell_type": "markdown",
      "metadata": {
        "id": "etlVlLRCD9m3"
      },
      "source": [
        "## Quest Generation"
      ]
    },
    {
      "cell_type": "markdown",
      "source": [
        "Steps:\n",
        "1. Set data path for loading/saving files.\n",
        "2. Install dependencies, import modules.\n",
        "3. Choose options and run cell to load primary model, tokenizer.\n",
        "4. Run cell which defines utility functions for processing data.\n",
        "5.\n",
        "    * A. Load data for processing if necessary.\n",
        "    * B. Process data if necessary.\n",
        "6. LM fine-tuning of quests given LIGHT persona + context prompts.\n",
        "7. Generation\n",
        "    * A. Single example generation\n",
        "    * B. Bulk generation for analysis"
      ],
      "metadata": {
        "id": "m5jGpen27KcY"
      }
    },
    {
      "cell_type": "markdown",
      "source": [
        "### I. Define data path to drive folder"
      ],
      "metadata": {
        "id": "eiHe0ylq_Y3w"
      }
    },
    {
      "cell_type": "code",
      "source": [
        "DATA_PTH = \"/../content/drive/MyDrive/data/light_data/\""
      ],
      "metadata": {
        "id": "YszAR1Lw4dS2"
      },
      "execution_count": null,
      "outputs": []
    },
    {
      "cell_type": "markdown",
      "metadata": {
        "id": "GGFDbgtUDR4Z"
      },
      "source": [
        "### II. Dependencies, Imports"
      ]
    },
    {
      "cell_type": "code",
      "execution_count": null,
      "metadata": {
        "id": "ssVLCsfwBs77"
      },
      "outputs": [],
      "source": [
        "!pip install transformers sentencepiece datasets &> /dev/null"
      ]
    },
    {
      "cell_type": "code",
      "execution_count": null,
      "metadata": {
        "id": "fLltNfA4EVT9"
      },
      "outputs": [],
      "source": [
        "from transformers import (T5TokenizerFast as T5Tokenizer, T5ForConditionalGeneration,\n",
        "                          BartTokenizer, BartForConditionalGeneration)\n",
        "from transformers import (AutoTokenizer, DataCollatorWithPadding, Seq2SeqTrainer,\n",
        "                          DataCollatorForSeq2Seq, Seq2SeqTrainingArguments,\n",
        "                          Trainer, TrainingArguments)"
      ]
    },
    {
      "cell_type": "code",
      "source": [
        "from datasets import load_dataset, DatasetDict\n",
        "from collections import defaultdict\n",
        "from datasets import load_from_disk\n",
        "\n",
        "import pandas as pd\n",
        "import random, json\n",
        "import numpy as np\n",
        "import datasets\n",
        "import torch"
      ],
      "metadata": {
        "id": "ofx6qSq-AliE"
      },
      "execution_count": null,
      "outputs": []
    },
    {
      "cell_type": "code",
      "execution_count": null,
      "metadata": {
        "id": "hda8IByvZClO"
      },
      "outputs": [],
      "source": [
        "import ipywidgets as widgets\n",
        "from ipywidgets import interact, interactive, interactive_output, fixed, interact_manual\n",
        "from IPython.display import display, clear_output"
      ]
    },
    {
      "cell_type": "code",
      "execution_count": null,
      "metadata": {
        "id": "W1hB7ZVTfq6c"
      },
      "outputs": [],
      "source": [
        "from google.colab import output\n",
        "output.enable_custom_widget_manager()"
      ]
    },
    {
      "cell_type": "code",
      "execution_count": null,
      "metadata": {
        "id": "O-2QyfSZgM3W"
      },
      "outputs": [],
      "source": [
        "from google.colab import data_table\n",
        "\n",
        "data_table.enable_dataframe_formatter()"
      ]
    },
    {
      "cell_type": "code",
      "source": [
        "data_table.DataTable.num_rows_per_page = 10"
      ],
      "metadata": {
        "id": "Hu4gDd2juyyw"
      },
      "execution_count": null,
      "outputs": []
    },
    {
      "cell_type": "code",
      "execution_count": null,
      "metadata": {
        "id": "9inrbDgqBs76"
      },
      "outputs": [],
      "source": [
        "def set_seed(seed):\n",
        "  random.seed(seed)\n",
        "  np.random.seed(seed)\n",
        "  torch.manual_seed(seed)"
      ]
    },
    {
      "cell_type": "code",
      "source": [
        "# random.randint(1, 10000)"
      ],
      "metadata": {
        "id": "sYd9ANoiu-Ir"
      },
      "execution_count": null,
      "outputs": []
    },
    {
      "cell_type": "code",
      "source": [
        "seed = 42\n",
        "set_seed(seed)"
      ],
      "metadata": {
        "id": "kvD4WY6uu5C1"
      },
      "execution_count": null,
      "outputs": []
    },
    {
      "cell_type": "markdown",
      "source": [
        "### III. Load model, tokenizer"
      ],
      "metadata": {
        "id": "ZXuD31Bc7XjH"
      }
    },
    {
      "cell_type": "markdown",
      "source": [
        "* ```sel``` - Choose BART vs. T5, base pre-trained or fine-tuned models.\n",
        "* ```sz``` - Base size or large.\n",
        "* ```g``` - Choose model fine-tuned all genders, male, female, or gender-neutral.\n",
        "\n",
        "Choose options and run cell. Relies on models saved in ```light_data``` folder.\n",
        "\n",
        "May compare to second model defined [here](#scrollTo=ujH228SC-gp8)."
      ],
      "metadata": {
        "id": "X8WdWF9H7iyw"
      }
    },
    {
      "cell_type": "code",
      "execution_count": null,
      "metadata": {
        "id": "Zt2QwsrqBs78",
        "cellView": "form"
      },
      "outputs": [],
      "source": [
        "#@title Primary model, tokenizer selection\n",
        "\n",
        "sel = \"bart\" #@param [\"bart\", \"t5\", \"bart_custom\", \"t5_custom\"]\n",
        "sz = \"base\" #@param [\"base\", \"large\"]\n",
        "g = \"Male\" #@param [\"All\", \"Male\", \"Female\", \"Neutral\"]\n",
        "gd = {\"Male\": \"m\", \"Female\": \"f\", \"Neutral\": \"n\", \"All\": \"all\"}\n",
        "g = gd[g]\n",
        "sd = \"7696\" #@param [42, 7696, 7304]\n",
        "cd = {\"all\": 1640, \"m\": 205, \"f\": 180, \"n\": 1305}\n",
        "cp = cd[g]\n",
        "pth = widgets.Text(f\"{DATA_PTH}models/quest_model_{g}_{sd}/checkpoint-{cp}\").value\n",
        "display(pth)\n",
        "\n",
        "if pth or \"custom\" not in sel:\n",
        "    mt = {\"t5\": (f\"t5-{sz}\", (T5Tokenizer, T5ForConditionalGeneration)),\n",
        "        \"bart\": (f\"facebook/bart-{sz}\", (BartTokenizer, BartForConditionalGeneration)),\n",
        "        \"bart_custom\": (f\"facebook/bart-{sz}\", (BartTokenizer, BartForConditionalGeneration)),\n",
        "        \"t5_custom\": (f\"t5-{sz}\", (T5Tokenizer, T5ForConditionalGeneration))}\n",
        "\n",
        "    if sel in [\"t5\", \"bart\"]:\n",
        "        tokenizer = mt[sel][1][0].from_pretrained(f\"{mt[sel][0]}\")\n",
        "        model = mt[sel][1][1].from_pretrained(f\"{mt[sel][0]}\")\n",
        "    else:\n",
        "        if \"t5\" in sel:\n",
        "            tpth = \"t5-base\"\n",
        "        elif \"bart_\" in sel:\n",
        "            tpth = \"facebook/bart-base\"\n",
        "        tokenizer = mt[sel][1][0].from_pretrained(f\"{tpth}\")\n",
        "        model = mt[sel][1][1].from_pretrained(pth)\n",
        "\n",
        "    #tokenizer.pad_token = tokenizer.eos_token"
      ]
    },
    {
      "cell_type": "markdown",
      "source": [
        "Move to GPU if using for runtime:"
      ],
      "metadata": {
        "id": "KoHJmSrV8Wvh"
      }
    },
    {
      "cell_type": "code",
      "execution_count": null,
      "metadata": {
        "id": "VCMVxui8f3DY"
      },
      "outputs": [],
      "source": [
        "model.cuda()\n",
        "clear_output()"
      ]
    },
    {
      "cell_type": "markdown",
      "source": [
        "### IV. Run to define functions for data processing."
      ],
      "metadata": {
        "id": "3qHr0EmS-KeM"
      }
    },
    {
      "cell_type": "code",
      "execution_count": null,
      "metadata": {
        "id": "IDV5U1wJGGZz",
        "cellView": "form"
      },
      "outputs": [],
      "source": [
        "#@title Functions\n",
        "\n",
        "def change_gender(x):\n",
        "    if x[\"character\"].split()[-1].lower() == \"men\" or \"salesmen\" in x[\"character\"].lower():\n",
        "        x[\"gender\"] = \"M\"\n",
        "    if \"men and women\" in x[\"character\"].lower():\n",
        "        x[\"gender\"] = \"N\"\n",
        "    return x\n",
        "\n",
        "def make_quest(x):\n",
        "    \"\"\"Extract actions from timeline,\n",
        "       re-insert goal action as present action.\"\"\"\n",
        "    now = x.goal\n",
        "    l = pd.DataFrame(x.timeline).action.tolist()\n",
        "    l.insert(3, now)\n",
        "    x[\"quest\"] = \", \".join(l).lower() # .split(\",\")\n",
        "    return x\n",
        "\n",
        "def make_questl(x):\n",
        "    \"\"\"Extract actions from timeline,\n",
        "       re-insert goal action as present action.\n",
        "       Return as list (vs. string list).\"\"\"\n",
        "    now = x.goal\n",
        "    l = pd.DataFrame(x.timeline).action.tolist()\n",
        "    l.insert(3, now)\n",
        "    x[\"questl\"] = [s.lower() for s in l]\n",
        "    return x\n",
        "\n",
        "def replace_all(x):\n",
        "    picker = {\"gender-neutral\": \"N\",\n",
        "              \"N\": \"N\",\n",
        "              \"male\": \"M\",\n",
        "              \"M\": \"M\",\n",
        "              \"F\": \"F\",\n",
        "              \"female\": \"F\"}\n",
        "    x[\"gender\"] = picker[x[\"gender\"]]\n",
        "    return x\n",
        "\n",
        "def get_verbs(x):\n",
        "    \"\"\"Get main verbs from action list.\"\"\"\n",
        "    # If loaded from disk, may need to eval(x[\"questl\"])\n",
        "    actions = list(filter(lambda x: x, x[\"questl\"]))\n",
        "    try:\n",
        "        verbs = list(map(lambda x: x.strip().split()[0], actions))\n",
        "    except:\n",
        "        print(actions)\n",
        "    x[\"verbs\"] = verbs\n",
        "    return x\n",
        "\n",
        "def get_goalverb(x):\n",
        "    x[\"gverb\"] = x[\"goal\"].split()[0]\n",
        "    return x\n",
        "\n",
        "def get_qs_flat(x: str) -> list:\n",
        "    \"\"\"Get query list to search agency and power.\"\"\"\n",
        "    df = dfqq[dfqq.gender == x]\n",
        "    actions = []\n",
        "    for ix in range(len(df)):\n",
        "        verbs = df.verbs.iloc[ix]\n",
        "        actions.extend(verbs)\n",
        "    return list(map(lambda x: pluralize(x), actions))\n",
        "\n",
        "def get_qs(x: str) -> list:\n",
        "    \"\"\"Get query list to search agency and power.\"\"\"\n",
        "    df = dfqq[dfqq.gender == x]\n",
        "    actions = []\n",
        "    for ix in range(len(df)):\n",
        "        verbs = df.verbs.iloc[ix]\n",
        "        actions.append(list(map(lambda x: pluralize(x), verbs)))\n",
        "    return actions\n",
        "\n",
        "def comb_csm(x):\n",
        "    \"\"\"Combine character and short motivation.\"\"\"\n",
        "    x[\"character_sm\"] = f'{x[\"character\"]} - {x[\"short_motivation\"]}'\n",
        "    return x\n",
        "\n",
        "def comb_clsm(x):\n",
        "    \"\"\"Combine char + motivation w/ setting + desc.\"\"\"\n",
        "    x[\"clsm\"] = f'{x[\"character_sm\"]} - {x[\"location\"]}'\n",
        "    return x\n",
        "\n",
        "def comb_sd(x):\n",
        "    \"\"\"Combine setting and description of location.\"\"\"\n",
        "    x[\"setdesc\"] = f'{x[\"setting\"]} - {x[\"description\"]}'\n",
        "    return x\n",
        "\n",
        "def tok_func(x):\n",
        "    \"\"\"Tokenize character prompt, short motivation completion.\"\"\"\n",
        "    tok = tokenizer(x[\"character\"], padding=True, truncation=True)\n",
        "    x[\"input_ids\"] = tok[\"input_ids\"]\n",
        "    x[\"attention_mask\"] = tok[\"attention_mask\"]\n",
        "    labels = tokenizer(x['short_motivation'], padding=True, truncation=True)[\"input_ids\"]\n",
        "    labels = [label if label != tokenizer.pad_token_id else -100 for label in labels]\n",
        "    x[\"labels\"] = labels\n",
        "    return x\n",
        "\n",
        "def tok_func2(x):\n",
        "    \"\"\"Tokenize combined prompt, action sequence completion.\"\"\"\n",
        "    tok = tokenizer(x[\"clsm\"], padding=True, truncation=True)\n",
        "    x[\"input_ids\"] = tok[\"input_ids\"]\n",
        "    x[\"attention_mask\"] = tok[\"attention_mask\"]\n",
        "    labels = tokenizer(x['quest'], padding=True, truncation=True)[\"input_ids\"]\n",
        "    labels = [label if label != tokenizer.pad_token_id else -100 for label in labels]\n",
        "    x[\"labels\"] = labels\n",
        "    return x\n",
        "\n",
        "def filt_g(x, g):\n",
        "    \"\"\"Tokenize combined prompt, action sequence completion.\"\"\"\n",
        "    tok = tokenizer(x[\"clsm\"], padding=True, truncation=True)\n",
        "    x[\"input_ids\"] = tok[\"input_ids\"]\n",
        "    x[\"attention_mask\"] = tok[\"attention_mask\"]\n",
        "    labels = tokenizer(x['quest'], padding=True, truncation=True)[\"input_ids\"]\n",
        "    labels = [label if label != tokenizer.pad_token_id else -100 for label in labels]\n",
        "    x[\"labels\"] = labels\n",
        "    return x\n",
        "\n",
        "def get_char_name(x):\n",
        "    \"\"\"Get names of characters in locations.\"\"\"\n",
        "    l = []\n",
        "    for cid in x[\"in_characters\"]:\n",
        "        name = dfc[dfc.character_id == cid].name\n",
        "        l.append(name.values[0])\n",
        "    x[\"characters\"] = list(set(l))\n",
        "    return x\n",
        "\n",
        "def extract_room(x):\n",
        "    \"\"\"Assumes start location is after prefix.\"\"\"\n",
        "    desc = x[\"description\"].split(\".\")[0]\n",
        "    sub = \"You are in \"\n",
        "    x[\"location\"] = (desc[len(sub):].title())\n",
        "    return x\n",
        "\n",
        "def check_gender(x):\n",
        "    \"\"\"Extract crowdsourced gender of character or N/A.\"\"\"\n",
        "    words = list(map(lambda w: w.lower(), x[\"character\"].split()))\n",
        "    for w in words:\n",
        "        res = gdf.loc[:, [\"word\", \"gender\"]][gdf.word == w]\n",
        "        if len(res) > 0:\n",
        "            rez = res.gender.values[0]\n",
        "            x[\"gender\"] = rez\n",
        "            return x\n",
        "    if len(res.gender.values) == 0:\n",
        "        x[\"gender\"] = \"NA\"\n",
        "        return x\n",
        "\n",
        "def check_gender_new(x):\n",
        "    \"\"\"Extract crowdsourced gender of character or N/A.\"\"\"\n",
        "    words = list(map(lambda w: w.lower(), x[\"character\"].split()))\n",
        "    for w in words:\n",
        "        res = persona_id_df.loc[:, [\"shortname\", \"gender\"]][persona_id_df.shortname.str.lower() == w]\n",
        "        if len(res) > 0:\n",
        "            rez = res.gender.values[0]\n",
        "            x[\"gender\"] = rez\n",
        "            return x\n",
        "    if len(res.gender.values) == 0:\n",
        "        x[\"gender\"] = \"N\"\n",
        "        return x\n",
        "\n",
        "def get_agencies(x):\n",
        "    d = dict()\n",
        "    s = x[\"quest\"]\n",
        "    try:\n",
        "        sett = set(map(lambda w: pluralize(w).replace(\"s,s\", \"es\").replace(\",s\", \"s\"),\n",
        "                   s.split()))\n",
        "    except AttributeError:\n",
        "        return None\n",
        "    for w in sett:\n",
        "        try:\n",
        "            d[w] = rdf.query(f\"verb == '{w}'\").agency.values[0]\n",
        "        except:\n",
        "            pass\n",
        "    x[\"agencies\"] = d\n",
        "    return x\n",
        "\n",
        "def get_agencies_i(s):\n",
        "    try:\n",
        "        sett = set(map(lambda w: pluralize(w.split()[0]).replace(\"s,s\", \"es\").replace(\",s\", \"s\"), s.split(\",\")))\n",
        "    except AttributeError:\n",
        "        return None\n",
        "\n",
        "    d = {w: 0 for w in sett}\n",
        "    dd = {\"agency_pos\": 1, \"agency_equal\": 0}\n",
        "    for w in sett:\n",
        "        rdf = agency_power_df[agency_power_df.verb.str.contains(w)].fillna(\"power_equal\")\n",
        "        rdf[\"agency\"] = rdf.agency.apply(lambda x: dd.get(x, -1))\n",
        "        try:\n",
        "            d[w] = rdf.query(f\"verb == '{w}'\").agency.values[0]\n",
        "        except:\n",
        "            pass\n",
        "    return d"
      ]
    },
    {
      "cell_type": "markdown",
      "metadata": {
        "id": "a060GjHBKlpN"
      },
      "source": [
        "### V. Data"
      ]
    },
    {
      "cell_type": "markdown",
      "metadata": {
        "id": "Vp0HK80-X2TC"
      },
      "source": [
        "#### A. Load original data for processing if not already processed and saved."
      ]
    },
    {
      "cell_type": "markdown",
      "metadata": {
        "id": "VlbRmtIOzIxr"
      },
      "source": [
        "###### Load [environment](https://github.com/interactive-fiction-class/interactive-fiction-class-data/tree/master/) data\n",
        "and create dataframe with locations as combined settings and descriptions, with associated characters within locations."
      ]
    },
    {
      "cell_type": "code",
      "execution_count": null,
      "metadata": {
        "id": "Qf7gITCkevWA"
      },
      "outputs": [],
      "source": [
        "json_filename = f\"{DATA_PTH}light_environment_train.json\"\n",
        "f = open(json_filename)\n",
        "light_environment = json.load(f)"
      ]
    },
    {
      "cell_type": "markdown",
      "metadata": {
        "id": "lQady9jDul2J"
      },
      "source": [
        "###### Load [gender](https://aclanthology.org/2020.emnlp-main.656.pdf) for Light"
      ]
    },
    {
      "cell_type": "code",
      "execution_count": null,
      "metadata": {
        "id": "XdA2abrdIGKY"
      },
      "outputs": [],
      "source": [
        "persona_id_df = pd.read_pickle(f\"{DATA_PTH}updated_genderation.pkl\")"
      ]
    },
    {
      "cell_type": "markdown",
      "source": [
        "##### Or create by loading gender annotations, combining with persona data in dataframe, save in order to load above:"
      ],
      "metadata": {
        "id": "Wedki3uxEHGB"
      }
    },
    {
      "cell_type": "code",
      "execution_count": null,
      "metadata": {
        "id": "WExK1-PvGoQf"
      },
      "outputs": [],
      "source": [
        "!cp $DATA_PTH/genderation_bias.tar .\n",
        "!tar -xf genderation_bias.tar"
      ]
    },
    {
      "cell_type": "code",
      "execution_count": null,
      "metadata": {
        "id": "9YHgNdOY636Y"
      },
      "outputs": [],
      "source": [
        "gender_df = pd.read_csv(\"gendered_list.tsv\", sep=\"\\t\")"
      ]
    },
    {
      "cell_type": "code",
      "execution_count": null,
      "metadata": {
        "id": "tGITwzVGl88H"
      },
      "outputs": [],
      "source": [
        "personas = json.load(open(\"/../content/data_to_release/light/personas.json\",\n",
        "                          'rb'))['old']"
      ]
    },
    {
      "cell_type": "code",
      "execution_count": null,
      "metadata": {
        "id": "hJoqYuyOmx6N"
      },
      "outputs": [],
      "source": [
        "persona_map_by_no = dict()\n",
        "for gender, lst in personas.items():\n",
        "    for x in lst:\n",
        "        x[\"gender\"] = gender\n",
        "        persona_map_by_no[int(x['char_id'])] = {k: v\n",
        "                                                for k, v in x.items()\n",
        "                                                if k not in [\"flagged\",\n",
        "                                                             \"char_id\"]}"
      ]
    },
    {
      "cell_type": "code",
      "execution_count": null,
      "metadata": {
        "id": "GJozh0BTm9V1"
      },
      "outputs": [],
      "source": [
        "persona_id_df = pd.DataFrame.from_dict(persona_map_by_no, orient='index')\n",
        "persona_id_df = persona_id_df.sort_index(ascending=True)"
      ]
    },
    {
      "cell_type": "markdown",
      "metadata": {
        "id": "OD5Sq5ofF8tS"
      },
      "source": [
        "##### Load quest data\n",
        "\n",
        "with persona information and quests, combining character and location information with quest action sequences."
      ]
    },
    {
      "cell_type": "code",
      "execution_count": null,
      "metadata": {
        "id": "mFMgFOT97XWp"
      },
      "outputs": [],
      "source": [
        "dfq = pd.read_json(f\"{DATA_PTH}light_quests.jsonl\", lines=True)\n",
        "quest_dataset = load_dataset(\"json\",\n",
        "                             data_files=f\"{DATA_PTH}light_quests.jsonl\",\n",
        "                             split=\"train\")"
      ]
    },
    {
      "cell_type": "code",
      "source": [
        "display(dfq.shape)\n",
        "dfq.head()"
      ],
      "metadata": {
        "colab": {
          "base_uri": "https://localhost:8080/",
          "height": 892
        },
        "id": "EJBGFUeNA7I6",
        "outputId": "da82be8d-2545-4b94-d361-d779a54dbc82"
      },
      "execution_count": null,
      "outputs": [
        {
          "output_type": "display_data",
          "data": {
            "text/plain": [
              "(7486, 8)"
            ]
          },
          "metadata": {}
        },
        {
          "output_type": "execute_result",
          "data": {
            "text/plain": [
              "      character                                            persona  \\\n",
              "0   The Empress  I am the ruler of three kingdoms. I am known f...   \n",
              "1    The Bedbug  I am a bug that lives in the bed of a small in...   \n",
              "2  A Gamekeeper  I am the gamekeeper of the countryside to the ...   \n",
              "3      The King  I am a King who rules a vast and mighty land. ...   \n",
              "4     The Witch  I only mastered one spell in witch school. I c...   \n",
              "\n",
              "                                         description                 goal  \\\n",
              "0  You are in the Temple main room.\\nThe massive ...    give coin to monk   \n",
              "1  You are in the Bedroom.\\nThe bedroom is simple...             get wall   \n",
              "2  You are in the kitchen.\\nNeat, and well kept. ...         get utensils   \n",
              "3  You are in the The room at the top of the towe...  remove diamond ring   \n",
              "4  You are in the Behind the Servant Quarters.\\nD...            drop rock   \n",
              "\n",
              "                                    short_motivation  \\\n",
              "0                I want to give offering to the monk   \n",
              "1  I need to get the wall so that I can crawl clo...   \n",
              "2                               I need to skin a fox   \n",
              "3     I want to give the diamond ring to the knight    \n",
              "4  I need to drop the rock so that I can pick up ...   \n",
              "\n",
              "                                      mid_motivation  \\\n",
              "0  I want the monk to offer prayers today for my ...   \n",
              "1  I will be going to the bed of the town baker s...   \n",
              "2  I want a fox pelt to use in training my huntin...   \n",
              "3  I want the knight to take the diamond ring to ...   \n",
              "4  I am going to look through the filth in the Se...   \n",
              "\n",
              "                                     long_motivation  \\\n",
              "0  I hope to conquer a fourth kingdom in the comi...   \n",
              "1  I am going to find a nice place where I can bu...   \n",
              "2  I must train my dogs so that when the king vis...   \n",
              "3  I hope to lead my country right during this tr...   \n",
              "4  I am going to perform really well so that I ca...   \n",
              "\n",
              "                                            timeline  \n",
              "0  [{'label': '2 hours ago', 'action': 'wear Arro...  \n",
              "1  [{'label': '1 hour ago', 'action': 'follow mic...  \n",
              "2  [{'label': '1 hour ago', 'action': 'go kitchen...  \n",
              "3  [{'label': '15 minutes ago', 'action': 'get Gl...  \n",
              "4  [{'label': '4 hours ago', 'action': 'wear unif...  "
            ],
            "text/html": [
              "\n",
              "  <div id=\"df-93d95733-0d6b-496c-81d3-9ebd9beed69b\">\n",
              "    <div class=\"colab-df-container\">\n",
              "      <div>\n",
              "<style scoped>\n",
              "    .dataframe tbody tr th:only-of-type {\n",
              "        vertical-align: middle;\n",
              "    }\n",
              "\n",
              "    .dataframe tbody tr th {\n",
              "        vertical-align: top;\n",
              "    }\n",
              "\n",
              "    .dataframe thead th {\n",
              "        text-align: right;\n",
              "    }\n",
              "</style>\n",
              "<table border=\"1\" class=\"dataframe\">\n",
              "  <thead>\n",
              "    <tr style=\"text-align: right;\">\n",
              "      <th></th>\n",
              "      <th>character</th>\n",
              "      <th>persona</th>\n",
              "      <th>description</th>\n",
              "      <th>goal</th>\n",
              "      <th>short_motivation</th>\n",
              "      <th>mid_motivation</th>\n",
              "      <th>long_motivation</th>\n",
              "      <th>timeline</th>\n",
              "    </tr>\n",
              "  </thead>\n",
              "  <tbody>\n",
              "    <tr>\n",
              "      <th>0</th>\n",
              "      <td>The Empress</td>\n",
              "      <td>I am the ruler of three kingdoms. I am known f...</td>\n",
              "      <td>You are in the Temple main room.\\nThe massive ...</td>\n",
              "      <td>give coin to monk</td>\n",
              "      <td>I want to give offering to the monk</td>\n",
              "      <td>I want the monk to offer prayers today for my ...</td>\n",
              "      <td>I hope to conquer a fourth kingdom in the comi...</td>\n",
              "      <td>[{'label': '2 hours ago', 'action': 'wear Arro...</td>\n",
              "    </tr>\n",
              "    <tr>\n",
              "      <th>1</th>\n",
              "      <td>The Bedbug</td>\n",
              "      <td>I am a bug that lives in the bed of a small in...</td>\n",
              "      <td>You are in the Bedroom.\\nThe bedroom is simple...</td>\n",
              "      <td>get wall</td>\n",
              "      <td>I need to get the wall so that I can crawl clo...</td>\n",
              "      <td>I will be going to the bed of the town baker s...</td>\n",
              "      <td>I am going to find a nice place where I can bu...</td>\n",
              "      <td>[{'label': '1 hour ago', 'action': 'follow mic...</td>\n",
              "    </tr>\n",
              "    <tr>\n",
              "      <th>2</th>\n",
              "      <td>A Gamekeeper</td>\n",
              "      <td>I am the gamekeeper of the countryside to the ...</td>\n",
              "      <td>You are in the kitchen.\\nNeat, and well kept. ...</td>\n",
              "      <td>get utensils</td>\n",
              "      <td>I need to skin a fox</td>\n",
              "      <td>I want a fox pelt to use in training my huntin...</td>\n",
              "      <td>I must train my dogs so that when the king vis...</td>\n",
              "      <td>[{'label': '1 hour ago', 'action': 'go kitchen...</td>\n",
              "    </tr>\n",
              "    <tr>\n",
              "      <th>3</th>\n",
              "      <td>The King</td>\n",
              "      <td>I am a King who rules a vast and mighty land. ...</td>\n",
              "      <td>You are in the The room at the top of the towe...</td>\n",
              "      <td>remove diamond ring</td>\n",
              "      <td>I want to give the diamond ring to the knight</td>\n",
              "      <td>I want the knight to take the diamond ring to ...</td>\n",
              "      <td>I hope to lead my country right during this tr...</td>\n",
              "      <td>[{'label': '15 minutes ago', 'action': 'get Gl...</td>\n",
              "    </tr>\n",
              "    <tr>\n",
              "      <th>4</th>\n",
              "      <td>The Witch</td>\n",
              "      <td>I only mastered one spell in witch school. I c...</td>\n",
              "      <td>You are in the Behind the Servant Quarters.\\nD...</td>\n",
              "      <td>drop rock</td>\n",
              "      <td>I need to drop the rock so that I can pick up ...</td>\n",
              "      <td>I am going to look through the filth in the Se...</td>\n",
              "      <td>I am going to perform really well so that I ca...</td>\n",
              "      <td>[{'label': '4 hours ago', 'action': 'wear unif...</td>\n",
              "    </tr>\n",
              "  </tbody>\n",
              "</table>\n",
              "</div>\n",
              "      <button class=\"colab-df-convert\" onclick=\"convertToInteractive('df-93d95733-0d6b-496c-81d3-9ebd9beed69b')\"\n",
              "              title=\"Convert this dataframe to an interactive table.\"\n",
              "              style=\"display:none;\">\n",
              "        \n",
              "  <svg xmlns=\"http://www.w3.org/2000/svg\" height=\"24px\"viewBox=\"0 0 24 24\"\n",
              "       width=\"24px\">\n",
              "    <path d=\"M0 0h24v24H0V0z\" fill=\"none\"/>\n",
              "    <path d=\"M18.56 5.44l.94 2.06.94-2.06 2.06-.94-2.06-.94-.94-2.06-.94 2.06-2.06.94zm-11 1L8.5 8.5l.94-2.06 2.06-.94-2.06-.94L8.5 2.5l-.94 2.06-2.06.94zm10 10l.94 2.06.94-2.06 2.06-.94-2.06-.94-.94-2.06-.94 2.06-2.06.94z\"/><path d=\"M17.41 7.96l-1.37-1.37c-.4-.4-.92-.59-1.43-.59-.52 0-1.04.2-1.43.59L10.3 9.45l-7.72 7.72c-.78.78-.78 2.05 0 2.83L4 21.41c.39.39.9.59 1.41.59.51 0 1.02-.2 1.41-.59l7.78-7.78 2.81-2.81c.8-.78.8-2.07 0-2.86zM5.41 20L4 18.59l7.72-7.72 1.47 1.35L5.41 20z\"/>\n",
              "  </svg>\n",
              "      </button>\n",
              "      \n",
              "  <style>\n",
              "    .colab-df-container {\n",
              "      display:flex;\n",
              "      flex-wrap:wrap;\n",
              "      gap: 12px;\n",
              "    }\n",
              "\n",
              "    .colab-df-convert {\n",
              "      background-color: #E8F0FE;\n",
              "      border: none;\n",
              "      border-radius: 50%;\n",
              "      cursor: pointer;\n",
              "      display: none;\n",
              "      fill: #1967D2;\n",
              "      height: 32px;\n",
              "      padding: 0 0 0 0;\n",
              "      width: 32px;\n",
              "    }\n",
              "\n",
              "    .colab-df-convert:hover {\n",
              "      background-color: #E2EBFA;\n",
              "      box-shadow: 0px 1px 2px rgba(60, 64, 67, 0.3), 0px 1px 3px 1px rgba(60, 64, 67, 0.15);\n",
              "      fill: #174EA6;\n",
              "    }\n",
              "\n",
              "    [theme=dark] .colab-df-convert {\n",
              "      background-color: #3B4455;\n",
              "      fill: #D2E3FC;\n",
              "    }\n",
              "\n",
              "    [theme=dark] .colab-df-convert:hover {\n",
              "      background-color: #434B5C;\n",
              "      box-shadow: 0px 1px 3px 1px rgba(0, 0, 0, 0.15);\n",
              "      filter: drop-shadow(0px 1px 2px rgba(0, 0, 0, 0.3));\n",
              "      fill: #FFFFFF;\n",
              "    }\n",
              "  </style>\n",
              "\n",
              "      <script>\n",
              "        const buttonEl =\n",
              "          document.querySelector('#df-93d95733-0d6b-496c-81d3-9ebd9beed69b button.colab-df-convert');\n",
              "        buttonEl.style.display =\n",
              "          google.colab.kernel.accessAllowed ? 'block' : 'none';\n",
              "\n",
              "        async function convertToInteractive(key) {\n",
              "          const element = document.querySelector('#df-93d95733-0d6b-496c-81d3-9ebd9beed69b');\n",
              "          const dataTable =\n",
              "            await google.colab.kernel.invokeFunction('convertToInteractive',\n",
              "                                                     [key], {});\n",
              "          if (!dataTable) return;\n",
              "\n",
              "          const docLinkHtml = 'Like what you see? Visit the ' +\n",
              "            '<a target=\"_blank\" href=https://colab.research.google.com/notebooks/data_table.ipynb>data table notebook</a>'\n",
              "            + ' to learn more about interactive tables.';\n",
              "          element.innerHTML = '';\n",
              "          dataTable['output_type'] = 'display_data';\n",
              "          await google.colab.output.renderOutput(dataTable, element);\n",
              "          const docLink = document.createElement('div');\n",
              "          docLink.innerHTML = docLinkHtml;\n",
              "          element.appendChild(docLink);\n",
              "        }\n",
              "      </script>\n",
              "    </div>\n",
              "  </div>\n",
              "  "
            ],
            "application/vnd.google.colaboratory.module+javascript": "\n      import \"https://ssl.gstatic.com/colaboratory/data_table/a8bd4d5e58f96183/data_table.js\";\n\n      window.createDataTable({\n        data: [[{\n            'v': 0,\n            'f': \"0\",\n        },\n\"The Empress\",\n\"I am the ruler of three kingdoms. I am known for my feats of archery. I do not suffer fools.\",\n\"You are in the Temple main room.\\nThe massive statues are the biggest sight to behold of this room. There are four main statues, all of which resemble old monks of passed time who once served the Temple. Adjacent to these statues are drapes that fall from a 50ft ceiling all of which have their own distinct color and symbol, representing different villages in the area. There are massive pews on both sides of the room, adjacent to the red carpet down the center leading to the main throne under the statues.\\nThe monk is here.\\n\\nYou are carrying a coin, wearing a Arrow, and wielding a bow.\",\n\"give coin to monk\",\n\"I want to give offering to the monk\",\n\"I want the monk to offer prayers today for my next expedition \",\n\"I hope to conquer a fourth kingdom in the coming months \",\n[\"{'label': '2 hours ago', 'action': 'wear Arrow '}\", \"{'label': '30 minutes ago', 'action': 'get Coin'}\", \"{'label': '10 minutes ago', 'action': 'go Temple main room'}\", \"{'label': '10 minutes from now', 'action': 'drop Bow'}\", \"{'label': '30 minutes from now', 'action': 'follow Monk'}\", \"{'label': '1 hour from now', 'action': 'go The palace '}\"]],\n [{\n            'v': 1,\n            'f': \"1\",\n        },\n\"The Bedbug\",\n\"I am a bug that lives in the bed of a small inn.  I suck blood from people when they sleep.  I was brought to tavern by a peasant coming to seek a better life in the city.\",\n\"You are in the Bedroom.\\nThe bedroom is simple and yet homey. There is a small wooden bed covered in a colorful homemade quilt. There is a small wooden cabinet for storing the second pair of clothing. A colorful homemade tapestry brightens a wall.\\nThere's a straw mattress, a colorful homemade quilt, a second pair of clothing, a small wooden bed, a wall, a colorful homemade tapestry, and a small wooden cabinet here.\\nThe town baker and the mice are here.\\n\\nYou are carrying nothing.\",\n\"get wall\",\n\"I need to get the wall so that I can crawl closer to the bed. \",\n\"I will be going to the bed of the town baker so that I can suck the town baker's blood while they sleep. \",\n\"I am going to find a nice place where I can build my nest and suck someone's blood. \",\n[\"{'label': '1 hour ago', 'action': 'follow mice'}\", \"{'label': '15 minutes ago', 'action': 'go Bedroom'}\", \"{'label': '10 minutes ago', 'action': 'follow town baker'}\", \"{'label': '10 minutes from now', 'action': 'go wooden bed'}\", \"{'label': '1 hour from now', 'action': 'hug town baker'}\", \"{'label': '4 hours from now', 'action': 'eat blood'}\"]],\n [{\n            'v': 2,\n            'f': \"2\",\n        },\n\"A Gamekeeper\",\n\"I am the gamekeeper of the countryside to the west of the castle extending all the way to the river.  My land is popular for hunting foxes and I get very excited when the king visits for a hunt.  I am frequently irritable and yell at my helpers.\",\n\"You are in the kitchen.\\nNeat, and well kept. Everything in its place and a place for everything. Dishes and utensils hang from the ceiling above the chef must take great pride in his art and craft. The Iron grill over the fireplace must be where the magic happens.\\nThere's some utensils, an iron grill, a pot, a knife, a chicken, and a room here.\\nA pastry chef and a milk maid are here.\\n\\nYou are carrying nothing.\",\n\"get utensils\",\n\"I need to skin a fox\",\n\"I want a fox pelt to use in training my hunting dogs\",\n\"I must train my dogs so that when the king visits, I am prepared for the big hunt\",\n[\"{'label': '1 hour ago', 'action': 'go kitchen'}\", \"{'label': '15 minutes ago', 'action': 'eat chicken'}\", \"{'label': '10 minutes ago', 'action': 'get knife'}\", \"{'label': '10 minutes from now', 'action': 'use knife with dead fox'}\", \"{'label': '15 minutes from now', 'action': 'use utensils with fox pelt'}\", \"{'label': '1 hour from now', 'action': 'go dog kennel'}\"]],\n [{\n            'v': 3,\n            'f': \"3\",\n        },\n\"The King\",\n\"I am a King who rules a vast and mighty land. I have a General who is my best friend. I believe in peace through strength, and I love to have a big army. I like to celebrate with wine and meats!\",\n\"You are in the The room at the top of the tower.\\nSmall and round, the room is accessed by a spiral staircase. The room has stone walls, wooden floors and a decoratively carved wooden rocking chair next to a which looks over the castle's moat and the meadows and woodlands beyond.\\nThere's a window, a wooden floors, a spiral staircase, a wall, a moat, a meadow, and a woodland here.\\nThe knight is here.\\n\\nYou are carrying a crown and a glass, and wearing a diamond ring and a Necklaces.\",\n\"remove diamond ring\",\n\"I want to give the diamond ring to the knight \",\n\"I want the knight to take the diamond ring to my queen today \",\n\"I hope to lead my country right during this trying weeks with my queen by my side\",\n[\"{'label': '15 minutes ago', 'action': 'get Glass'}\", \"{'label': '10 minutes ago', 'action': 'follow Knight'}\", \"{'label': '5 minutes ago', 'action': 'go The room at the top of the tower'}\", \"{'label': '5 minutes from now', 'action': 'give Diamond ring  to Knight'}\", \"{'label': '15 minutes from now', 'action': 'drop Glass'}\", \"{'label': '2 hours from now', 'action': 'go Throne room '}\"]],\n [{\n            'v': 4,\n            'f': \"4\",\n        },\n\"The Witch\",\n\"I only mastered one spell in witch school. I can speak with inanimate objects. I use this spell in espionage. I work for the government.\",\n\"You are in the Behind the Servant Quarters.\\nDirty and dismal. This wasteland sprawls behind the Servant Quarters. It is where all the filth from kingdom is dumped.\\nThere's a bag, a rock, and a filth from kingdom here.\\nThe homeless person is here.\\n\\nYou are carrying nothing.\",\n\"drop rock\",\n\"I need to drop the rock so that I can pick up the bag and check its contents. \",\n\"I am going to look through the filth in the Servant Quarters to gather some information about a spy disguised as a servant. \",\n\"I am going to perform really well so that I can get promoted. \",\n[\"{'label': '4 hours ago', 'action': 'wear uniform'}\", \"{'label': '30 minutes ago', 'action': 'go Behind the Servant Quarters'}\", \"{'label': '5 minutes ago', 'action': 'get rock'}\", \"{'label': '5 minutes from now', 'action': 'get bag'}\", \"{'label': '30 minutes from now', 'action': 'use bag with filth'}\", \"{'label': '1 hour from now', 'action': 'follow homeless person'}\"]]],\n        columns: [[\"number\", \"index\"], [\"string\", \"character\"], [\"string\", \"persona\"], [\"string\", \"description\"], [\"string\", \"goal\"], [\"string\", \"short_motivation\"], [\"string\", \"mid_motivation\"], [\"string\", \"long_motivation\"], [\"string\", \"timeline\"]],\n        columnOptions: [{\"width\": \"1px\", \"className\": \"index_column\"}],\n        rowsPerPage: 25,\n        helpUrl: \"https://colab.research.google.com/notebooks/data_table.ipynb\",\n        suppressOutputScrolling: true,\n        minimumWidth: undefined,\n      });\n    "
          },
          "metadata": {},
          "execution_count": 17
        }
      ]
    },
    {
      "cell_type": "code",
      "source": [
        "display(quest_dataset)\n",
        "pd.DataFrame(quest_dataset[0])"
      ],
      "metadata": {
        "colab": {
          "base_uri": "https://localhost:8080/",
          "height": 784
        },
        "id": "qAHVgXCpAvUz",
        "outputId": "5016edc4-a66b-44f3-e837-b85ebe06c888"
      },
      "execution_count": null,
      "outputs": [
        {
          "output_type": "display_data",
          "data": {
            "text/plain": [
              "Dataset({\n",
              "    features: ['character', 'persona', 'description', 'goal', 'short_motivation', 'mid_motivation', 'long_motivation', 'timeline'],\n",
              "    num_rows: 7486\n",
              "})"
            ]
          },
          "metadata": {}
        },
        {
          "output_type": "execute_result",
          "data": {
            "text/plain": [
              "     character                                            persona  \\\n",
              "0  The Empress  I am the ruler of three kingdoms. I am known f...   \n",
              "1  The Empress  I am the ruler of three kingdoms. I am known f...   \n",
              "2  The Empress  I am the ruler of three kingdoms. I am known f...   \n",
              "3  The Empress  I am the ruler of three kingdoms. I am known f...   \n",
              "4  The Empress  I am the ruler of three kingdoms. I am known f...   \n",
              "5  The Empress  I am the ruler of three kingdoms. I am known f...   \n",
              "\n",
              "                                         description               goal  \\\n",
              "0  You are in the Temple main room.\\nThe massive ...  give coin to monk   \n",
              "1  You are in the Temple main room.\\nThe massive ...  give coin to monk   \n",
              "2  You are in the Temple main room.\\nThe massive ...  give coin to monk   \n",
              "3  You are in the Temple main room.\\nThe massive ...  give coin to monk   \n",
              "4  You are in the Temple main room.\\nThe massive ...  give coin to monk   \n",
              "5  You are in the Temple main room.\\nThe massive ...  give coin to monk   \n",
              "\n",
              "                      short_motivation  \\\n",
              "0  I want to give offering to the monk   \n",
              "1  I want to give offering to the monk   \n",
              "2  I want to give offering to the monk   \n",
              "3  I want to give offering to the monk   \n",
              "4  I want to give offering to the monk   \n",
              "5  I want to give offering to the monk   \n",
              "\n",
              "                                      mid_motivation  \\\n",
              "0  I want the monk to offer prayers today for my ...   \n",
              "1  I want the monk to offer prayers today for my ...   \n",
              "2  I want the monk to offer prayers today for my ...   \n",
              "3  I want the monk to offer prayers today for my ...   \n",
              "4  I want the monk to offer prayers today for my ...   \n",
              "5  I want the monk to offer prayers today for my ...   \n",
              "\n",
              "                                     long_motivation  \\\n",
              "0  I hope to conquer a fourth kingdom in the comi...   \n",
              "1  I hope to conquer a fourth kingdom in the comi...   \n",
              "2  I hope to conquer a fourth kingdom in the comi...   \n",
              "3  I hope to conquer a fourth kingdom in the comi...   \n",
              "4  I hope to conquer a fourth kingdom in the comi...   \n",
              "5  I hope to conquer a fourth kingdom in the comi...   \n",
              "\n",
              "                                            timeline  \n",
              "0  {'label': '2 hours ago', 'action': 'wear Arrow '}  \n",
              "1  {'label': '30 minutes ago', 'action': 'get Coin'}  \n",
              "2  {'label': '10 minutes ago', 'action': 'go Temp...  \n",
              "3  {'label': '10 minutes from now', 'action': 'dr...  \n",
              "4  {'label': '30 minutes from now', 'action': 'fo...  \n",
              "5  {'label': '1 hour from now', 'action': 'go The...  "
            ],
            "text/html": [
              "\n",
              "  <div id=\"df-3a4e0118-acc2-4e04-9207-319f90781f85\">\n",
              "    <div class=\"colab-df-container\">\n",
              "      <div>\n",
              "<style scoped>\n",
              "    .dataframe tbody tr th:only-of-type {\n",
              "        vertical-align: middle;\n",
              "    }\n",
              "\n",
              "    .dataframe tbody tr th {\n",
              "        vertical-align: top;\n",
              "    }\n",
              "\n",
              "    .dataframe thead th {\n",
              "        text-align: right;\n",
              "    }\n",
              "</style>\n",
              "<table border=\"1\" class=\"dataframe\">\n",
              "  <thead>\n",
              "    <tr style=\"text-align: right;\">\n",
              "      <th></th>\n",
              "      <th>character</th>\n",
              "      <th>persona</th>\n",
              "      <th>description</th>\n",
              "      <th>goal</th>\n",
              "      <th>short_motivation</th>\n",
              "      <th>mid_motivation</th>\n",
              "      <th>long_motivation</th>\n",
              "      <th>timeline</th>\n",
              "    </tr>\n",
              "  </thead>\n",
              "  <tbody>\n",
              "    <tr>\n",
              "      <th>0</th>\n",
              "      <td>The Empress</td>\n",
              "      <td>I am the ruler of three kingdoms. I am known f...</td>\n",
              "      <td>You are in the Temple main room.\\nThe massive ...</td>\n",
              "      <td>give coin to monk</td>\n",
              "      <td>I want to give offering to the monk</td>\n",
              "      <td>I want the monk to offer prayers today for my ...</td>\n",
              "      <td>I hope to conquer a fourth kingdom in the comi...</td>\n",
              "      <td>{'label': '2 hours ago', 'action': 'wear Arrow '}</td>\n",
              "    </tr>\n",
              "    <tr>\n",
              "      <th>1</th>\n",
              "      <td>The Empress</td>\n",
              "      <td>I am the ruler of three kingdoms. I am known f...</td>\n",
              "      <td>You are in the Temple main room.\\nThe massive ...</td>\n",
              "      <td>give coin to monk</td>\n",
              "      <td>I want to give offering to the monk</td>\n",
              "      <td>I want the monk to offer prayers today for my ...</td>\n",
              "      <td>I hope to conquer a fourth kingdom in the comi...</td>\n",
              "      <td>{'label': '30 minutes ago', 'action': 'get Coin'}</td>\n",
              "    </tr>\n",
              "    <tr>\n",
              "      <th>2</th>\n",
              "      <td>The Empress</td>\n",
              "      <td>I am the ruler of three kingdoms. I am known f...</td>\n",
              "      <td>You are in the Temple main room.\\nThe massive ...</td>\n",
              "      <td>give coin to monk</td>\n",
              "      <td>I want to give offering to the monk</td>\n",
              "      <td>I want the monk to offer prayers today for my ...</td>\n",
              "      <td>I hope to conquer a fourth kingdom in the comi...</td>\n",
              "      <td>{'label': '10 minutes ago', 'action': 'go Temp...</td>\n",
              "    </tr>\n",
              "    <tr>\n",
              "      <th>3</th>\n",
              "      <td>The Empress</td>\n",
              "      <td>I am the ruler of three kingdoms. I am known f...</td>\n",
              "      <td>You are in the Temple main room.\\nThe massive ...</td>\n",
              "      <td>give coin to monk</td>\n",
              "      <td>I want to give offering to the monk</td>\n",
              "      <td>I want the monk to offer prayers today for my ...</td>\n",
              "      <td>I hope to conquer a fourth kingdom in the comi...</td>\n",
              "      <td>{'label': '10 minutes from now', 'action': 'dr...</td>\n",
              "    </tr>\n",
              "    <tr>\n",
              "      <th>4</th>\n",
              "      <td>The Empress</td>\n",
              "      <td>I am the ruler of three kingdoms. I am known f...</td>\n",
              "      <td>You are in the Temple main room.\\nThe massive ...</td>\n",
              "      <td>give coin to monk</td>\n",
              "      <td>I want to give offering to the monk</td>\n",
              "      <td>I want the monk to offer prayers today for my ...</td>\n",
              "      <td>I hope to conquer a fourth kingdom in the comi...</td>\n",
              "      <td>{'label': '30 minutes from now', 'action': 'fo...</td>\n",
              "    </tr>\n",
              "    <tr>\n",
              "      <th>5</th>\n",
              "      <td>The Empress</td>\n",
              "      <td>I am the ruler of three kingdoms. I am known f...</td>\n",
              "      <td>You are in the Temple main room.\\nThe massive ...</td>\n",
              "      <td>give coin to monk</td>\n",
              "      <td>I want to give offering to the monk</td>\n",
              "      <td>I want the monk to offer prayers today for my ...</td>\n",
              "      <td>I hope to conquer a fourth kingdom in the comi...</td>\n",
              "      <td>{'label': '1 hour from now', 'action': 'go The...</td>\n",
              "    </tr>\n",
              "  </tbody>\n",
              "</table>\n",
              "</div>\n",
              "      <button class=\"colab-df-convert\" onclick=\"convertToInteractive('df-3a4e0118-acc2-4e04-9207-319f90781f85')\"\n",
              "              title=\"Convert this dataframe to an interactive table.\"\n",
              "              style=\"display:none;\">\n",
              "        \n",
              "  <svg xmlns=\"http://www.w3.org/2000/svg\" height=\"24px\"viewBox=\"0 0 24 24\"\n",
              "       width=\"24px\">\n",
              "    <path d=\"M0 0h24v24H0V0z\" fill=\"none\"/>\n",
              "    <path d=\"M18.56 5.44l.94 2.06.94-2.06 2.06-.94-2.06-.94-.94-2.06-.94 2.06-2.06.94zm-11 1L8.5 8.5l.94-2.06 2.06-.94-2.06-.94L8.5 2.5l-.94 2.06-2.06.94zm10 10l.94 2.06.94-2.06 2.06-.94-2.06-.94-.94-2.06-.94 2.06-2.06.94z\"/><path d=\"M17.41 7.96l-1.37-1.37c-.4-.4-.92-.59-1.43-.59-.52 0-1.04.2-1.43.59L10.3 9.45l-7.72 7.72c-.78.78-.78 2.05 0 2.83L4 21.41c.39.39.9.59 1.41.59.51 0 1.02-.2 1.41-.59l7.78-7.78 2.81-2.81c.8-.78.8-2.07 0-2.86zM5.41 20L4 18.59l7.72-7.72 1.47 1.35L5.41 20z\"/>\n",
              "  </svg>\n",
              "      </button>\n",
              "      \n",
              "  <style>\n",
              "    .colab-df-container {\n",
              "      display:flex;\n",
              "      flex-wrap:wrap;\n",
              "      gap: 12px;\n",
              "    }\n",
              "\n",
              "    .colab-df-convert {\n",
              "      background-color: #E8F0FE;\n",
              "      border: none;\n",
              "      border-radius: 50%;\n",
              "      cursor: pointer;\n",
              "      display: none;\n",
              "      fill: #1967D2;\n",
              "      height: 32px;\n",
              "      padding: 0 0 0 0;\n",
              "      width: 32px;\n",
              "    }\n",
              "\n",
              "    .colab-df-convert:hover {\n",
              "      background-color: #E2EBFA;\n",
              "      box-shadow: 0px 1px 2px rgba(60, 64, 67, 0.3), 0px 1px 3px 1px rgba(60, 64, 67, 0.15);\n",
              "      fill: #174EA6;\n",
              "    }\n",
              "\n",
              "    [theme=dark] .colab-df-convert {\n",
              "      background-color: #3B4455;\n",
              "      fill: #D2E3FC;\n",
              "    }\n",
              "\n",
              "    [theme=dark] .colab-df-convert:hover {\n",
              "      background-color: #434B5C;\n",
              "      box-shadow: 0px 1px 3px 1px rgba(0, 0, 0, 0.15);\n",
              "      filter: drop-shadow(0px 1px 2px rgba(0, 0, 0, 0.3));\n",
              "      fill: #FFFFFF;\n",
              "    }\n",
              "  </style>\n",
              "\n",
              "      <script>\n",
              "        const buttonEl =\n",
              "          document.querySelector('#df-3a4e0118-acc2-4e04-9207-319f90781f85 button.colab-df-convert');\n",
              "        buttonEl.style.display =\n",
              "          google.colab.kernel.accessAllowed ? 'block' : 'none';\n",
              "\n",
              "        async function convertToInteractive(key) {\n",
              "          const element = document.querySelector('#df-3a4e0118-acc2-4e04-9207-319f90781f85');\n",
              "          const dataTable =\n",
              "            await google.colab.kernel.invokeFunction('convertToInteractive',\n",
              "                                                     [key], {});\n",
              "          if (!dataTable) return;\n",
              "\n",
              "          const docLinkHtml = 'Like what you see? Visit the ' +\n",
              "            '<a target=\"_blank\" href=https://colab.research.google.com/notebooks/data_table.ipynb>data table notebook</a>'\n",
              "            + ' to learn more about interactive tables.';\n",
              "          element.innerHTML = '';\n",
              "          dataTable['output_type'] = 'display_data';\n",
              "          await google.colab.output.renderOutput(dataTable, element);\n",
              "          const docLink = document.createElement('div');\n",
              "          docLink.innerHTML = docLinkHtml;\n",
              "          element.appendChild(docLink);\n",
              "        }\n",
              "      </script>\n",
              "    </div>\n",
              "  </div>\n",
              "  "
            ],
            "application/vnd.google.colaboratory.module+javascript": "\n      import \"https://ssl.gstatic.com/colaboratory/data_table/a8bd4d5e58f96183/data_table.js\";\n\n      window.createDataTable({\n        data: [[{\n            'v': 0,\n            'f': \"0\",\n        },\n\"The Empress\",\n\"I am the ruler of three kingdoms. I am known for my feats of archery. I do not suffer fools.\",\n\"You are in the Temple main room.\\nThe massive statues are the biggest sight to behold of this room. There are four main statues, all of which resemble old monks of passed time who once served the Temple. Adjacent to these statues are drapes that fall from a 50ft ceiling all of which have their own distinct color and symbol, representing different villages in the area. There are massive pews on both sides of the room, adjacent to the red carpet down the center leading to the main throne under the statues.\\nThe monk is here.\\n\\nYou are carrying a coin, wearing a Arrow, and wielding a bow.\",\n\"give coin to monk\",\n\"I want to give offering to the monk\",\n\"I want the monk to offer prayers today for my next expedition \",\n\"I hope to conquer a fourth kingdom in the coming months \",\n\"{'label': '2 hours ago', 'action': 'wear Arrow '}\"],\n [{\n            'v': 1,\n            'f': \"1\",\n        },\n\"The Empress\",\n\"I am the ruler of three kingdoms. I am known for my feats of archery. I do not suffer fools.\",\n\"You are in the Temple main room.\\nThe massive statues are the biggest sight to behold of this room. There are four main statues, all of which resemble old monks of passed time who once served the Temple. Adjacent to these statues are drapes that fall from a 50ft ceiling all of which have their own distinct color and symbol, representing different villages in the area. There are massive pews on both sides of the room, adjacent to the red carpet down the center leading to the main throne under the statues.\\nThe monk is here.\\n\\nYou are carrying a coin, wearing a Arrow, and wielding a bow.\",\n\"give coin to monk\",\n\"I want to give offering to the monk\",\n\"I want the monk to offer prayers today for my next expedition \",\n\"I hope to conquer a fourth kingdom in the coming months \",\n\"{'label': '30 minutes ago', 'action': 'get Coin'}\"],\n [{\n            'v': 2,\n            'f': \"2\",\n        },\n\"The Empress\",\n\"I am the ruler of three kingdoms. I am known for my feats of archery. I do not suffer fools.\",\n\"You are in the Temple main room.\\nThe massive statues are the biggest sight to behold of this room. There are four main statues, all of which resemble old monks of passed time who once served the Temple. Adjacent to these statues are drapes that fall from a 50ft ceiling all of which have their own distinct color and symbol, representing different villages in the area. There are massive pews on both sides of the room, adjacent to the red carpet down the center leading to the main throne under the statues.\\nThe monk is here.\\n\\nYou are carrying a coin, wearing a Arrow, and wielding a bow.\",\n\"give coin to monk\",\n\"I want to give offering to the monk\",\n\"I want the monk to offer prayers today for my next expedition \",\n\"I hope to conquer a fourth kingdom in the coming months \",\n\"{'label': '10 minutes ago', 'action': 'go Temple main room'}\"],\n [{\n            'v': 3,\n            'f': \"3\",\n        },\n\"The Empress\",\n\"I am the ruler of three kingdoms. I am known for my feats of archery. I do not suffer fools.\",\n\"You are in the Temple main room.\\nThe massive statues are the biggest sight to behold of this room. There are four main statues, all of which resemble old monks of passed time who once served the Temple. Adjacent to these statues are drapes that fall from a 50ft ceiling all of which have their own distinct color and symbol, representing different villages in the area. There are massive pews on both sides of the room, adjacent to the red carpet down the center leading to the main throne under the statues.\\nThe monk is here.\\n\\nYou are carrying a coin, wearing a Arrow, and wielding a bow.\",\n\"give coin to monk\",\n\"I want to give offering to the monk\",\n\"I want the monk to offer prayers today for my next expedition \",\n\"I hope to conquer a fourth kingdom in the coming months \",\n\"{'label': '10 minutes from now', 'action': 'drop Bow'}\"],\n [{\n            'v': 4,\n            'f': \"4\",\n        },\n\"The Empress\",\n\"I am the ruler of three kingdoms. I am known for my feats of archery. I do not suffer fools.\",\n\"You are in the Temple main room.\\nThe massive statues are the biggest sight to behold of this room. There are four main statues, all of which resemble old monks of passed time who once served the Temple. Adjacent to these statues are drapes that fall from a 50ft ceiling all of which have their own distinct color and symbol, representing different villages in the area. There are massive pews on both sides of the room, adjacent to the red carpet down the center leading to the main throne under the statues.\\nThe monk is here.\\n\\nYou are carrying a coin, wearing a Arrow, and wielding a bow.\",\n\"give coin to monk\",\n\"I want to give offering to the monk\",\n\"I want the monk to offer prayers today for my next expedition \",\n\"I hope to conquer a fourth kingdom in the coming months \",\n\"{'label': '30 minutes from now', 'action': 'follow Monk'}\"],\n [{\n            'v': 5,\n            'f': \"5\",\n        },\n\"The Empress\",\n\"I am the ruler of three kingdoms. I am known for my feats of archery. I do not suffer fools.\",\n\"You are in the Temple main room.\\nThe massive statues are the biggest sight to behold of this room. There are four main statues, all of which resemble old monks of passed time who once served the Temple. Adjacent to these statues are drapes that fall from a 50ft ceiling all of which have their own distinct color and symbol, representing different villages in the area. There are massive pews on both sides of the room, adjacent to the red carpet down the center leading to the main throne under the statues.\\nThe monk is here.\\n\\nYou are carrying a coin, wearing a Arrow, and wielding a bow.\",\n\"give coin to monk\",\n\"I want to give offering to the monk\",\n\"I want the monk to offer prayers today for my next expedition \",\n\"I hope to conquer a fourth kingdom in the coming months \",\n\"{'label': '1 hour from now', 'action': 'go The palace '}\"]],\n        columns: [[\"number\", \"index\"], [\"string\", \"character\"], [\"string\", \"persona\"], [\"string\", \"description\"], [\"string\", \"goal\"], [\"string\", \"short_motivation\"], [\"string\", \"mid_motivation\"], [\"string\", \"long_motivation\"], [\"string\", \"timeline\"]],\n        columnOptions: [{\"width\": \"1px\", \"className\": \"index_column\"}],\n        rowsPerPage: 25,\n        helpUrl: \"https://colab.research.google.com/notebooks/data_table.ipynb\",\n        suppressOutputScrolling: true,\n        minimumWidth: undefined,\n      });\n    "
          },
          "metadata": {},
          "execution_count": 19
        }
      ]
    },
    {
      "cell_type": "markdown",
      "metadata": {
        "id": "BFk9_VWTzKhi"
      },
      "source": [
        "#### B. Process LIGHT data"
      ]
    },
    {
      "cell_type": "markdown",
      "metadata": {
        "id": "9QYcxaClBfB1"
      },
      "source": [
        "###### a. Customize and add columns with functions defined in [4](#scrollTo=IDV5U1wJGGZz)."
      ]
    },
    {
      "cell_type": "code",
      "execution_count": null,
      "metadata": {
        "id": "YW9p0xC20q3e"
      },
      "outputs": [],
      "source": [
        "dfqq = dfq.apply(make_quest, axis=1)\n",
        "dfqq = dfqq.apply(make_questl, axis=1)\n",
        "dfqq = dfqq.apply(get_verbs, axis=1)\n",
        "dfqq = dfqq.apply(comb_csm, axis=1)\n",
        "dfqq = dfqq.apply(extract_room, axis=1)\n",
        "dfqq = dfqq.apply(comb_clsm, axis=1)\n",
        "dfqq = dfqq.apply(check_gender_new, axis=1)\n",
        "dfqq = dfqq.apply(replace_all, axis=1)\n",
        "dfqq = dfqq.apply(get_goalverb, axis=1)\n",
        "dfqq = dfqq.apply(get_agencies, axis=1)"
      ]
    },
    {
      "cell_type": "markdown",
      "source": [
        "##### b. Save if necessary:"
      ],
      "metadata": {
        "id": "J3bwEUqvADtL"
      }
    },
    {
      "cell_type": "code",
      "execution_count": null,
      "metadata": {
        "id": "hrwQBD9pdqvc"
      },
      "outputs": [],
      "source": [
        "# dfqq.to_csv(f\"{DATA_PTH}dfqq_new.csv\", index=False)"
      ]
    },
    {
      "cell_type": "markdown",
      "source": [
        "##### c. Combine with quest data"
      ],
      "metadata": {
        "id": "hs4MiU03AI9p"
      }
    },
    {
      "cell_type": "code",
      "execution_count": null,
      "metadata": {
        "id": "Gt11Zdxz07pd"
      },
      "outputs": [],
      "source": [
        "quest_datasett = quest_dataset.add_column(\"quest\", dfqq.quest)\n",
        "quest_datasett = quest_datasett.add_column(\"character_sm\", dfqq.character_sm)\n",
        "quest_datasett = quest_datasett.add_column(\"location\", dfqq.location)\n",
        "quest_datasett = quest_datasett.add_column(\"clsm\", dfqq.clsm)\n",
        "quest_datasett = quest_datasett.add_column(\"gender\", dfqq.gender)\n",
        "quest_datasett = quest_datasett.add_column(\"verbs\", dfqq.verbs)\n",
        "quest_datasett = quest_datasett.add_column(\"gverb\", dfqq.gverb)"
      ]
    },
    {
      "cell_type": "markdown",
      "metadata": {
        "id": "zBLLm6ocGIXN"
      },
      "source": [
        "###### d. Split and tokenize\n",
        "\n",
        "Split into training, validation, test sets and tokenize."
      ]
    },
    {
      "cell_type": "code",
      "execution_count": null,
      "metadata": {
        "id": "VMFUoyOd8qPu"
      },
      "outputs": [],
      "source": [
        "train_devtest = quest_datasett.train_test_split(shuffle = True,\n",
        "                                                seed = seed, test_size=0.3)\n",
        "qdev_test = train_devtest['test'].train_test_split(shuffle = True,\n",
        "                                                   seed = seed, test_size=0.50)\n",
        "display(train_devtest, qdev_test)\n",
        "qtrain_dev_test_dataset = DatasetDict({\n",
        "    'train': train_devtest['train'],\n",
        "    'test': qdev_test['test'],\n",
        "    'dev': qdev_test['train']})"
      ]
    },
    {
      "cell_type": "code",
      "execution_count": null,
      "metadata": {
        "id": "2d91URpXzYoN"
      },
      "outputs": [],
      "source": [
        "# qtrain_dev_test_dataset.save_to_disk(f\"{DATA_PTH}light_dataset\")"
      ]
    },
    {
      "cell_type": "code",
      "execution_count": null,
      "metadata": {
        "id": "H9_OEK7nzIjr"
      },
      "outputs": [],
      "source": [
        "tokenized_datasets = qtrain_dev_test_dataset.map(tok_func2, batched=True,\n",
        "                            remove_columns=['character', 'persona', 'description', 'goal', 'short_motivation', 'mid_motivation',\n",
        "                                            'long_motivation', 'timeline', 'quest', 'character_sm', 'location',\n",
        "                                            'clsm', 'gender', 'verbs', 'gverb'])"
      ]
    },
    {
      "cell_type": "markdown",
      "metadata": {
        "id": "a_fAf6jrKpUg"
      },
      "source": [
        "### VI. Training"
      ]
    },
    {
      "cell_type": "markdown",
      "metadata": {
        "id": "GKBy2RVHYBdw"
      },
      "source": [
        "##### a. Load and tokenize processed splits after saving:"
      ]
    },
    {
      "cell_type": "code",
      "execution_count": null,
      "metadata": {
        "id": "_biciAgIYEt1"
      },
      "outputs": [],
      "source": [
        "qtrain_dev_test_dataset = load_from_disk(f\"{DATA_PTH}light_dataset\")\n",
        "tokenized_datasets = qtrain_dev_test_dataset.map(tok_func2, batched=True,\n",
        "                            remove_columns=['character', 'persona', 'description', 'goal', 'short_motivation', 'mid_motivation',\n",
        "                                            'long_motivation', 'timeline', 'quest', 'character_sm', 'location',\n",
        "                                            'clsm', 'gender', 'verbs', 'gverb'])"
      ]
    },
    {
      "cell_type": "code",
      "execution_count": null,
      "metadata": {
        "id": "Z6NLdxqsReKu"
      },
      "outputs": [],
      "source": [
        "mdataset = qtrain_dev_test_dataset.filter(lambda x: x[\"gender\"].startswith(\"M\"))\n",
        "fdataset = qtrain_dev_test_dataset.filter(lambda x: x[\"gender\"].startswith(\"F\"))\n",
        "ndataset = qtrain_dev_test_dataset.filter(lambda x: x[\"gender\"].startswith(\"N\"))"
      ]
    },
    {
      "cell_type": "code",
      "source": [
        "mdataset.save_to_disk(f\"{DATA_PTH}light_mdataset\")\n",
        "fdataset.save_to_disk(f\"{DATA_PTH}light_fdataset\")\n",
        "ndataset.save_to_disk(f\"{DATA_PTH}light_ndataset\")"
      ],
      "metadata": {
        "id": "7Tk7MsIROQf3"
      },
      "execution_count": null,
      "outputs": []
    },
    {
      "cell_type": "code",
      "execution_count": null,
      "metadata": {
        "id": "ludmxvK6RnTt"
      },
      "outputs": [],
      "source": [
        "fdataset = datasets.concatenate_datasets([fdataset[\"train\"], fdataset[\"dev\"], fdataset[\"test\"]])"
      ]
    },
    {
      "cell_type": "code",
      "source": [
        "#tokenized_datasets.save_to_disk(f\"{DATA_PTH}light_tokenized_dataset\")\n",
        "tokenized_datasets = load_from_disk(f\"{DATA_PTH}light_tokenized_dataset\")"
      ],
      "metadata": {
        "id": "ZJ8zJ6xOvNOo"
      },
      "execution_count": null,
      "outputs": []
    },
    {
      "cell_type": "code",
      "source": [
        "#tokenized_mdatasets.save_to_disk(f\"{DATA_PTH}light_tokenized_mdataset\")\n",
        "#tokenized_fdatasets.save_to_disk(f\"{DATA_PTH}light_tokenized_fdataset\")\n",
        "#tokenized_ndatasets.save_to_disk(f\"{DATA_PTH}light_tokenized_ndataset\")"
      ],
      "metadata": {
        "id": "immBN0VXOaZh"
      },
      "execution_count": null,
      "outputs": []
    },
    {
      "cell_type": "code",
      "source": [
        "tokenized_mdatasets = load_from_disk(f\"{DATA_PTH}light_tokenized_mdataset\")\n",
        "tokenized_fdatasets = load_from_disk(f\"{DATA_PTH}light_tokenized_fdataset\")\n",
        "tokenized_ndatasets = load_from_disk(f\"{DATA_PTH}light_tokenized_ndataset\")"
      ],
      "metadata": {
        "id": "kWwavyAuswro"
      },
      "execution_count": null,
      "outputs": []
    },
    {
      "cell_type": "code",
      "execution_count": null,
      "metadata": {
        "id": "lzEsWjH3RceG"
      },
      "outputs": [],
      "source": [
        "tokenized_mdatasets = mdataset.map(tok_func2, batched=True,\n",
        "                            remove_columns=['character', 'persona', 'description', 'goal', 'short_motivation', 'mid_motivation',\n",
        "                                            'long_motivation', 'timeline', 'quest', 'character_sm', 'location',\n",
        "                                            'clsm', 'gender', 'verbs', 'gverb'])\n",
        "tokenized_fdatasets = fdataset.map(tok_func2, batched=True,\n",
        "                            remove_columns=['character', 'persona', 'description', 'goal', 'short_motivation', 'mid_motivation',\n",
        "                                            'long_motivation', 'timeline', 'quest', 'character_sm', 'location',\n",
        "                                            'clsm', 'gender', 'verbs', 'gverb'])\n",
        "tokenized_ndatasets = ndataset.map(tok_func2, batched=True,\n",
        "                            remove_columns=['character', 'persona', 'description', 'goal', 'short_motivation', 'mid_motivation',\n",
        "                                            'long_motivation', 'timeline', 'quest', 'character_sm', 'location',\n",
        "                                            'clsm', 'gender', 'verbs', 'gverb'])"
      ]
    },
    {
      "cell_type": "code",
      "source": [
        "shuffle_sd = 42 #@param {'type': 'integer'}\n",
        "mdataset_train_subset = tokenized_mdatasets[\"train\"].shuffle(seed=shuffle_sd).select(range(len(tokenized_fdatasets)))\n",
        "ndataset_train_subset = tokenized_ndatasets[\"train\"].shuffle(seed=shuffle_sd).select(range(len(tokenized_fdatasets)))\n",
        "all_train_subset = tokenized_datasets[\"train\"].shuffle(seed=shuffle_sd).select(range(len(tokenized_fdatasets)))"
      ],
      "metadata": {
        "id": "sGgSB4v1NZsg"
      },
      "execution_count": null,
      "outputs": []
    },
    {
      "cell_type": "code",
      "source": [
        "mdataset_train_subset[\"input_ids\"]"
      ],
      "metadata": {
        "id": "BsvP-MBe8Vz_"
      },
      "execution_count": null,
      "outputs": []
    },
    {
      "cell_type": "code",
      "source": [
        "#mdataset_train_subset.save_to_disk(f\"{DATA_PTH}light_tokenized_mdataset_tok_train_subset\")\n",
        "#ndataset_train_subset.save_to_disk(f\"{DATA_PTH}light_tokenized_ndataset_tok_train_subset\")\n",
        "#all_train_subset.save_to_disk(f\"{DATA_PTH}light_tokenized_all_train_subset\")"
      ],
      "metadata": {
        "id": "hABeB9XBP7hr"
      },
      "execution_count": null,
      "outputs": []
    },
    {
      "cell_type": "code",
      "source": [
        "mdataset_train_subset = load_from_disk(f\"{DATA_PTH}light_tokenized_mdataset_tok_train_subset\")\n",
        "ndataset_train_subset = load_from_disk(f\"{DATA_PTH}light_tokenized_ndataset_tok_train_subset\")\n",
        "all_train_subset = load_from_disk(f\"{DATA_PTH}light_tokenized_all_train_subset\")"
      ],
      "metadata": {
        "id": "2pUWXCJ4s3me"
      },
      "execution_count": null,
      "outputs": []
    },
    {
      "cell_type": "code",
      "source": [
        "mdataset_train_subset"
      ],
      "metadata": {
        "colab": {
          "base_uri": "https://localhost:8080/"
        },
        "id": "WgFdZqyKQbW-",
        "outputId": "fa154fd6-072d-4c9c-ebd8-06839fd0bf59"
      },
      "execution_count": null,
      "outputs": [
        {
          "output_type": "execute_result",
          "data": {
            "text/plain": [
              "Dataset({\n",
              "    features: ['input_ids', 'attention_mask', 'labels'],\n",
              "    num_rows: 570\n",
              "})"
            ]
          },
          "metadata": {},
          "execution_count": 44
        }
      ]
    },
    {
      "cell_type": "code",
      "source": [
        "ndataset_train_subset = load_from_disk(f\"{DATA_PTH}light_ndataset\")"
      ],
      "metadata": {
        "id": "jpxm__YpMo0m"
      },
      "execution_count": null,
      "outputs": []
    },
    {
      "cell_type": "code",
      "execution_count": null,
      "metadata": {
        "id": "Id-2nJFA6rpA"
      },
      "outputs": [],
      "source": [
        "display(\n",
        "    qtrain_dev_test_dataset,\n",
        "    tokenized_datasets,\n",
        "    tokenized_mdatasets,\n",
        "    tokenized_fdatasets,\n",
        "    tokenized_ndatasets\n",
        ")"
      ]
    },
    {
      "cell_type": "markdown",
      "metadata": {
        "id": "7gb_upvxGP_L"
      },
      "source": [
        "##### b. Define/subclass trainer, trainer args, dataset collator, instantiate objects."
      ]
    },
    {
      "cell_type": "code",
      "execution_count": null,
      "metadata": {
        "id": "MQ5JEO1L-QE1"
      },
      "outputs": [],
      "source": [
        "class LightTrainer(Seq2SeqTrainer):\n",
        "        def compute_loss(self, model, inputs, return_outputs=False):\n",
        "            \"\"\"How the loss is computed by Trainer.\"\"\"\n",
        "            outputs = model(input_ids=inputs[\"input_ids\"],\n",
        "                            labels=inputs[\"labels\"],\n",
        "                            attention_mask=inputs[\"attention_mask\"],\n",
        "                            output_hidden_states=True,\n",
        "                            output_attentions=True,\n",
        "                            return_dict=True)\n",
        "            loss = outputs[\"loss\"] if isinstance(outputs, dict) else outputs[0]\n",
        "            return (loss, outputs) if return_outputs else loss"
      ]
    },
    {
      "cell_type": "code",
      "execution_count": null,
      "metadata": {
        "id": "nUtTEXYF7_Ak"
      },
      "outputs": [],
      "source": [
        "data_collator = DataCollatorForSeq2Seq(tokenizer=tokenizer)\n",
        "training_args = Seq2SeqTrainingArguments(\n",
        "                        output_dir=\"light-trainer\",\n",
        "                        do_train=True,\n",
        "                        run_name=f'light_{seed}',\n",
        "                        do_eval=True,\n",
        "                        report_to='all',\n",
        "                        evaluation_strategy=\"epoch\",\n",
        "                        logging_strategy=\"epoch\",\n",
        "                        save_strategy=\"epoch\",\n",
        "                        per_device_train_batch_size=16,\n",
        "                        per_device_eval_batch_size=16,\n",
        "                        learning_rate=5e-5,\n",
        "                        num_train_epochs=5,\n",
        "                        seed=seed,\n",
        "                        logging_dir=\"./log\")\n",
        "\n",
        "trainer = LightTrainer(\n",
        "    model,\n",
        "    training_args,\n",
        "    train_dataset=all_train_subset,\n",
        "    eval_dataset=tokenized_datasets[\"dev\"],\n",
        "    data_collator=data_collator,\n",
        "    tokenizer=tokenizer\n",
        ")"
      ]
    },
    {
      "cell_type": "markdown",
      "source": [
        "##### c. Train, save"
      ],
      "metadata": {
        "id": "gXxtX4u3EsgG"
      }
    },
    {
      "cell_type": "code",
      "execution_count": null,
      "metadata": {
        "id": "FN8HoOwD-Y_D"
      },
      "outputs": [],
      "source": [
        "trainer.train()"
      ]
    },
    {
      "cell_type": "code",
      "execution_count": null,
      "metadata": {
        "id": "ft2W8y7oeTuG"
      },
      "outputs": [],
      "source": [
        "%cp -r light-trainer $DATA_PTH/models/quest_model_all_subset_{{seed}}/"
      ]
    },
    {
      "cell_type": "code",
      "execution_count": null,
      "metadata": {
        "id": "JVP4kKwOGoKl"
      },
      "outputs": [],
      "source": [
        "%cp -r log $DATA_PTH/models/quest_model_all_subset_{{seed}}/"
      ]
    },
    {
      "cell_type": "code",
      "execution_count": null,
      "metadata": {
        "id": "yx3WE7VBDwb9"
      },
      "outputs": [],
      "source": [
        "#trainer.save_model(\"light-checkpoints\")"
      ]
    },
    {
      "cell_type": "markdown",
      "source": [
        "#### Inference with trainer"
      ],
      "metadata": {
        "id": "2xVrjBdODwLd"
      }
    },
    {
      "cell_type": "code",
      "execution_count": null,
      "metadata": {
        "id": "7XxcSSE5DuKO"
      },
      "outputs": [],
      "source": [
        "trainer.evaluate(eval_dataset=trainer.eval_dataset)"
      ]
    },
    {
      "cell_type": "code",
      "execution_count": null,
      "metadata": {
        "id": "ZfkVZOEdke9H"
      },
      "outputs": [],
      "source": [
        "trainer.evaluate(eval_dataset=tokenized_datasets[\"test\"])"
      ]
    },
    {
      "cell_type": "markdown",
      "metadata": {
        "id": "LG50IYaMKsSM"
      },
      "source": [
        "### VII. Generation"
      ]
    },
    {
      "cell_type": "code",
      "source": [
        "model.eval()"
      ],
      "metadata": {
        "id": "8U98UjcQYR3d"
      },
      "execution_count": null,
      "outputs": []
    },
    {
      "cell_type": "markdown",
      "source": [
        "#### A. Single example generation"
      ],
      "metadata": {
        "id": "7dFufHAaDcPl"
      }
    },
    {
      "cell_type": "markdown",
      "source": [
        "##### a. Load data for prompts"
      ],
      "metadata": {
        "id": "9KRM3CW5E7TJ"
      }
    },
    {
      "cell_type": "code",
      "execution_count": null,
      "metadata": {
        "id": "jKhPTDy6ayZ7"
      },
      "outputs": [],
      "source": [
        "dfqq = pd.read_pickle(f\"{DATA_PTH}dfqq_gmn.pkl\")\n",
        "qtrain_dev_test_dataset = load_from_disk(f\"{DATA_PTH}light_dataset\")"
      ]
    },
    {
      "cell_type": "code",
      "source": [
        "# dfqq.drop([\"timeline\", \"character_sm\", \"clsm\", \"gverb\", \"verbs\", \"agencies\",\n",
        "  #          \"locations\", \"characters\", \"foods\", \"objects\", \"questl\"], axis=1)"
      ],
      "metadata": {
        "id": "NWmK7TAmF5_R"
      },
      "execution_count": null,
      "outputs": []
    },
    {
      "cell_type": "markdown",
      "source": [
        "##### b. Get example prompt"
      ],
      "metadata": {
        "id": "xaz_wdf6H52j"
      }
    },
    {
      "cell_type": "code",
      "execution_count": null,
      "metadata": {
        "cellView": "form",
        "id": "Hf-84tnZZOL7",
        "colab": {
          "base_uri": "https://localhost:8080/",
          "height": 85,
          "referenced_widgets": [
            "820cf544ad3f45a3981f59a30a08d9f4",
            "de8e831579d944b7b775ce4d04aa1c71",
            "438d1fca866d491e8a235131842cccaa",
            "49e7059c673644a8a94faac4e64fcaa9",
            "c9d39cc6951e4e48ab0fee59a468ef84",
            "92cc31a20d494125a967da3d5096af30",
            "c48d130b87df4daa9e72673c0d7799ac",
            "f766e273e0b145df86773c3986916e15",
            "0fd018ec94d04279a3891e4d62adbc81"
          ]
        },
        "outputId": "a2b25726-a1e1-40e7-af0c-3d62b0a10f0f"
      },
      "outputs": [
        {
          "output_type": "display_data",
          "data": {
            "text/plain": [
              "interactive(children=(IntSlider(value=559, description='ix', max=1677, min=-559), Output()), _dom_classes=('wi…"
            ],
            "application/vnd.jupyter.widget-view+json": {
              "version_major": 2,
              "version_minor": 0,
              "model_id": "820cf544ad3f45a3981f59a30a08d9f4"
            }
          },
          "metadata": {
            "application/vnd.jupyter.widget-view+json": {
              "colab": {
                "custom_widget_manager": {
                  "url": "https://ssl.gstatic.com/colaboratory-static/widgets/colab-cdn-widget-manager/d2e234f7cc04bf79/manager.min.js"
                }
              }
            }
          }
        }
      ],
      "source": [
        "#@title ###### i. Select prompt\n",
        "dchar_idx, ids, char_idx, csm, character, short_motivation, location, qst = None, None, None, None, None, None, None, None\n",
        "def f(ix=559):\n",
        "    global dchar_idx, char_idx, csm, character, short_motivation, location, ids, qst\n",
        "    char_idx= ix\n",
        "    character = qtrain_dev_test_dataset[\"train\"][ix]['character']\n",
        "    csm = qtrain_dev_test_dataset[\"train\"][ix]['character_sm']\n",
        "    gender = qtrain_dev_test_dataset[\"train\"][ix]['gender']\n",
        "    short_motivation = qtrain_dev_test_dataset[\"train\"][ix]['short_motivation']\n",
        "    qst = qtrain_dev_test_dataset[\"train\"][ix]['quest']\n",
        "    location = qtrain_dev_test_dataset[\"train\"][ix][\"location\"]\n",
        "    input_context_vector = character + \" - \" + location\n",
        "    input_context_vector = csm + \" - \" + location\n",
        "    dchar_idx = dfqq[dfqq.character_sm.str.contains(csm)].index.tolist()[0]\n",
        "    target_seq = short_motivation\n",
        "    target_seq = qst\n",
        "    inputs = tokenizer([input_context_vector], padding=True, truncation=True, return_tensors=\"pt\")\n",
        "    targets = tokenizer([target_seq], padding=True, truncation=True, return_tensors=\"pt\")\n",
        "\n",
        "    ids = inputs[\"input_ids\"].cuda()\n",
        "    res = tokenizer.decode(ids[0], skip_special_tokens=True)\n",
        "    print(f\"Gender: {gender}\")\n",
        "    print(res)\n",
        "\n",
        "slider = interact(f, idx=widgets.IntSlider(value=0, min=0, max=7485,\n",
        "                        continuous_update=True))"
      ]
    },
    {
      "cell_type": "markdown",
      "source": [
        "###### ii. Explore:"
      ],
      "metadata": {
        "id": "lwODM14dFEKf"
      }
    },
    {
      "cell_type": "code",
      "execution_count": null,
      "metadata": {
        "id": "8lNJmd7Yszdh"
      },
      "outputs": [],
      "source": [
        "dfqq.loc[dchar_idx:dchar_idx].loc[:, [i for i in dfqq.columns if \"motiv\" in i]].values"
      ]
    },
    {
      "cell_type": "code",
      "execution_count": null,
      "metadata": {
        "id": "KpBV6MJPbwkA"
      },
      "outputs": [],
      "source": [
        "print(\"\\n\".join(dfqq.loc[dchar_idx:dchar_idx].clsm.tolist()[0].split(\", \")))\n",
        "print(\"\\n\")\n",
        "vrbs = pd.DataFrame(dfqq.loc[dchar_idx]).T.verbs.tolist()[0]\n",
        "ll = pd.DataFrame(dfqq.loc[dchar_idx]).T.questl.tolist()[0]\n",
        "try:\n",
        "    print(\"\\n\".join(eval(ll)))\n",
        "except:\n",
        "    print(\"\\n\".join(ll))"
      ]
    },
    {
      "cell_type": "code",
      "execution_count": null,
      "metadata": {
        "id": "jr3k0fbabdsG"
      },
      "outputs": [],
      "source": [
        "for c in dfqq.loc[dchar_idx:dchar_idx].columns:\n",
        "    if \"motiv\" in c:\n",
        "        print(dfqq.loc[dchar_idx:dchar_idx, c].values[0])"
      ]
    },
    {
      "cell_type": "code",
      "execution_count": null,
      "metadata": {
        "id": "wuPBQe7ysHr9"
      },
      "outputs": [],
      "source": [
        "for ix in dfqq[dfqq.character_sm.str.contains(csm)].index.tolist():\n",
        "    print(dfqq.loc[ix:ix].loc[:, [i for i in dfqq.columns if \"motiv\" in i]].values)"
      ]
    },
    {
      "cell_type": "markdown",
      "source": [
        "##### c. Generate from example prompt"
      ],
      "metadata": {
        "id": "Pngo3bZ-G3Fk"
      }
    },
    {
      "cell_type": "markdown",
      "source": [
        "###### a. Sampling"
      ],
      "metadata": {
        "id": "SJlRacqTFdbT"
      }
    },
    {
      "cell_type": "code",
      "execution_count": null,
      "metadata": {
        "id": "kvzxB4kydyiu",
        "colab": {
          "base_uri": "https://localhost:8080/"
        },
        "outputId": "4d1b651d-0387-4669-9811-26d4bcf3b13d"
      },
      "outputs": [
        {
          "output_type": "stream",
          "name": "stdout",
          "text": [
            "go valley of doom\n",
            "follow guest\n",
            "hit visitor\n",
            "get bag from ground\n",
            "put bag on trunk\n",
            "go goblin lair\n",
            "eat creature's body\n"
          ]
        }
      ],
      "source": [
        "# Make sure _custom model loaded else will return prompt\n",
        "with torch.no_grad():\n",
        "    genids = model.generate(ids, repetition_penalty=1.4, temperature=0.75, num_beams=1, # else beam_sample()\n",
        "                            top_p=0.25, top_k=30, do_sample=True, min_length=0, max_length=100)\n",
        "res = tokenizer.batch_decode(genids, skip_special_tokens=True)\n",
        "print(\"\\n\".join(res[0].split(\", \")))"
      ]
    },
    {
      "cell_type": "markdown",
      "source": [
        "###### b. Beam search"
      ],
      "metadata": {
        "id": "DcqQQeXbFgAq"
      }
    },
    {
      "cell_type": "code",
      "execution_count": null,
      "metadata": {
        "id": "DyneI1VniV9P",
        "colab": {
          "base_uri": "https://localhost:8080/"
        },
        "outputId": "97c43e10-f2e2-4bc5-9619-32c36e09636f"
      },
      "outputs": [
        {
          "output_type": "stream",
          "name": "stdout",
          "text": [
            "go valley of doom\n",
            "follow guest\n",
            "hit guest\n",
            "get guest's possessions\n",
            "go goblin lair\n",
            "put guest's belongings on goblin lair\n"
          ]
        }
      ],
      "source": [
        "with torch.no_grad():\n",
        "    genids = model.generate(\n",
        "        ids,\n",
        "        max_length=100,\n",
        "        num_beams=5,\n",
        "        early_stopping=True\n",
        "    )\n",
        "res = tokenizer.batch_decode(genids, skip_special_tokens=True)\n",
        "print(\"\\n\".join(res[0].split(\", \")))"
      ]
    },
    {
      "cell_type": "markdown",
      "source": [
        "###### c. Scratch cell"
      ],
      "metadata": {
        "id": "h3Ljv9thFiya"
      }
    },
    {
      "cell_type": "code",
      "source": [
        "ids = tokenizer.encode([\"King - Castle - <mask> sword\"],\n",
        "              padding=True, truncation=True, return_tensors=\"pt\").cuda()\n",
        "genids = model.generate(\n",
        "    ids,\n",
        "    max_length=1000,\n",
        "    do_sample=True,\n",
        ")\n",
        "res = tokenizer.batch_decode(genids, skip_special_tokens=True)\n",
        "print(\"\\n\".join(res[0].split(\", \")))"
      ],
      "metadata": {
        "id": "X1thynGOA12y"
      },
      "execution_count": null,
      "outputs": []
    },
    {
      "cell_type": "markdown",
      "source": [
        "This code would extract encoder states for representation analysis:"
      ],
      "metadata": {
        "id": "wPodpMUsF3as"
      }
    },
    {
      "cell_type": "code",
      "execution_count": null,
      "metadata": {
        "id": "-fl9GEN97uFn"
      },
      "outputs": [],
      "source": [
        "encoder_last_hidden_state = model(ids, output_hidden_states=True).encoder_last_hidden_state\n",
        "encoder_hidden_states = model(ids, output_hidden_states=True).encoder_hidden_states\n",
        "decoder_hidden_states = model(ids, output_hidden_states=True).decoder_hidden_states"
      ]
    },
    {
      "cell_type": "markdown",
      "source": [
        "##### d. Generate with model B"
      ],
      "metadata": {
        "id": "EhhetlzRHdC5"
      }
    },
    {
      "cell_type": "markdown",
      "source": [
        "* ```sel``` - Choose BART vs. T5, base pre-trained or fine-tuned models.\n",
        "* ```sz``` - Base size or large.\n",
        "* ```g``` - Choose model fine-tuned all genders, male, female, or gender-neutral.\n",
        "\n",
        "Choose options and run cell for comparison to [another model](#scrollTo=ZXuD31Bc7XjH). Relies on models saved in ```light_data``` folder."
      ],
      "metadata": {
        "id": "SN_Uy3-388Li"
      }
    },
    {
      "cell_type": "code",
      "execution_count": null,
      "metadata": {
        "id": "ujH228SC-gp8",
        "cellView": "form"
      },
      "outputs": [],
      "source": [
        "#@title Load comparison model, tokenizer\n",
        "\n",
        "selB = \"bart_custom\" #@param [\"bart\", \"t5\", \"bart_custom\", \"t5_custom\"]\n",
        "szB = \"base\" #@param [\"base\", \"large\"]\n",
        "gB = \"All\" #@param [\"All\", \"Male\", \"Female\", \"Neutral\"]\n",
        "gdB = {\"Male\": \"m\", \"Female\": \"f\", \"Neutral\": \"n\", \"All\": \"all\"}\n",
        "gB = gdB[gB]\n",
        "cdB = {\"all\": 1640, \"m\": 205, \"f\": 180, \"n\": 1305}\n",
        "cpB = cdB[gB]\n",
        "pthB = widgets.Text(f\"{DATA_PTH}models/quest_model_{gB}/light-trainer_{gB}/checkpoint-{cpB}\").value\n",
        "display(pthB)\n",
        "\n",
        "if pthB or \"custom\" not in selB:\n",
        "    mtB = {\"t5\": (f\"t5-{szB}\", (T5Tokenizer, T5ForConditionalGeneration)),\n",
        "        \"bart\": (f\"facebook/bart-{szB}\", (BartTokenizer, BartForConditionalGeneration)),\n",
        "        \"bart_custom\": (f\"facebook/bart-{szB}\", (BartTokenizer, BartForConditionalGeneration)),\n",
        "        \"t5_custom\": (f\"t5-{szB}\", (T5Tokenizer, T5ForConditionalGeneration))}\n",
        "\n",
        "    if selB in [\"t5\", \"bart\"]:\n",
        "        tokenizerB = mtB[selB][1][0].from_pretrained(f\"{mtB[selB][0]}\")\n",
        "        modelB = mtB[selB][1][1].from_pretrained(f\"{mtB[selB][0]}\")\n",
        "    else:\n",
        "        if \"t5\" in selB:\n",
        "            tpthB = \"t5-base\"\n",
        "        elif \"bart_\" in selB:\n",
        "            tpthB = \"facebook/bart-base\"\n",
        "        tokenizerB = mtB[selB][1][0].from_pretrained(f\"{tpthB}\")\n",
        "        modelB = mtB[selB][1][1].from_pretrained(pthB)\n",
        "\n",
        "    #tokenizerB.pad_token = tokenizerB.eos_token"
      ]
    },
    {
      "cell_type": "markdown",
      "source": [
        "Move to GPU if using for runtime:"
      ],
      "metadata": {
        "id": "pC4w_rFy9KoK"
      }
    },
    {
      "cell_type": "code",
      "execution_count": null,
      "metadata": {
        "id": "9_C3M7la-_MP"
      },
      "outputs": [],
      "source": [
        "modelB.cuda()\n",
        "clear_output()"
      ]
    },
    {
      "cell_type": "markdown",
      "source": [
        "###### a. Sampling"
      ],
      "metadata": {
        "id": "3LcmyGLKGCOr"
      }
    },
    {
      "cell_type": "code",
      "execution_count": null,
      "metadata": {
        "id": "NM-T0QptQvR7"
      },
      "outputs": [],
      "source": [
        "# Make sure _custom model loaded else will return prompt\n",
        "genidsB = modelB.generate(ids, repetition_penalty=1.4, temperature=0.75, num_beams=1,\n",
        "                        top_p=0.25, top_k=30, do_sample=True, min_length=0, max_length=100)\n",
        "resB = tokenizerB.batch_decode(genidsB, skip_special_tokens=True)\n",
        "print(\"\\n\".join(resB[0].split(\", \")))"
      ]
    },
    {
      "cell_type": "markdown",
      "source": [
        "###### b. Beam search"
      ],
      "metadata": {
        "id": "PFe4yxjqGDDr"
      }
    },
    {
      "cell_type": "code",
      "execution_count": null,
      "metadata": {
        "id": "5Xw_rFlLirUx"
      },
      "outputs": [],
      "source": [
        "genidsB = modelB.generate(\n",
        "    ids,\n",
        "    max_length=100,\n",
        "    num_beams=5,\n",
        "    early_stopping=True\n",
        ")\n",
        "resB = tokenizerB.batch_decode(genidsB, skip_special_tokens=True)\n",
        "print(\"\\n\".join(res[0].split(\", \")))"
      ]
    },
    {
      "cell_type": "markdown",
      "source": [
        "This code would extract encoder states for representation analysis:"
      ],
      "metadata": {
        "id": "WZiPUlMm9W4a"
      }
    },
    {
      "cell_type": "code",
      "execution_count": null,
      "metadata": {
        "id": "OHtckNUF-4qp"
      },
      "outputs": [],
      "source": [
        "encoder_last_hidden_stateB = modelB(ids, output_hidden_states=True).encoder_last_hidden_state\n",
        "encoder_hidden_statesB = modelB(ids, output_hidden_states=True).encoder_hidden_states\n",
        "decoder_hidden_statesB = modelB(ids, output_hidden_states=True).decoder_hidden_states"
      ]
    },
    {
      "cell_type": "markdown",
      "source": [
        "#### B. Bulk generate quests"
      ],
      "metadata": {
        "id": "yLM-ZzSMjbSn"
      }
    },
    {
      "cell_type": "markdown",
      "source": [
        "Steps:\n",
        "1. Load datasets\n",
        "2. Load data collator\n",
        "3. For each seed, model type, split:\n",
        "    * a.  run with sampling, beam\n",
        "    * b.  save results\n",
        "    "
      ],
      "metadata": {
        "id": "ne-OlnjTpNOE"
      }
    },
    {
      "cell_type": "markdown",
      "source": [
        "##### 1. Load splits, tokenize"
      ],
      "metadata": {
        "id": "TezXpCn7rIm8"
      }
    },
    {
      "cell_type": "code",
      "source": [
        "qtrain_dev_test_dataset = load_from_disk(f\"{DATA_PTH}light_dataset\")"
      ],
      "metadata": {
        "id": "PF6vT3G9m3l1"
      },
      "execution_count": null,
      "outputs": []
    },
    {
      "cell_type": "code",
      "source": [
        "tokenized_datasets = load_from_disk(f\"{DATA_PTH}light_tokenized_dataset\")"
      ],
      "metadata": {
        "id": "_exVcXJ7vo2H"
      },
      "execution_count": null,
      "outputs": []
    },
    {
      "cell_type": "code",
      "source": [
        "tokenized_datasets = qtrain_dev_test_dataset.map(tok_func2, batched=True, load_from_cache_file=False,\n",
        "                            remove_columns=['character', 'persona', 'description', 'goal',\n",
        "                                            'short_motivation', 'mid_motivation',\n",
        "                                            'long_motivation', 'timeline', 'quest',\n",
        "                                            'character_sm', 'location',\n",
        "                                            'clsm', 'gender', 'verbs', 'gverb'])"
      ],
      "metadata": {
        "id": "dH39omKCv2Rw"
      },
      "execution_count": null,
      "outputs": []
    },
    {
      "cell_type": "markdown",
      "source": [
        "##### 2. Load collator for data loader iteration of prompts"
      ],
      "metadata": {
        "id": "XXIEm9K2rN1P"
      }
    },
    {
      "cell_type": "code",
      "source": [
        "data_collator = DataCollatorForSeq2Seq(tokenizer=tokenizer)"
      ],
      "metadata": {
        "id": "6pXuoDzBp8Nn"
      },
      "execution_count": null,
      "outputs": []
    },
    {
      "cell_type": "markdown",
      "source": [
        "##### 3. Generate, merge, save"
      ],
      "metadata": {
        "id": "o6tN40Vg7QwX"
      }
    },
    {
      "cell_type": "code",
      "source": [
        "#@title ###### 3a., 3d. Generate quests given prompts for split, method\n",
        "save_file = \"false\" #@param [\"true\", \"false\"]\n",
        "for gen_sd in [42, 7304, 7696]:\n",
        "    set_seed(gen_sd)\n",
        "    save_file = \"true\"\n",
        "    sel = \"bart_custom\"\n",
        "    sz = \"base\"\n",
        "    cd = {\"all\": 1640, \"m\": 205, \"f\": 180, \"n\": 1305,\n",
        "          \"m_subset\": 180, \"n_subset\": 180, \"all_subset\": 180}\n",
        "    print(f\"Set seed to {gen_sd}.\")\n",
        "    for g in cd.keys():\n",
        "        cp = cd[g.lower()]\n",
        "        pth = f\"{DATA_PTH}models/quest_model_{g.lower()}_{gen_sd}/checkpoint-{cp}\"\n",
        "        mt = {\"bart_custom\": (f\"facebook/bart-{sz}\", (BartTokenizer, BartForConditionalGeneration))}\n",
        "        tpth = \"facebook/bart-base\"\n",
        "        tokenizer = mt[sel][1][0].from_pretrained(f\"{tpth}\")\n",
        "        model = mt[sel][1][1].from_pretrained(pth)\n",
        "        model.cuda()\n",
        "        model.eval()\n",
        "        print(\"Loaded model.\")\n",
        "        for split in [\"train\", \"dev\", \"test\"]:\n",
        "            dff_orig = pd.DataFrame.from_dict(dict(zip(qtrain_dev_test_dataset[split][\"clsm\"],\n",
        "                                                    qtrain_dev_test_dataset[split][\"quest\"])),\n",
        "                                            orient=\"index\")\n",
        "            dff_orig.reset_index(level=0, inplace=True)\n",
        "            dff_orig.columns = [\"prompt\", \"quest_orig\"]\n",
        "\n",
        "            data_loader = torch.utils.data.DataLoader(tokenized_datasets[split],\n",
        "                                                    collate_fn=data_collator,\n",
        "                                                    batch_size=16, shuffle=False)\n",
        "            dff = pd.DataFrame()\n",
        "            for cnt, batch in enumerate(data_loader):\n",
        "                ids = batch[\"input_ids\"].cuda()\n",
        "                prompts = tokenizer.batch_decode(ids, skip_special_tokens=True)\n",
        "                with torch.no_grad():\n",
        "                    genids = model.generate(ids, do_sample=True,\n",
        "                                            repetition_penalty=1.4,\n",
        "                                            num_beams=1,\n",
        "                                            temperature=0.75,\n",
        "                                            top_p=0.25, top_k=30,\n",
        "                                            min_length=0, max_length=100)\n",
        "                    genidsb = model.generate(\n",
        "                        ids,\n",
        "                        do_sample=False,\n",
        "                        max_length=100,\n",
        "                        num_beams=5,\n",
        "                        early_stopping=True\n",
        "                    )\n",
        "                res = tokenizer.batch_decode(genids,\n",
        "                                             skip_special_tokens=True)\n",
        "                res2 = tokenizer.batch_decode(genidsb,\n",
        "                                              skip_special_tokens=True)\n",
        "                d = dict(zip(prompts, zip(res, res2)))\n",
        "                df = pd.DataFrame.from_dict(d, orient=\"index\")\n",
        "                df.reset_index(level=0, inplace=True)\n",
        "                df.columns = [\"prompt\", \"quest_samp\", \"quest_beam\"]\n",
        "                dff = pd.concat([dff, df], axis=0, ignore_index=True)\n",
        "            dff = pd.merge(dff, dff_orig, on=\"prompt\")\n",
        "            if save_file == \"true\":\n",
        "                dff.to_pickle(f\"{DATA_PTH}generated_{split}_merged_{g.lower()}_{gen_sd}.pkl\")"
      ],
      "metadata": {
        "id": "VSjySZy7rAqp",
        "cellView": "form"
      },
      "execution_count": null,
      "outputs": []
    },
    {
      "cell_type": "code",
      "source": [
        "#@title Load merged continuations\n",
        "sed = \"7696\" #@param [42, 7304, 7696]\n",
        "split = \"test\" #@param [\"train\", \"dev\", \"test\"]\n",
        "gend = \"n_subset\" #@param [\"all\", \"m\", \"f\", \"n\", \"m_subset\", \"n_subset\", \"all_subset\"]\n",
        "dff = pd.read_pickle(f\"{DATA_PTH}generated_{split}_merged_{gend}_{sed}.pkl\")\n",
        "dff"
      ],
      "metadata": {
        "id": "D8eMAGb5r40E",
        "cellView": "form"
      },
      "execution_count": null,
      "outputs": []
    }
  ]
}