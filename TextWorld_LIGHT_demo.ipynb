{
  "cells": [
    {
      "cell_type": "markdown",
      "metadata": {
        "id": "view-in-github",
        "colab_type": "text"
      },
      "source": [
        "<a href=\"https://colab.research.google.com/github/erikmcguire/textworld_light/blob/main/TextWorld_LIGHT_demo.ipynb\" target=\"_parent\"><img src=\"https://colab.research.google.com/assets/colab-badge.svg\" alt=\"Open In Colab\"/></a>"
      ]
    },
    {
      "cell_type": "code",
      "source": [
        "!pip install textworld &> /dev/null"
      ],
      "metadata": {
        "id": "rsKcs8a6vIAm"
      },
      "execution_count": null,
      "outputs": []
    },
    {
      "cell_type": "code",
      "source": [
        "pip install tatsu==5.6.1"
      ],
      "metadata": {
        "id": "Z4e1SlRJf8hl"
      },
      "execution_count": null,
      "outputs": []
    },
    {
      "cell_type": "code",
      "execution_count": null,
      "metadata": {
        "id": "n0XegcLMSbm2"
      },
      "outputs": [],
      "source": [
        "import textworld"
      ]
    },
    {
      "cell_type": "markdown",
      "source": [
        "Download and upload to this Colab instance:\n",
        "- [m_quests](https://drive.google.com/file/d/11EppGcHxpbnOqLBsrQXq4PFBDJDrkIKt/view?usp=share_link)\n",
        "- [f_quests](https://drive.google.com/file/d/11KjPUNsidsCNr47e3pw-YMtJ37wDg2e_/view?usp=share_link)"
      ],
      "metadata": {
        "id": "C3b8ohX6nijL"
      }
    },
    {
      "cell_type": "code",
      "execution_count": null,
      "metadata": {
        "id": "vVIJm13Yp9hr"
      },
      "outputs": [],
      "source": [
        "!unzip m_quests_w_balanced_qb_nod.zip -d /../ &> /dev/null\n",
        "# !unzip f_quests_w_balanced_qb_nod -d /../ &> /dev/null"
      ]
    },
    {
      "cell_type": "code",
      "source": [
        "#@title Select gender, game index and run cell to start game\n",
        "ix = 10 #@param {'type': 'integer'}\n",
        "gender = \"m\" #@param [\"m\", \"f\"]\n",
        "textworld.play(f\"/../content/{gender}_quests_w_balanced_qb_nod/test_{ix}.ulx\")"
      ],
      "metadata": {
        "id": "Fv3iPqpskhSA",
        "cellView": "form",
        "colab": {
          "base_uri": "https://localhost:8080/"
        },
        "outputId": "87cb0e77-2ab9-4a19-d212-74e56c2e571b"
      },
      "execution_count": null,
      "outputs": [
        {
          "output_type": "stream",
          "name": "stdout",
          "text": [
            "\n",
            "\n",
            "\n",
            "                    ________  ________  __    __  ________\n",
            "                   |        \\|        \\|  \\  |  \\|        \\\n",
            "                    \\$$$$$$$$| $$$$$$$$| $$  | $$ \\$$$$$$$$\n",
            "                      | $$   | $$__     \\$$\\/  $$   | $$\n",
            "                      | $$   | $$  \\     >$$  $$    | $$\n",
            "                      | $$   | $$$$$    /  $$$$\\    | $$\n",
            "                      | $$   | $$_____ |  $$ \\$$\\   | $$\n",
            "                      | $$   | $$     \\| $$  | $$   | $$\n",
            "                       \\$$    \\$$$$$$$$ \\$$   \\$$    \\$$\n",
            "              __       __   ______   _______   __        _______\n",
            "             |  \\  _  |  \\ /      \\ |       \\ |  \\      |       \\\n",
            "             | $$ / \\ | $$|  $$$$$$\\| $$$$$$$\\| $$      | $$$$$$$\\\n",
            "             | $$/  $\\| $$| $$  | $$| $$__| $$| $$      | $$  | $$\n",
            "             | $$  $$$\\ $$| $$  | $$| $$    $$| $$      | $$  | $$\n",
            "             | $$ $$\\$$\\$$| $$  | $$| $$$$$$$\\| $$      | $$  | $$\n",
            "             | $$$$  \\$$$$| $$__/ $$| $$  | $$| $$_____ | $$__/ $$\n",
            "             | $$$    \\$$$ \\$$    $$| $$  | $$| $$     \\| $$    $$\n",
            "              \\$$      \\$$  \\$$$$$$  \\$$   \\$$ \\$$$$$$$$ \\$$$$$$$\n",
            "\n",
            "Find and wear shirt.\n",
            "\n",
            "-= Brimswood Pub =-\n",
            "The Brimswood pub is an old establishment. It is sturdy, has a lot of life in\n",
            "its walls, but hasn't been updated in decades. The clientele are the same as\n",
            "they always are, and they don't see very many strangers. The vibe is somber, and\n",
            "conversations are usually had in hushed tones. You arrive in a Brimswood pub. An\n",
            "usual one.\n",
            "\n",
            "You can make out a wooden chest. You can make out a closed metal locker. You can\n",
            "see a closed large closet. You see an antique wardrobe. Is this what you came to\n",
            "TextWorld for? This... antique wardrobe?\n",
            "\n",
            "Available actions: ['examine antique wardrobe', 'examine large closet', 'examine metal locker', 'examine wooden chest', 'inventory', 'look', 'open antique wardrobe', 'open large closet', 'open metal locker', 'open wooden chest']\n",
            "\n",
            "> open antique wardrobe\n",
            "You open the antique wardrobe, revealing a shirt and a bone.\n",
            "\n",
            "Available actions: ['close antique wardrobe', 'examine antique wardrobe', 'examine bone', 'examine large closet', 'examine metal locker', 'examine shirt', 'examine wooden chest', 'inventory', 'look', 'open large closet', 'open metal locker', 'open wooden chest', 'take bone from antique wardrobe', 'take shirt from antique wardrobe']\n",
            "\n",
            "> take shirt\n",
            "You take the shirt from the antique wardrobe.\n",
            "\n",
            "\n",
            "\n",
            "Your score has just gone up by one point.\n",
            "\n",
            "Available actions: ['close antique wardrobe', 'drop shirt', 'examine antique wardrobe', 'examine bone', 'examine large closet', 'examine metal locker', 'examine shirt', 'examine wooden chest', 'insert shirt into antique wardrobe', 'inventory', 'look', 'open large closet', 'open metal locker', 'open wooden chest', 'take bone from antique wardrobe', 'use shirt', 'wear shirt']\n",
            "\n",
            "> wear shirt\n",
            "You put on the shirt.\n",
            "\n",
            "\n",
            "Your score has just gone up by one point.\n",
            "\n",
            "\n",
            "                               *** The End ***\n",
            "\n",
            "You scored 2 out of a possible 2, in 4 turns.\n",
            "\n",
            "\n",
            "Would you like to RESTART, RESTORE a saved game, QUIT or UNDO the last command?\n",
            ">\n",
            "\n",
            "Done after 3 steps. Score 2/2.\n"
          ]
        }
      ]
    }
  ],
  "metadata": {
    "accelerator": "GPU",
    "colab": {
      "collapsed_sections": [
        "sj91zCc52pyq"
      ],
      "machine_shape": "hm",
      "provenance": [],
      "gpuClass": "premium",
      "toc_visible": true,
      "mount_file_id": "1BKtzt0pKJ28yDECVPXYKyyYUBUCtEPVn",
      "authorship_tag": "ABX9TyNSFtli8s9Dad6EZ+UAWuzV",
      "include_colab_link": true
    },
    "gpuClass": "premium",
    "kernelspec": {
      "display_name": "Python 3",
      "name": "python3"
    },
    "language_info": {
      "name": "python"
    }
  },
  "nbformat": 4,
  "nbformat_minor": 0
}