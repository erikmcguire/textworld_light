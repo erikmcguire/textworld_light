{
  "cells": [
    {
      "cell_type": "markdown",
      "metadata": {
        "id": "view-in-github",
        "colab_type": "text"
      },
      "source": [
        "<a href=\"https://colab.research.google.com/github/erikmcguire/textworld_light/blob/main/Light_TTR_v4.ipynb\" target=\"_parent\"><img src=\"https://colab.research.google.com/assets/colab-badge.svg\" alt=\"Open In Colab\"/></a>"
      ]
    },
    {
      "cell_type": "markdown",
      "metadata": {
        "id": "5BdnOKxcArkc"
      },
      "source": [
        "## Set path to data folder to use in notebook. Install and import dependencies."
      ]
    },
    {
      "cell_type": "markdown",
      "source": [
        "For significance tests: install scipy >= 1.10.0 (for `permutation_test`) now to avoid having to restart and lose variables, etc. when installing and restarting later."
      ],
      "metadata": {
        "id": "7DrBDDyD4Mi2"
      }
    },
    {
      "cell_type": "code",
      "execution_count": null,
      "metadata": {
        "id": "w7edgezj3IxO"
      },
      "outputs": [],
      "source": [
        "DATA_PTH = \"/../content/drive/MyDrive/data/light_data/\""
      ]
    },
    {
      "cell_type": "code",
      "source": [
        "!pip3 install scipy==1.10.0 &> /dev/null\n",
        "!pip install pingouin pyyaml==5.4.1 &> /dev/null"
      ],
      "metadata": {
        "id": "fZEYwEw6XeW8"
      },
      "execution_count": null,
      "outputs": []
    },
    {
      "cell_type": "code",
      "source": [
        "import scipy\n",
        "scipy.__version__"
      ],
      "metadata": {
        "id": "9Zgq-DpPXjrm"
      },
      "execution_count": null,
      "outputs": []
    },
    {
      "cell_type": "code",
      "execution_count": null,
      "metadata": {
        "id": "0J7Z5zBeScAb"
      },
      "outputs": [],
      "source": [
        "import spacy\n",
        "from scipy import stats\n",
        "import pandas as pd\n",
        "from collections import Counter\n",
        "import warnings\n",
        "import sys\n",
        "import random\n",
        "import numpy as np\n",
        "from itertools import product\n",
        "import pandas as pd\n",
        "from collections import Counter\n",
        "import numpy as np"
      ]
    },
    {
      "cell_type": "code",
      "source": [
        "import pingouin as pg"
      ],
      "metadata": {
        "id": "EHxUyh94Q-b0"
      },
      "execution_count": null,
      "outputs": []
    },
    {
      "cell_type": "markdown",
      "metadata": {
        "id": "OyZrggMkUVpX"
      },
      "source": [
        "# I. Create verb-object count dictionaries"
      ]
    },
    {
      "cell_type": "markdown",
      "metadata": {
        "id": "gAoK_dIGHcwr"
      },
      "source": [
        "### 1. Install spacy transformers if necessary."
      ]
    },
    {
      "cell_type": "code",
      "execution_count": null,
      "metadata": {
        "id": "34S0KrzdKzM1"
      },
      "outputs": [],
      "source": [
        "!pip install spacy-transformers &> /dev/null"
      ]
    },
    {
      "cell_type": "code",
      "execution_count": null,
      "metadata": {
        "id": "2BFcADszSjHJ"
      },
      "outputs": [],
      "source": [
        "!python3 -m spacy download en_core_web_trf"
      ]
    },
    {
      "cell_type": "code",
      "execution_count": null,
      "metadata": {
        "id": "FTqU8CihVAif"
      },
      "outputs": [],
      "source": [
        "import spacy_transformers"
      ]
    },
    {
      "cell_type": "code",
      "execution_count": null,
      "metadata": {
        "id": "kHcsjkPr_Mly"
      },
      "outputs": [],
      "source": [
        "# spacy.prefer_gpu()\n",
        "spacy.require_gpu()\n",
        "nlp = spacy.load('en_core_web_trf')"
      ]
    },
    {
      "cell_type": "markdown",
      "metadata": {
        "id": "yIs5DOtya-jK"
      },
      "source": [
        "### 2. Definitions for parsing direct objects"
      ]
    },
    {
      "cell_type": "code",
      "execution_count": null,
      "metadata": {
        "id": "HdzCbESnUa_V"
      },
      "outputs": [],
      "source": [
        "vset = {'drink','drop','eat','follow','get','give',\n",
        "        'go','hit','hug','put','remove','steal',\n",
        "        'use','wear','wield'}\n",
        "\n",
        "def get_object(doc):\n",
        "    # https://subscription.packtpub.com/book/data/9781838987312/2/ch02lvl1sec16/extracting-subjects-and-objects-of-the-sentence\n",
        "    for token in doc:\n",
        "        if (\"dobj\" in token.dep_):\n",
        "            subtree = list(token.subtree)\n",
        "            start = subtree[0].i\n",
        "            end = subtree[-1].i + 1\n",
        "            return doc[start:end]\n",
        "\n",
        "def get_o(vo, doc):\n",
        "    # The 15 Light commands\n",
        "    vset = ['drink','drop','eat','follow','get','give',\n",
        "            'go','hit','hug','put','remove','steal',\n",
        "            'use','wear','wield']\n",
        "    try:\n",
        "        nc = next(doc.noun_chunks)\n",
        "    except:\n",
        "        pass\n",
        "    for token in doc:\n",
        "        if str(token) in vset and str(token.dep_) != \"ROOT\":\n",
        "            # probably needs det if first verb not root\n",
        "            vo2 = vo.split()[0] + \" a \" + \" \".join(vo.split()[1:])\n",
        "            doc = nlp(vo2)\n",
        "            for token in doc:\n",
        "                # try def vs indef articles if still does't work\n",
        "                if str(token) in vset and str(token.dep_) != \"ROOT\":\n",
        "                    vo3 = vo.split()[0] + \" the \" + \" \".join(vo.split()[1:])\n",
        "                    doc = nlp(vo3)\n",
        "    for token in doc:\n",
        "        if str(token) in vset and str(token.dep_) != \"ROOT\":\n",
        "            # give up and use latter part of original action\n",
        "            o = \" \".join(vo.split()[1:])\n",
        "        elif str(token) in vset and str(token.dep_) == \"ROOT\":\n",
        "            o = get_object(doc)\n",
        "            o = str(o)\n",
        "            o = o.replace(\"the \", \"\").replace(\"a \", \"\")\n",
        "            try:\n",
        "                nctr = nc.text.replace(\"the \", \"\").replace(\"a \", \"\")\n",
        "                if nctr.split(\" \")[0] in vset:\n",
        "                    nctr = \" \".join(nctr.split(\" \")[1:])\n",
        "                if o not in nctr:\n",
        "                    o = nctr\n",
        "            except:\n",
        "                pass\n",
        "    if o == \"None\":\n",
        "        o = \" \".join(vo.split()[1:])\n",
        "    return o"
      ]
    },
    {
      "cell_type": "markdown",
      "metadata": {
        "id": "h1EBwOKkbCz5"
      },
      "source": [
        "### 3. Create dictionaries from original or generated data"
      ]
    },
    {
      "cell_type": "code",
      "execution_count": null,
      "metadata": {
        "cellView": "form",
        "id": "1fsbZ4RJJ063"
      },
      "outputs": [],
      "source": [
        "#@title ###### a. Run cell to select whether to load original or genderated split data, generation mode (sample or beam)\n",
        "gen = \"true\" #@param [\"true\", \"false\"]\n",
        "genmd = \"quest_sampl\" #@param [\"quest_sampl\", \"quest_beaml\"]"
      ]
    },
    {
      "cell_type": "markdown",
      "metadata": {
        "id": "IdmoD7-tXWwW"
      },
      "source": [
        "- Define function to get command counts per gender keyed by actions, that is, set of objects each action applied to.\n",
        "- Define function to collect single word objects.\n",
        "- Load data and use to get counts of verb-parsed objects.\n",
        "- Get list of simple objects, then if that object in multiword list, remove multi, increment simple\n",
        "- Collect and combine object sets per gender.\n",
        "- Create counter of affordance pairings for each object."
      ]
    },
    {
      "cell_type": "code",
      "execution_count": null,
      "metadata": {
        "cellView": "form",
        "id": "Xicv543_VRkz"
      },
      "outputs": [],
      "source": [
        "#@title Define utils\n",
        "\n",
        "def get_vod(df, ky):\n",
        "    \"\"\"Create counts of commands (action-object pairings) per gender,\n",
        "    e.g. male: wield+sword (vod_df[\"M\"][\"wield\"][\"sword\"])\n",
        "    occurs 58 times\n",
        "    \"\"\"\n",
        "    vod = {g: {v: Counter()\n",
        "            for v in vset}\n",
        "       for g in [\"M\", \"F\", \"N\"]}\n",
        "    # Count\n",
        "    for g in [\"M\", \"F\", \"N\"]:\n",
        "        vo_pairs_g = df[df.gender == g][ky]\n",
        "        for vol in vo_pairs_g.tolist():\n",
        "            for vo in vol:\n",
        "                v = vo.split()[0]\n",
        "                doc = nlp(vo)\n",
        "                o = get_o(vo, doc)\n",
        "                if not o.strip():\n",
        "                    o = \" \".join(vo.split()[1:])\n",
        "                vod[g][v][o] += 1\n",
        "    return vod\n",
        "\n",
        "def get_simplified(vod_df):\n",
        "    for g in [\"M\", \"F\", \"N\"]:\n",
        "        objects = set() # create initial list of single word objects\n",
        "        for v, od in vod_df[g].items():\n",
        "            for o, c in od.items():\n",
        "                if len(o.split(\" \")) == 1:\n",
        "                    objects.add(o)\n",
        "        # replace instances where duplicates hidden by modifiers\n",
        "        # e.g. as in multiword yet contains object above\n",
        "        # ex: 'hot tea' can be seen as dupe of 'tea'\n",
        "        for v, od in vod_df[g].items():\n",
        "            new_od = Counter(od) # can't change od size during loop\n",
        "            for o, c in od.items():\n",
        "                maybe_add = []\n",
        "                if len(o.split(\" \")) > 1: # ex: 'hot tea'\n",
        "                    old_o = o\n",
        "                    o = o.split(\" because \")[0]\n",
        "                    o = o.split(\" and \")[0]\n",
        "                    o = o.split(\" from \")[0]\n",
        "                    o = o.split(\" to \")[0]\n",
        "                    o = o.split(\" with \")[0]\n",
        "                    for el in o.split(\" \"): # ex: ['hot', 'tea']\n",
        "                        if el in objects: # e.g. 'tea' in objects\n",
        "                            # Assume match can be replaced\n",
        "                            # e.g. 'hot tea' effectively replaced by 'tea'\n",
        "                            # by incrementing 'tea' and removing 'hot tea'\n",
        "                            maybe_add.append((el, c))\n",
        "                    if len(maybe_add) > 1:\n",
        "                        el, c = maybe_add[-1] # could go by more common, but use final, assume prev are modifiers\n",
        "                    new_od[el] += c # increment simple\n",
        "                    if old_o in new_od.keys():\n",
        "                        new_od.pop(old_o) # remove multiword\n",
        "            vod_df[g][v] = new_od\n",
        "    vod = vod_df.to_dict()\n",
        "    return vod_df, vod\n",
        "\n",
        "def get_objects(vod_df, g):\n",
        "    objects = set() # create initial list of single word objects\n",
        "    for v, od in vod_df[g].items():\n",
        "        for o, c in od.items():\n",
        "            if len(o.split(\" \")) == 1:\n",
        "                objects.add(o)\n",
        "    return objects\n",
        "\n",
        "def get_obj_set(vod_df):\n",
        "    objects_m = get_objects(vod_df, \"M\")\n",
        "    objects_f = get_objects(vod_df, \"F\")\n",
        "    objects_n = get_objects(vod_df, \"N\")\n",
        "    objects = objects_m | objects_f | objects_n\n",
        "    return objects\n",
        "\n",
        "def get_o2v(objects, vod_df):\n",
        "    o2v = {g: {o: Counter() for o in objects}\n",
        "           for g in [\"M\", \"F\", \"N\"]}\n",
        "    for g in [\"M\", \"F\", \"N\"]:\n",
        "        for v, od in vod_df[g].items():\n",
        "            for o in objects:\n",
        "                if o in od.keys():\n",
        "                    o2v[g][o][v] += od[o]\n",
        "        o2v[g] = dict(filter(lambda o: o[1], o2v[g].items()))\n",
        "\n",
        "    assert set(pd.DataFrame.from_dict(o2v).T.keys()) == set(objects)\n",
        "    o2v_df = pd.DataFrame.from_dict(o2v)\n",
        "    return o2v_df, o2v\n",
        "\n",
        "vset = {'drink','drop','eat','follow','get','give',\n",
        "            'go','hit','hug','put','remove','steal',\n",
        "            'use','wear','wield'}\n",
        "\n",
        "cd = {\"all\": 1640, \"m\": 205, \"f\": 180, \"n\": 1305,\n",
        "      \"m_subset\": 180, \"all_subset\": 180, \"n_subset\": 180}\n",
        "\n",
        "def get_questl(x, ky):\n",
        "    \"\"\" 'a, b, c' -> ['a', 'b', 'c']\"\"\"\n",
        "    x[f\"{ky}l\"] = [c for c in x[ky].split(\", \") if c.split()[0] in vset]\n",
        "    return x"
      ]
    },
    {
      "cell_type": "markdown",
      "metadata": {
        "id": "fFK8MZw31uIb"
      },
      "source": [
        "###### Import and load original data, generated."
      ]
    },
    {
      "cell_type": "code",
      "execution_count": null,
      "metadata": {
        "colab": {
          "base_uri": "https://localhost:8080/",
          "height": 233
        },
        "id": "7uFEHdOZrZ5R",
        "outputId": "6828776e-108e-4b73-af41-f86e078dd7da"
      },
      "outputs": [
        {
          "output_type": "stream",
          "name": "stdout",
          "text": [
            "Loaded dfqq_gmn dataset containing columns:\n"
          ]
        },
        {
          "output_type": "display_data",
          "data": {
            "text/plain": [
              "Index(['character', 'persona', 'description', 'goal', 'short_motivation',\n",
              "       'mid_motivation', 'long_motivation', 'timeline', 'quest', 'questl',\n",
              "       'verbs', 'character_sm', 'location', 'clsm', 'gender', 'gverb',\n",
              "       'agencies', 'locations', 'characters', 'foods', 'objects'],\n",
              "      dtype='object')"
            ]
          },
          "metadata": {}
        },
        {
          "output_type": "stream",
          "name": "stdout",
          "text": [
            "\n",
            "# examples per gender:\n",
            "\n",
            "Male 936\n",
            "Female 570\n",
            "Neutral 5980\n"
          ]
        }
      ],
      "source": [
        "dfqq_gmn = pd.read_pickle(f\"{DATA_PTH}dfqq_gmn.pkl\")\n",
        "counts = {\"male\": (dfqq_gmn.gender == \"M\").sum(),\n",
        "          \"female\": (dfqq_gmn.gender == \"F\").sum(),\n",
        "          \"neutral\": (dfqq_gmn.gender == \"N\").sum()}\n",
        "print(\"Loaded dfqq_gmn dataset containing columns:\")\n",
        "display(dfqq_gmn.columns)\n",
        "print(\"\\n# examples per gender:\\n\")\n",
        "for g, c in counts.items():\n",
        "    print(g.capitalize(), c)"
      ]
    },
    {
      "cell_type": "markdown",
      "metadata": {
        "id": "0q9Ch3GmPH4j"
      },
      "source": [
        "##### 1. Create gender-annotated generation data if necessary."
      ]
    },
    {
      "cell_type": "markdown",
      "metadata": {
        "id": "_lHGWyuYNvyr"
      },
      "source": [
        "###### a. If annotating generated data with gender, first load generated\n",
        "###### b. Rename column for merging; merge to add gender annotation to generated.\n",
        "###### c. Convert quest string into list of commands for quests generated from both generation methods.\n",
        "###### d. Save for this split."
      ]
    },
    {
      "cell_type": "code",
      "execution_count": null,
      "metadata": {
        "id": "l9f_R12xsd_R"
      },
      "outputs": [],
      "source": [
        "dfqq_gmn = dfqq_gmn.rename({\"clsm\": \"prompt\"}, axis=1)"
      ]
    },
    {
      "cell_type": "code",
      "execution_count": null,
      "metadata": {
        "id": "YaonBcbDIpXh",
        "cellView": "form"
      },
      "outputs": [],
      "source": [
        "#@title Bulk load generated quests and merge generation methods (sampling, beam), convert quests to lists\n",
        "save_genderated = False #@param {'type': 'boolean'}\n",
        "for gnsd in [42, 7304, 7696]:\n",
        "    for gnder in cd.keys():\n",
        "        for split in [\"train\", \"dev\", \"test\"]:\n",
        "            generated = pd.read_pickle(f\"{DATA_PTH}generated_{split}_merged_{gnder.lower()}_{gnsd}.pkl\")\n",
        "            genderated = pd.merge(generated, right=dfqq_gmn.loc[:, [\"gender\", \"prompt\"]], on=\"prompt\")\n",
        "            genderated = genderated.rename({\"quest_gen\": \"quest_samp\"}, axis=1)\n",
        "            genderated = genderated.apply(lambda y: get_questl(y, ky='quest_samp'), axis=1)\n",
        "            genderated = genderated.apply(lambda y: get_questl(y, ky='quest_beam'), axis=1)\n",
        "            if save_genderated:\n",
        "                genderated.to_pickle(f\"{DATA_PTH}genderated_{split}_merged_{gnder.lower()}_{gnsd}.pkl\")"
      ]
    },
    {
      "cell_type": "code",
      "execution_count": null,
      "metadata": {
        "id": "z0mWYLXKXU7e",
        "cellView": "form"
      },
      "outputs": [],
      "source": [
        "#@title Bulk create, save\n",
        "save_vod = False #@param {'type': 'boolean'}\n",
        "save_o2v = False #@param {'type': 'boolean'}\n",
        "save_simp = False #@param {'type': 'boolean'}\n",
        "if gen == \"true\":\n",
        "    for gnder in cd.keys():\n",
        "        gnder = gnder.lower()\n",
        "        print(gnder)\n",
        "        for gnsd in [42, 7304, 7696]:\n",
        "            print(gnsd)\n",
        "            for genmd in [\"quest_sampl\", \"quest_beaml\"]:\n",
        "                print(genmd)\n",
        "                for split in [\"train\", \"dev\", \"test\"]:\n",
        "                    print(split)\n",
        "                    genderated = pd.read_pickle(f\"{DATA_PTH}genderated_{split}_merged_{gnder}_{gnsd}.pkl\")\n",
        "                    print(\"\\nLoaded gender annotated merged quests.\")\n",
        "                    vod_df = pd.DataFrame.from_dict(get_vod(genderated, genmd))\n",
        "                    if save_vod:\n",
        "                        vod_df.to_pickle(f\"{DATA_PTH}vod_df_genderated_{split}_{gnder}_{genmd}_{gnsd}.pkl\")\n",
        "                        print(\"Saved VOD df.\")\n",
        "                    vod_df, vod = get_simplified(vod_df)\n",
        "                    if save_simp:\n",
        "                        vod_df.to_pickle(f\"{DATA_PTH}vod_df_genderated_{split}_simplified_{gnder}_{genmd}_{gnsd}.pkl\") # after running fn to replace multiword on loaded vod_df.pkl\n",
        "                        print(\"Saved simplified VOD df.\")\n",
        "                    objects = get_obj_set(vod_df)\n",
        "                    o2v_df, o2v = get_o2v(objects, vod_df)\n",
        "                    if save_o2v:\n",
        "                        o2v_df.to_pickle(f\"{DATA_PTH}o2v_df_genderated_{split}_{gnder}_{genmd}_{gnsd}.pkl\")\n",
        "                        print(\"Saved O2V df.\\n\")\n",
        "else:\n",
        "    dfqq_gmn = pd.read_pickle(f\"{DATA_PTH}dfqq_gmn.pkl\")\n",
        "    vod_df = pd.DataFrame.from_dict(get_vod(dfqq_gmn, \"questl\"))\n",
        "    if save_vod:\n",
        "        vod_df.to_pickle(f\"{DATA_PTH}vod_df.pkl\")\n",
        "        print(\"Saved VOD df.\")\n",
        "    vod_df, vod = get_simplified(vod_df)\n",
        "    if save_simp:\n",
        "        vod_df.to_pickle(f\"{DATA_PTH}vod_df_simplified.pkl\") # after running fn to replace multiword on loaded vod_df.pkl\n",
        "        print(\"Saved simplified VOD df.\")\n",
        "    objects = get_obj_set(vod_df)\n",
        "    o2v_df, o2v = get_o2v(objects, vod_df)\n",
        "    if save_o2v:\n",
        "        o2v_df.to_pickle(f\"{DATA_PTH}o2v_df.pkl\")\n",
        "        print(\"Saved O2V df.\\n\")"
      ]
    },
    {
      "cell_type": "markdown",
      "metadata": {
        "id": "AeXfGLg1UC-8"
      },
      "source": [
        "# II. Load verb-object count dictionaries and analyze/visualize TTR"
      ]
    },
    {
      "cell_type": "markdown",
      "metadata": {
        "id": "m-GB5JvyPe2X"
      },
      "source": [
        "### A. Annotate, explore data, load created dictionaries for TTR."
      ]
    },
    {
      "cell_type": "markdown",
      "metadata": {
        "id": "JEfi6Yq8OPq3"
      },
      "source": [
        "##### 2. Load dictionaries created in [I](#scrollTo=OyZrggMkUVpX)."
      ]
    },
    {
      "cell_type": "code",
      "execution_count": null,
      "metadata": {
        "colab": {
          "base_uri": "https://localhost:8080/"
        },
        "id": "oCKlOc71rbfn",
        "outputId": "5dcba5c4-4e97-4b6c-9249-ab2105a5a8b1",
        "cellView": "form"
      },
      "outputs": [
        {
          "output_type": "stream",
          "name": "stdout",
          "text": [
            "Loading parsed original dataset.\n",
            "Verb-object (affordant objects) dictionary path: /../content/drive/MyDrive/data/light_data/vod_df_simplified.pkl\n",
            "Object-verb (objects' affordances) dictionary path: /../content/drive/MyDrive/data/light_data/o2v_df.pkl\n",
            "Loaded as dataframes vod_df, o2v_df, set dictionaries vod, o2v.\n",
            "\n",
            "# objects: 3254\n",
            "M - # Objects with associated actions: 1131\n",
            "F - # Objects with associated actions: 803\n",
            "N - # Objects with associated actions: 2977\n"
          ]
        }
      ],
      "source": [
        "#@title Select and run to load ```vod_df, o2v_df```\n",
        "\n",
        "split = \"train\" #@param [\"train\", \"dev\", \"test\"]\n",
        "gen = \"false\" #@param [\"true\", \"false\"]\n",
        "gnder = \"m_subset\" #@param [\"m_subset\", \"n_subset\", \"all\", \"m\", \"f\", \"n\"]\n",
        "gnsd = \"42\" #@param [42, 7304, 7696]\n",
        "gtyp = \"quest_sampl\" #@param [\"quest_sampl\", \"quest_beaml\"]\n",
        "if gen == \"true\":\n",
        "    vod_df = pd.read_pickle(f\"{DATA_PTH}vod_df_genderated_{split}_simplified_{gnder}_{gtyp}_{gnsd}.pkl\")\n",
        "    o2v_df = pd.read_pickle(f\"{DATA_PTH}o2v_df_genderated_{split}_{gnder}_{gtyp}_{gnsd}.pkl\")\n",
        "else:\n",
        "    print(\"Loading parsed original dataset.\")\n",
        "    print(f\"Verb-object (affordant objects) dictionary path: {DATA_PTH}vod_df_simplified.pkl\")\n",
        "    print(f\"Object-verb (objects' affordances) dictionary path: {DATA_PTH}o2v_df.pkl\")\n",
        "    vod_df = pd.read_pickle(f\"{DATA_PTH}vod_df_simplified.pkl\")\n",
        "    o2v_df = pd.read_pickle(f\"{DATA_PTH}o2v_df.pkl\")\n",
        "    print(\"Loaded as dataframes vod_df, o2v_df, set dictionaries vod, o2v.\")\n",
        "vod = vod_df.to_dict()\n",
        "o2v = o2v_df.to_dict()\n",
        "print(f\"\\n# objects: {o2v_df.T.keys().size}\")\n",
        "for g in [\"M\", \"F\", \"N\"]:\n",
        "    print(f\"{g} - # Objects with associated actions: {o2v_df[g].dropna(axis=0).size}\")"
      ]
    },
    {
      "cell_type": "code",
      "execution_count": null,
      "metadata": {
        "colab": {
          "base_uri": "https://localhost:8080/"
        },
        "id": "b5P-Iko3FEUq",
        "outputId": "7e9b1b8e-124a-43e4-d25e-f9145c2228f7",
        "cellView": "form"
      },
      "outputs": [
        {
          "output_type": "stream",
          "name": "stdout",
          "text": [
            "Set o2v2 from o2v_df2 dataframe (only objects w/ >= 4 actions).\n",
            "# objects: 823\n",
            "M - # Objects with associated actions: 513\n",
            "F - # Objects with associated actions: 400\n",
            "N - # Objects with associated actions: 820\n"
          ]
        }
      ],
      "source": [
        "#@title Filter to only objects with $\\small\\geq$ top-$n$ actions (reflects SS)\n",
        "def sum_actions(x):\n",
        "    acts = Counter()\n",
        "    for g in [\"M\", \"F\", \"N\"]:\n",
        "        if type(x[g]) != float:\n",
        "            for a, c in x[g].items():\n",
        "                acts[a] += c\n",
        "    x[\"total\"] = len(acts.keys())\n",
        "    x[\"sorted_all\"] = [a for a, c in acts.most_common()]\n",
        "    return x\n",
        "topn = 4 #@param\n",
        "o2v_df2 = o2v_df.apply(sum_actions, axis=1)\n",
        "o2v_df2 = o2v_df2[o2v_df2.total >= topn]\n",
        "o2v2 = o2v_df2.to_dict()\n",
        "print(f\"Set o2v2 from o2v_df2 dataframe (only objects w/ >= {topn} actions).\")\n",
        "print(f\"# objects: {o2v_df2.T.keys().size}\")\n",
        "for g in [\"M\", \"F\", \"N\"]:\n",
        "    print(f\"{g} - # Objects with associated actions: {o2v_df2[g].dropna(axis=0).size}\")"
      ]
    },
    {
      "cell_type": "markdown",
      "metadata": {
        "id": "by5uDJWcbvV9"
      },
      "source": [
        "### B. Compute TTR"
      ]
    },
    {
      "cell_type": "code",
      "execution_count": null,
      "metadata": {
        "id": "dbPJClhAsBG3",
        "cellView": "form"
      },
      "outputs": [],
      "source": [
        "#@title ##### a. Define TTR computation, sig test functions\n",
        "\n",
        "def get_ttr(d):\n",
        "    \"\"\"Compute TTR, TTA.\"\"\"\n",
        "    ttr_d = {g: dict() for g in [\"M\", \"F\", \"N\"]}\n",
        "    tta_d = {g: dict() for g in [\"M\", \"F\", \"N\"]}\n",
        "    for g in [\"M\", \"F\", \"N\"]:\n",
        "        for k, v in d[g].items():\n",
        "            if type(v) != float: # is dict, not nan\n",
        "                ntypes = len(v.keys()) # unique objects for action or commands for object\n",
        "                ntokens = sum(v.values()) # sum counts for each command\n",
        "                if ntokens == 0:\n",
        "                    ttr_d[g][k] = 0\n",
        "                else:\n",
        "                    ttr_d[g][k] = ntypes/ntokens # set ttr for gender's object or action key\n",
        "                alltypes = {t for gg in [\"M\", \"F\", \"N\"] if type(d[gg][k]) != float for t in d[gg][k].keys()}\n",
        "                all_types = len(alltypes)\n",
        "                tta_d[g][k] = ntypes/all_types\n",
        "                 # Total TTR divided by # unique objects or actions\n",
        "    tta_df = pd.DataFrame(tta_d)\n",
        "    tta_df2 = tta_df.mean()\n",
        "    ttr_df = pd.DataFrame(ttr_d)\n",
        "    ttr_df2 = ttr_df.mean()\n",
        "    return tta_df, ttr_df, tta_df2, ttr_df2\n",
        "\n",
        "def statistic(x, y, axis):\n",
        "    \"\"\"Test statistic for permutation tests.\"\"\"\n",
        "    return np.mean(x, axis=axis) - np.mean(y, axis=axis)\n",
        "\n",
        "def get_res(a, b, alpha=0.01, alt='greater'):\n",
        "    res = scipy.stats.permutation_test(data=[a, b],\n",
        "                                            statistic=statistic,\n",
        "                                            n_resamples=10000,\n",
        "                                            permutation_type='samples',\n",
        "                                            alternative=alt,\n",
        "                                            random_state=2222)\n",
        "    mean_diff = res.statistic\n",
        "    pval = res.pvalue\n",
        "    d = pg.compute_effsize(a, b, eftype='cohen')\n",
        "    if alt == 'greater':\n",
        "        cles = pg.compute_effsize(a, b, eftype='cles')\n",
        "    elif alt == 'less':\n",
        "        cles = pg.compute_effsize(b, a, eftype='cles')\n",
        "    else:\n",
        "        cles = 0\n",
        "    power = pg.power_ttest(d=d, alpha=alpha, n=len(a),\n",
        "                            alternative=alt)\n",
        "    return {\"diff\": mean_diff, \"pval\": pval, \"sig\": pval < alpha, \"d\": d, \"cles\": cles, 'power': power, 'alt': alt}\n",
        "\n",
        "def eq_df(df):\n",
        "    df = df.fillna(0)\n",
        "    df = df[df.M != 0]\n",
        "    df = df[df.F != 0]\n",
        "    return df"
      ]
    },
    {
      "cell_type": "markdown",
      "metadata": {
        "id": "naVcMZq0PqCz"
      },
      "source": [
        "##### b. Run TTR on data, format, save"
      ]
    },
    {
      "cell_type": "code",
      "execution_count": null,
      "metadata": {
        "id": "Bc9oj0Mkvq4i"
      },
      "outputs": [],
      "source": [
        "ttav_df_o, ttrv_df_o, ttav_df, ttrv_df = get_ttr(vod) # action -> objects\n",
        "\n",
        "ppv = f\"Diversity of objects\"\n",
        "print(ppv,\n",
        "        f\"\\n\\nMean gender type vs. gender token (TTR):\\n{ttrv_df.to_string(index=True)}\",\n",
        "        f\"\\n\\nMean gender object type vs. all dataset types, averaged over actions:\\n{ttav_df.to_string(index=True)}\")\n",
        "ttao_df_o, ttro_df_o, ttao_df, ttro_df = get_ttr(o2v)\n",
        "\n",
        "ppo = f\"\\nDiversity of actions\"\n",
        "print(ppo,\n",
        "        f\"\\n\\nMean gender type vs. gender token (TTR):\\n{ttro_df.to_string(index=True)}\",\n",
        "        f\"\\n\\nMean gender action type vs. all dataset action types, averaged over objects:\\n{ttao_df.to_string(index=True)}\")"
      ]
    },
    {
      "cell_type": "code",
      "source": [
        "df = eq_df(ttav_df_o)\n",
        "#a, b = ttrdf.M, ttrdf.F\n",
        "print(\"type-type action -> objects M > F\")\n",
        "print(get_res(df.M.values, df.F.values, 0.05, 'greater'))\n",
        "\n",
        "df = eq_df(ttao_df_o)\n",
        "print(\"type-type object -> actions M > F\")\n",
        "print(get_res(df.M.values, df.F.values, 0.05, 'greater'))\n",
        "\n",
        "df = eq_df(ttrv_df_o)\n",
        "#a, b = ttrdf.M, ttrdf.F\n",
        "print(\"ttr action -> objects M < F\")\n",
        "print(get_res(df.M.values, df.F.values, 0.05, 'less'))\n",
        "\n",
        "df = eq_df(ttro_df_o)\n",
        "print(\"ttr object -> actions M < F\")\n",
        "print(get_res(df.M.values, df.F.values, 0.05, 'less'))"
      ],
      "metadata": {
        "id": "pMmAhKvZ22U0"
      },
      "execution_count": null,
      "outputs": []
    },
    {
      "cell_type": "code",
      "execution_count": null,
      "metadata": {
        "id": "fWk0xzzlk5I6",
        "cellView": "form"
      },
      "outputs": [],
      "source": [
        "#@title Bulk run on generated to get TTR/TTA\n",
        "#gnder = \"m\" #@param [\"all\", \"all_subset\", \"m\", \"m_subset\", \"f\", \"n\", \"n_subset\"]\n",
        "all_d = dict()\n",
        "for gnder in [\"all\", \"all_subset\", \"m\", \"m_subset\", \"f\", \"n\", \"n_subset\"]:\n",
        "    gtyp = \"quest_sampl\" # param [\"quest_sampl\", \"quest_beaml\"]\n",
        "    dsplits = dict()\n",
        "    for split in [\"train\", \"dev\", \"test\"]:\n",
        "        ttav_df_all = pd.DataFrame()\n",
        "        ttrv_df_all = pd.DataFrame()\n",
        "        ttao_df_all = pd.DataFrame()\n",
        "        ttro_df_all = pd.DataFrame()\n",
        "        for gnsd in [42, 7304, 7696]:\n",
        "            vod_df = pd.read_pickle(f\"{DATA_PTH}vod_df_genderated_{split}_simplified_{gnder}_{gtyp}_{gnsd}.pkl\")\n",
        "            o2v_df = pd.read_pickle(f\"{DATA_PTH}o2v_df_genderated_{split}_{gnder}_{gtyp}_{gnsd}.pkl\")\n",
        "            vod = vod_df.to_dict()\n",
        "            o2v = o2v_df.to_dict()\n",
        "            ttav_df_o, ttrv_df_o, ttav_df, ttrv_df = get_ttr(vod)\n",
        "            ttao_df_o, ttro_df_o, ttao_df, ttro_df = get_ttr(o2v)\n",
        "            ttrv_df_all = pd.concat([ttrv_df_all, ttrv_df], axis=1)\n",
        "            ttro_df_all = pd.concat([ttro_df_all, ttro_df], axis=1)\n",
        "            ttav_df_all = pd.concat([ttav_df_all, ttav_df], axis=1)\n",
        "            ttao_df_all = pd.concat([ttao_df_all, ttao_df], axis=1)\n",
        "        dsplits[split] = [ttrv_df_all.mean(axis=1),\n",
        "                          ttro_df_all.mean(axis=1),\n",
        "                          ttav_df_all.mean(axis=1),\n",
        "                          ttao_df_all.mean(axis=1)]\n",
        "    all_d[gnder] = dsplits"
      ]
    },
    {
      "cell_type": "code",
      "source": [
        "new_all_d = dict()\n",
        "for gnder in all_d.keys():\n",
        "    splits_d = dict()\n",
        "    for split in [\"train\", \"dev\", \"test\"]:\n",
        "        split_df = pd.DataFrame(all_d[gnder][split]).T\n",
        "        split_df.columns = [\"ttr ao\", \"ttr oa\", \"tt ao\", \"tt oa\"]\n",
        "        split_df = split_df.apply(lambda x: round(x, 3), axis=0)\n",
        "        split_df = split_df.T\n",
        "        splits_d[split] = split_df\n",
        "\n",
        "    res = pd.concat(splits_d.values(), axis=0, keys=splits_d.keys())\n",
        "    new_all_d[gnder] = res"
      ],
      "metadata": {
        "id": "6olbr6kuDnoo"
      },
      "execution_count": null,
      "outputs": []
    },
    {
      "cell_type": "code",
      "source": [
        "print(pd.concat(new_all_d.values(), axis=1, keys=new_all_d.keys()).to_latex())"
      ],
      "metadata": {
        "id": "dx8M5kFSHek8"
      },
      "execution_count": null,
      "outputs": []
    },
    {
      "cell_type": "code",
      "source": [
        "new_all_df = pd.concat(new_all_d.values(), axis=1, keys=new_all_d.keys())"
      ],
      "metadata": {
        "id": "TbWq_XHdPMKO"
      },
      "execution_count": null,
      "outputs": []
    },
    {
      "cell_type": "code",
      "source": [
        "# new_all_df.to_csv(f\"{DATA_PTH}generated_ttr.csv\", index_label=new_all_df.index.tolist())"
      ],
      "metadata": {
        "id": "u2xK9zonP6g3"
      },
      "execution_count": null,
      "outputs": []
    },
    {
      "cell_type": "code",
      "source": [
        "test_df = pd.read_csv(f\"{DATA_PTH}generated_ttr.csv\", header=[0, 2], index_col=[0, 1])"
      ],
      "metadata": {
        "id": "i8hyogCaEbKL"
      },
      "execution_count": null,
      "outputs": []
    },
    {
      "cell_type": "code",
      "source": [
        "o2v_df_gen = pd.read_pickle(f\"{DATA_PTH}o2v_df_genderated_dev_m_quest_sampl_42.pkl\")"
      ],
      "metadata": {
        "id": "doZ3h4D9xaxe"
      },
      "execution_count": null,
      "outputs": []
    },
    {
      "cell_type": "code",
      "source": [
        "o2v_gen = o2v_df_gen.to_dict()\n",
        "ttav_df_o, ttrv_df_o, ttav_df, ttrv_df = get_ttr(o2v_gen)\n",
        "df = eq_df(ttav_df_o)"
      ],
      "metadata": {
        "id": "UCwIVOalxlGw"
      },
      "execution_count": null,
      "outputs": []
    },
    {
      "cell_type": "code",
      "source": [
        "ttav_df_o"
      ],
      "metadata": {
        "colab": {
          "base_uri": "https://localhost:8080/",
          "height": 423
        },
        "id": "R8P0VEXtyCeT",
        "outputId": "fc64ab4e-13e3-4b78-825c-0208501552ec"
      },
      "execution_count": null,
      "outputs": [
        {
          "output_type": "execute_result",
          "data": {
            "text/plain": [
              "                    M         F         N\n",
              "             0.333333       NaN  0.666667\n",
              "observatory  1.000000  1.000000  1.000000\n",
              "chair        0.666667  0.333333  0.666667\n",
              "boots        0.333333       NaN  0.666667\n",
              "infant       1.000000       NaN       NaN\n",
              "...               ...       ...       ...\n",
              "pier              NaN       NaN  1.000000\n",
              "juror             NaN       NaN  1.000000\n",
              "corn              NaN       NaN  1.000000\n",
              "preacher          NaN       NaN  1.000000\n",
              "box               NaN       NaN  1.000000\n",
              "\n",
              "[1056 rows x 3 columns]"
            ],
            "text/html": [
              "\n",
              "\n",
              "  <div id=\"df-1284c931-cef3-48d0-949f-1c565b8f0945\">\n",
              "    <div class=\"colab-df-container\">\n",
              "      <div>\n",
              "<style scoped>\n",
              "    .dataframe tbody tr th:only-of-type {\n",
              "        vertical-align: middle;\n",
              "    }\n",
              "\n",
              "    .dataframe tbody tr th {\n",
              "        vertical-align: top;\n",
              "    }\n",
              "\n",
              "    .dataframe thead th {\n",
              "        text-align: right;\n",
              "    }\n",
              "</style>\n",
              "<table border=\"1\" class=\"dataframe\">\n",
              "  <thead>\n",
              "    <tr style=\"text-align: right;\">\n",
              "      <th></th>\n",
              "      <th>M</th>\n",
              "      <th>F</th>\n",
              "      <th>N</th>\n",
              "    </tr>\n",
              "  </thead>\n",
              "  <tbody>\n",
              "    <tr>\n",
              "      <th></th>\n",
              "      <td>0.333333</td>\n",
              "      <td>NaN</td>\n",
              "      <td>0.666667</td>\n",
              "    </tr>\n",
              "    <tr>\n",
              "      <th>observatory</th>\n",
              "      <td>1.000000</td>\n",
              "      <td>1.000000</td>\n",
              "      <td>1.000000</td>\n",
              "    </tr>\n",
              "    <tr>\n",
              "      <th>chair</th>\n",
              "      <td>0.666667</td>\n",
              "      <td>0.333333</td>\n",
              "      <td>0.666667</td>\n",
              "    </tr>\n",
              "    <tr>\n",
              "      <th>boots</th>\n",
              "      <td>0.333333</td>\n",
              "      <td>NaN</td>\n",
              "      <td>0.666667</td>\n",
              "    </tr>\n",
              "    <tr>\n",
              "      <th>infant</th>\n",
              "      <td>1.000000</td>\n",
              "      <td>NaN</td>\n",
              "      <td>NaN</td>\n",
              "    </tr>\n",
              "    <tr>\n",
              "      <th>...</th>\n",
              "      <td>...</td>\n",
              "      <td>...</td>\n",
              "      <td>...</td>\n",
              "    </tr>\n",
              "    <tr>\n",
              "      <th>pier</th>\n",
              "      <td>NaN</td>\n",
              "      <td>NaN</td>\n",
              "      <td>1.000000</td>\n",
              "    </tr>\n",
              "    <tr>\n",
              "      <th>juror</th>\n",
              "      <td>NaN</td>\n",
              "      <td>NaN</td>\n",
              "      <td>1.000000</td>\n",
              "    </tr>\n",
              "    <tr>\n",
              "      <th>corn</th>\n",
              "      <td>NaN</td>\n",
              "      <td>NaN</td>\n",
              "      <td>1.000000</td>\n",
              "    </tr>\n",
              "    <tr>\n",
              "      <th>preacher</th>\n",
              "      <td>NaN</td>\n",
              "      <td>NaN</td>\n",
              "      <td>1.000000</td>\n",
              "    </tr>\n",
              "    <tr>\n",
              "      <th>box</th>\n",
              "      <td>NaN</td>\n",
              "      <td>NaN</td>\n",
              "      <td>1.000000</td>\n",
              "    </tr>\n",
              "  </tbody>\n",
              "</table>\n",
              "<p>1056 rows × 3 columns</p>\n",
              "</div>\n",
              "      <button class=\"colab-df-convert\" onclick=\"convertToInteractive('df-1284c931-cef3-48d0-949f-1c565b8f0945')\"\n",
              "              title=\"Convert this dataframe to an interactive table.\"\n",
              "              style=\"display:none;\">\n",
              "\n",
              "  <svg xmlns=\"http://www.w3.org/2000/svg\" height=\"24px\"viewBox=\"0 0 24 24\"\n",
              "       width=\"24px\">\n",
              "    <path d=\"M0 0h24v24H0V0z\" fill=\"none\"/>\n",
              "    <path d=\"M18.56 5.44l.94 2.06.94-2.06 2.06-.94-2.06-.94-.94-2.06-.94 2.06-2.06.94zm-11 1L8.5 8.5l.94-2.06 2.06-.94-2.06-.94L8.5 2.5l-.94 2.06-2.06.94zm10 10l.94 2.06.94-2.06 2.06-.94-2.06-.94-.94-2.06-.94 2.06-2.06.94z\"/><path d=\"M17.41 7.96l-1.37-1.37c-.4-.4-.92-.59-1.43-.59-.52 0-1.04.2-1.43.59L10.3 9.45l-7.72 7.72c-.78.78-.78 2.05 0 2.83L4 21.41c.39.39.9.59 1.41.59.51 0 1.02-.2 1.41-.59l7.78-7.78 2.81-2.81c.8-.78.8-2.07 0-2.86zM5.41 20L4 18.59l7.72-7.72 1.47 1.35L5.41 20z\"/>\n",
              "  </svg>\n",
              "      </button>\n",
              "\n",
              "\n",
              "\n",
              "    <div id=\"df-8f0f6c7e-3fb6-4c2b-8216-cc3a02ad93e8\">\n",
              "      <button class=\"colab-df-quickchart\" onclick=\"quickchart('df-8f0f6c7e-3fb6-4c2b-8216-cc3a02ad93e8')\"\n",
              "              title=\"Suggest charts.\"\n",
              "              style=\"display:none;\">\n",
              "\n",
              "<svg xmlns=\"http://www.w3.org/2000/svg\" height=\"24px\"viewBox=\"0 0 24 24\"\n",
              "     width=\"24px\">\n",
              "    <g>\n",
              "        <path d=\"M19 3H5c-1.1 0-2 .9-2 2v14c0 1.1.9 2 2 2h14c1.1 0 2-.9 2-2V5c0-1.1-.9-2-2-2zM9 17H7v-7h2v7zm4 0h-2V7h2v10zm4 0h-2v-4h2v4z\"/>\n",
              "    </g>\n",
              "</svg>\n",
              "      </button>\n",
              "    </div>\n",
              "\n",
              "<style>\n",
              "  .colab-df-quickchart {\n",
              "    background-color: #E8F0FE;\n",
              "    border: none;\n",
              "    border-radius: 50%;\n",
              "    cursor: pointer;\n",
              "    display: none;\n",
              "    fill: #1967D2;\n",
              "    height: 32px;\n",
              "    padding: 0 0 0 0;\n",
              "    width: 32px;\n",
              "  }\n",
              "\n",
              "  .colab-df-quickchart:hover {\n",
              "    background-color: #E2EBFA;\n",
              "    box-shadow: 0px 1px 2px rgba(60, 64, 67, 0.3), 0px 1px 3px 1px rgba(60, 64, 67, 0.15);\n",
              "    fill: #174EA6;\n",
              "  }\n",
              "\n",
              "  [theme=dark] .colab-df-quickchart {\n",
              "    background-color: #3B4455;\n",
              "    fill: #D2E3FC;\n",
              "  }\n",
              "\n",
              "  [theme=dark] .colab-df-quickchart:hover {\n",
              "    background-color: #434B5C;\n",
              "    box-shadow: 0px 1px 3px 1px rgba(0, 0, 0, 0.15);\n",
              "    filter: drop-shadow(0px 1px 2px rgba(0, 0, 0, 0.3));\n",
              "    fill: #FFFFFF;\n",
              "  }\n",
              "</style>\n",
              "\n",
              "    <script>\n",
              "      async function quickchart(key) {\n",
              "        const containerElement = document.querySelector('#' + key);\n",
              "        const charts = await google.colab.kernel.invokeFunction(\n",
              "            'suggestCharts', [key], {});\n",
              "      }\n",
              "    </script>\n",
              "\n",
              "      <script>\n",
              "\n",
              "function displayQuickchartButton(domScope) {\n",
              "  let quickchartButtonEl =\n",
              "    domScope.querySelector('#df-8f0f6c7e-3fb6-4c2b-8216-cc3a02ad93e8 button.colab-df-quickchart');\n",
              "  quickchartButtonEl.style.display =\n",
              "    google.colab.kernel.accessAllowed ? 'block' : 'none';\n",
              "}\n",
              "\n",
              "        displayQuickchartButton(document);\n",
              "      </script>\n",
              "      <style>\n",
              "    .colab-df-container {\n",
              "      display:flex;\n",
              "      flex-wrap:wrap;\n",
              "      gap: 12px;\n",
              "    }\n",
              "\n",
              "    .colab-df-convert {\n",
              "      background-color: #E8F0FE;\n",
              "      border: none;\n",
              "      border-radius: 50%;\n",
              "      cursor: pointer;\n",
              "      display: none;\n",
              "      fill: #1967D2;\n",
              "      height: 32px;\n",
              "      padding: 0 0 0 0;\n",
              "      width: 32px;\n",
              "    }\n",
              "\n",
              "    .colab-df-convert:hover {\n",
              "      background-color: #E2EBFA;\n",
              "      box-shadow: 0px 1px 2px rgba(60, 64, 67, 0.3), 0px 1px 3px 1px rgba(60, 64, 67, 0.15);\n",
              "      fill: #174EA6;\n",
              "    }\n",
              "\n",
              "    [theme=dark] .colab-df-convert {\n",
              "      background-color: #3B4455;\n",
              "      fill: #D2E3FC;\n",
              "    }\n",
              "\n",
              "    [theme=dark] .colab-df-convert:hover {\n",
              "      background-color: #434B5C;\n",
              "      box-shadow: 0px 1px 3px 1px rgba(0, 0, 0, 0.15);\n",
              "      filter: drop-shadow(0px 1px 2px rgba(0, 0, 0, 0.3));\n",
              "      fill: #FFFFFF;\n",
              "    }\n",
              "  </style>\n",
              "\n",
              "      <script>\n",
              "        const buttonEl =\n",
              "          document.querySelector('#df-1284c931-cef3-48d0-949f-1c565b8f0945 button.colab-df-convert');\n",
              "        buttonEl.style.display =\n",
              "          google.colab.kernel.accessAllowed ? 'block' : 'none';\n",
              "\n",
              "        async function convertToInteractive(key) {\n",
              "          const element = document.querySelector('#df-1284c931-cef3-48d0-949f-1c565b8f0945');\n",
              "          const dataTable =\n",
              "            await google.colab.kernel.invokeFunction('convertToInteractive',\n",
              "                                                     [key], {});\n",
              "          if (!dataTable) return;\n",
              "\n",
              "          const docLinkHtml = 'Like what you see? Visit the ' +\n",
              "            '<a target=\"_blank\" href=https://colab.research.google.com/notebooks/data_table.ipynb>data table notebook</a>'\n",
              "            + ' to learn more about interactive tables.';\n",
              "          element.innerHTML = '';\n",
              "          dataTable['output_type'] = 'display_data';\n",
              "          await google.colab.output.renderOutput(dataTable, element);\n",
              "          const docLink = document.createElement('div');\n",
              "          docLink.innerHTML = docLinkHtml;\n",
              "          element.appendChild(docLink);\n",
              "        }\n",
              "      </script>\n",
              "    </div>\n",
              "  </div>\n"
            ]
          },
          "metadata": {},
          "execution_count": 20
        }
      ]
    },
    {
      "cell_type": "code",
      "source": [
        "#@title Bulk run to get significance, effect sizes\n",
        "gtyp = \"quest_sampl\" # param [\"quest_sampl\", \"quest_beaml\"]\n",
        "models = [\"all\", \"all_subset\", \"m\", \"m_subset\", \"f\", \"n\", \"n_subset\"]\n",
        "seeds = [42, 7304, 7696]\n",
        "splits = [\"train\", \"dev\", \"test\"]\n",
        "all_d2 = {m: {s: {k: dict() for k in [\"type-type ao\", \"ttr ao\", \"type-type oa\", \"ttr oa\"]} for s in splits} for m in models}\n",
        "\n",
        "for gnder in models:\n",
        "    for split in splits:\n",
        "        Aatype = []\n",
        "        Aattr = []\n",
        "        Batype = []\n",
        "        Battr = []\n",
        "        Aotype = []\n",
        "        Aottr = []\n",
        "        Botype = []\n",
        "        Bottr = []\n",
        "        for gnsd in seeds:\n",
        "            vod_df_gen = pd.read_pickle(f\"{DATA_PTH}vod_df_genderated_{split}_simplified_{gnder}_{gtyp}_{gnsd}.pkl\")\n",
        "            o2v_df_gen = pd.read_pickle(f\"{DATA_PTH}o2v_df_genderated_{split}_{gnder}_{gtyp}_{gnsd}.pkl\")\n",
        "            vod_gen = vod_df_gen.to_dict()\n",
        "            o2v_gen = o2v_df_gen.to_dict()\n",
        "\n",
        "            ttav_df_o, ttrv_df_o, ttav_df, ttrv_df = get_ttr(vod_gen)\n",
        "            df = eq_df(ttav_df_o)\n",
        "            aatype = df[\"M\"].fillna(0).values\n",
        "            batype = df[\"F\"].fillna(0).values\n",
        "            Aatype.append((gnsd, aatype))\n",
        "            Batype.append((gnsd, batype))\n",
        "            df = eq_df(ttrv_df_o)\n",
        "            aattr = df[\"M\"].fillna(0).values\n",
        "            battr = df[\"F\"].fillna(0).values\n",
        "            Aattr.append((gnsd, aattr))\n",
        "            Battr.append((gnsd, battr))\n",
        "\n",
        "            ttao_df_o, ttro_df_o, ttao_df, ttro_df = get_ttr(o2v_gen)\n",
        "            df = eq_df(ttao_df_o)\n",
        "            aotype = df[\"M\"].fillna(0).values\n",
        "            botype = df[\"F\"].fillna(0).values\n",
        "            Aotype.append((gnsd, aotype))\n",
        "            Botype.append((gnsd, botype))\n",
        "            df = eq_df(ttro_df_o)\n",
        "            aottr = df[\"M\"].fillna(0).values\n",
        "            bottr = df[\"F\"].fillna(0).values\n",
        "            Aottr.append((gnsd, aottr))\n",
        "            Bottr.append((gnsd, bottr))\n",
        "        for typ, A, B in [(\"type-type ao\", Aatype, Batype), (\"ttr ao\", Aattr, Battr),\n",
        "                     (\"type-type oa\", Aotype, Botype), (\"ttr oa\", Aottr, Bottr)]:\n",
        "            if \"ttr \" not in typ:\n",
        "                alt = \"greater\"\n",
        "            else:\n",
        "                alt = \"less\"\n",
        "            #pairs = list(product(A, B)) # doesn't work with objects as they differ across runs\n",
        "            pairs = zip(A, B)\n",
        "            for a, b in pairs:\n",
        "                sda, a = a\n",
        "                sdb, b = b\n",
        "                if sda == sdb:\n",
        "                    with warnings.catch_warnings():\n",
        "                        warnings.filterwarnings(category=RuntimeWarning,\n",
        "                                                action='ignore',\n",
        "                                                message='overflow encountered in double_scalars')\n",
        "                        res = get_res(a, b, alpha=0.05/3, alt=alt)\n",
        "                        all_d2[gnder][split][typ][sda] = res\n"
      ],
      "metadata": {
        "id": "WJecxu8UN0_s",
        "cellView": "form"
      },
      "execution_count": null,
      "outputs": []
    },
    {
      "cell_type": "markdown",
      "source": [
        "Format for LaTeX:"
      ],
      "metadata": {
        "id": "OI0Zd8xW6Epf"
      }
    },
    {
      "cell_type": "code",
      "source": [
        "import pandas as pd"
      ],
      "metadata": {
        "id": "POQcO8sjmRKh"
      },
      "execution_count": null,
      "outputs": []
    },
    {
      "cell_type": "code",
      "source": [
        "new_all_d = dict()\n",
        "for gnder in all_d2.keys():\n",
        "    splits_d = dict()\n",
        "    for split in [\"train\", \"dev\", \"test\"]:\n",
        "        split_df = pd.DataFrame(all_d2[gnder][split])\n",
        "        split_df.columns = [\"tta ao\", \"ttr oa\", \"tta ao\", \"tta oa\"]\n",
        "        split_df.index = [\"1\", \"2\", \"3\"]\n",
        "        split_df = split_df.applymap(lambda x: x[\"sig\"] * np.round(x[\"cles\"], 2))\n",
        "        split_df = split_df.T\n",
        "        splits_d[split] = split_df\n",
        "\n",
        "    res = pd.concat(splits_d.values(), axis=0, keys=splits_d.keys())\n",
        "    new_all_d[gnder] = res"
      ],
      "metadata": {
        "id": "NY_jlOUUUPnX"
      },
      "execution_count": null,
      "outputs": []
    },
    {
      "cell_type": "code",
      "source": [
        "df = pd.concat(new_all_d.values(), axis=1, keys=new_all_d.keys())\n",
        "df = df.mask(df==0).fillna(\"--\")"
      ],
      "metadata": {
        "id": "CZaUU3BHVAel"
      },
      "execution_count": null,
      "outputs": []
    },
    {
      "cell_type": "code",
      "source": [
        "print(df.to_latex())"
      ],
      "metadata": {
        "id": "j8gCwt-7O-_b",
        "colab": {
          "base_uri": "https://localhost:8080/"
        },
        "outputId": "df619f05-7947-4804-fc79-e702161b2fce"
      },
      "execution_count": null,
      "outputs": [
        {
          "output_type": "stream",
          "name": "stdout",
          "text": [
            "\\begin{tabular}{llrllllllllllllllllllll}\n",
            "\\toprule\n",
            "     &        & \\multicolumn{3}{l}{all} & \\multicolumn{3}{l}{all\\_subset} & \\multicolumn{3}{l}{m} & \\multicolumn{3}{l}{m\\_subset} & \\multicolumn{3}{l}{f} & \\multicolumn{3}{l}{n} & \\multicolumn{3}{l}{n\\_subset} \\\\\n",
            "     &        &     1 &     2 &     3 &          1 &     2 &     3 &     1 &     2 &     3 &        1 &     2 &     3 &     1 &     2 &     3 &     1 &     2 &     3 &        1 &     2 &     3 \\\\\n",
            "\\midrule\n",
            "train & tta ao &  0.82 &  0.79 &  0.78 &       0.75 &  0.78 &  0.72 &  0.76 &  0.77 &  0.76 &     0.78 &  0.78 &  0.79 &  0.75 &  0.76 &  0.78 &  0.84 &  0.79 &  0.83 &     0.74 &  0.78 &  0.75 \\\\\n",
            "     & ttr oa &  0.56 &   0.6 &   0.6 &       0.56 &    -- &  0.56 &  0.56 &    -- &    -- &       -- &    -- &    -- &  0.58 &   0.6 &   0.6 &    -- &  0.57 &  0.56 &     0.57 &    -- &  0.58 \\\\\n",
            "     & tta ao &  0.53 &    -- &  0.56 &       0.55 &  0.55 &  0.56 &  0.56 &  0.56 &  0.54 &     0.54 &    -- &  0.55 &  0.55 &  0.57 &    -- &  0.56 &  0.56 &  0.54 &     0.55 &  0.55 &  0.57 \\\\\n",
            "     & tta oa &  0.56 &  0.57 &  0.56 &       0.55 &  0.56 &  0.58 &  0.57 &  0.56 &  0.59 &     0.57 &  0.57 &  0.56 &  0.57 &  0.57 &  0.57 &  0.57 &  0.57 &  0.58 &     0.56 &  0.56 &  0.56 \\\\\n",
            "dev & tta ao &  0.94 &  0.87 &  0.85 &       0.79 &  0.86 &  0.81 &   0.8 &  0.83 &  0.84 &     0.83 &  0.85 &  0.91 &  0.82 &  0.76 &   0.9 &  0.88 &  0.88 &  0.93 &     0.78 &  0.82 &  0.85 \\\\\n",
            "     & ttr oa &  0.65 &   0.7 &  0.69 &       0.63 &  0.61 &  0.63 &  0.64 &   0.6 &  0.63 &     0.57 &  0.62 &  0.62 &    -- &  0.62 &    -- &  0.67 &  0.63 &  0.59 &     0.61 &  0.66 &  0.61 \\\\\n",
            "     & tta ao &  0.56 &  0.59 &  0.57 &         -- &    -- &    -- &    -- &  0.58 &    -- &     0.59 &    -- &    -- &    -- &    -- &    -- &  0.59 &    -- &  0.59 &       -- &    -- &    -- \\\\\n",
            "     & tta oa &  0.62 &  0.59 &  0.62 &       0.66 &  0.65 &  0.62 &   0.6 &   0.6 &  0.58 &     0.62 &  0.59 &  0.64 &   0.6 &  0.64 &  0.62 &  0.59 &  0.62 &   0.6 &     0.66 &  0.63 &  0.59 \\\\\n",
            "test & tta ao &  0.80 &  0.84 &  0.84 &       0.79 &  0.84 &  0.81 &  0.78 &  0.79 &  0.83 &     0.76 &  0.84 &  0.77 &  0.72 &  0.68 &    -- &  0.82 &  0.83 &  0.82 &     0.82 &  0.82 &  0.84 \\\\\n",
            "     & ttr oa &  0.62 &    -- &    -- &         -- &  0.59 &  0.56 &  0.61 &   0.6 &    -- &     0.59 &    -- &  0.68 &  0.61 &  0.63 &   0.6 &    -- &    -- &  0.59 &     0.61 &    -- &    -- \\\\\n",
            "     & tta ao &  0.56 &    -- &    -- &       0.56 &    -- &    -- &  0.57 &  0.58 &  0.58 &       -- &  0.58 &    -- &    -- &    -- &    -- &    -- &    -- &    -- &     0.59 &    -- &    -- \\\\\n",
            "     & tta oa &  0.58 &  0.59 &  0.58 &       0.58 &  0.58 &  0.62 &  0.59 &  0.57 &  0.58 &     0.59 &    -- &  0.64 &   0.6 &  0.64 &  0.58 &  0.57 &   0.6 &  0.61 &     0.59 &   0.6 &  0.57 \\\\\n",
            "\\bottomrule\n",
            "\\end{tabular}\n",
            "\n"
          ]
        },
        {
          "output_type": "stream",
          "name": "stderr",
          "text": [
            "<ipython-input-12-eff2c52faac5>:1: FutureWarning: In future versions `DataFrame.to_latex` is expected to utilise the base implementation of `Styler.to_latex` for formatting and rendering. The arguments signature may therefore change. It is recommended instead to use `DataFrame.style.to_latex` which also contains additional functionality.\n",
            "  print(df.to_latex())\n"
          ]
        }
      ]
    },
    {
      "cell_type": "code",
      "source": [
        "print(df.loc[:, [\"m\", \"f\"]].to_latex())"
      ],
      "metadata": {
        "colab": {
          "base_uri": "https://localhost:8080/"
        },
        "id": "yFAyc5numuNW",
        "outputId": "fbec99d5-b645-44f6-b71e-488dc02e830d"
      },
      "execution_count": null,
      "outputs": [
        {
          "output_type": "stream",
          "name": "stdout",
          "text": [
            "\\begin{tabular}{llllllll}\n",
            "\\toprule\n",
            "     &        & \\multicolumn{3}{l}{m} & \\multicolumn{3}{l}{f} \\\\\n",
            "     &        &     1 &     2 &     3 &     1 &     2 &     3 \\\\\n",
            "\\midrule\n",
            "train & tta ao &  0.76 &  0.77 &  0.76 &  0.75 &  0.76 &  0.78 \\\\\n",
            "     & ttr oa &  0.56 &    -- &    -- &  0.58 &   0.6 &   0.6 \\\\\n",
            "     & tta ao &  0.56 &  0.56 &  0.54 &  0.55 &  0.57 &    -- \\\\\n",
            "     & tta oa &  0.57 &  0.56 &  0.59 &  0.57 &  0.57 &  0.57 \\\\\n",
            "dev & tta ao &   0.8 &  0.83 &  0.84 &  0.82 &  0.76 &   0.9 \\\\\n",
            "     & ttr oa &  0.64 &   0.6 &  0.63 &    -- &  0.62 &    -- \\\\\n",
            "     & tta ao &    -- &  0.58 &    -- &    -- &    -- &    -- \\\\\n",
            "     & tta oa &   0.6 &   0.6 &  0.58 &   0.6 &  0.64 &  0.62 \\\\\n",
            "test & tta ao &  0.78 &  0.79 &  0.83 &  0.72 &  0.68 &    -- \\\\\n",
            "     & ttr oa &  0.61 &   0.6 &    -- &  0.61 &  0.63 &   0.6 \\\\\n",
            "     & tta ao &  0.57 &  0.58 &  0.58 &    -- &    -- &    -- \\\\\n",
            "     & tta oa &  0.59 &  0.57 &  0.58 &   0.6 &  0.64 &  0.58 \\\\\n",
            "\\bottomrule\n",
            "\\end{tabular}\n",
            "\n"
          ]
        },
        {
          "output_type": "stream",
          "name": "stderr",
          "text": [
            "<ipython-input-19-551f08b25e0c>:1: FutureWarning: In future versions `DataFrame.to_latex` is expected to utilise the base implementation of `Styler.to_latex` for formatting and rendering. The arguments signature may therefore change. It is recommended instead to use `DataFrame.style.to_latex` which also contains additional functionality.\n",
            "  print(df.loc[:, [\"m\", \"f\"]].to_latex())\n"
          ]
        }
      ]
    },
    {
      "cell_type": "code",
      "source": [
        "#np.save(f'{DATA_PTH}gender_ttr_sigs.npy', all_d2)"
      ],
      "metadata": {
        "id": "_x6PgFNWUYTT"
      },
      "execution_count": null,
      "outputs": []
    },
    {
      "cell_type": "code",
      "source": [
        "all_d2 = np.load(f'{DATA_PTH}gender_ttr_sigs.npy', allow_pickle='TRUE').item()"
      ],
      "metadata": {
        "id": "fbbVmerzUnjL"
      },
      "execution_count": null,
      "outputs": []
    },
    {
      "cell_type": "markdown",
      "metadata": {
        "id": "vbOpW9qw0qBe"
      },
      "source": [
        "### C. Visualize"
      ]
    },
    {
      "cell_type": "markdown",
      "metadata": {
        "id": "pw7ZkTsYQAwZ"
      },
      "source": [
        "#### 0. Import for plots, graphs"
      ]
    },
    {
      "cell_type": "code",
      "execution_count": null,
      "metadata": {
        "id": "U5sP_2DJ0rnA"
      },
      "outputs": [],
      "source": [
        "import matplotlib.pyplot as plt\n",
        "import networkx as nx"
      ]
    },
    {
      "cell_type": "markdown",
      "metadata": {
        "id": "LMXJkbI9P4gY"
      },
      "source": [
        "#### 1. Plots"
      ]
    },
    {
      "cell_type": "code",
      "execution_count": null,
      "metadata": {
        "colab": {
          "base_uri": "https://localhost:8080/",
          "height": 338
        },
        "id": "_8SSaMUt0Srm",
        "outputId": "3531f424-4eca-4dbb-b73b-1c0dd5f182ed",
        "cellView": "form"
      },
      "outputs": [
        {
          "output_type": "display_data",
          "data": {
            "text/plain": [
              "<Figure size 1728x360 with 3 Axes>"
            ],
            "image/png": "[encoded data removed]"
          },
          "metadata": {
            "needs_background": "light"
          }
        }
      ],
      "source": [
        "#@title ##### Plot types, tokens across verbs\n",
        "\n",
        "fig, axs = plt.subplots(nrows=1, ncols=3, figsize=(24, 5))\n",
        "plt.subplots_adjust(hspace=0.5, wspace=0.14)\n",
        "fig.suptitle(\"Type Distributions\", fontsize=18, y=1)\n",
        "mode = \"objects\" #@param [\"objects\", \"actions\"]\n",
        "do_save = \"false\" #@param [true, false]\n",
        "mx = 15 #@param\n",
        "if mode == \"objects\":\n",
        "    ky = \"action\"\n",
        "    df = vod_df\n",
        "else:\n",
        "    ky = \"object\"\n",
        "    df = o2v_df.dropna(axis=0)[:mx]\n",
        "for ix, (g, ax) in enumerate(zip([\"M\", \"F\", \"N\"], axs.ravel())):\n",
        "    types = df.apply(lambda x: len(x.values[ix]), axis=1).items()\n",
        "    tokens = df.apply(lambda x: sum(x.values[ix].values()), axis=1).items()\n",
        "    labels = df.apply(lambda x: sum(x.values[ix].values()), axis=1).keys()\n",
        "    barwidth = 0.5\n",
        "    typebar = ax.bar(*zip(*types), alpha=0.75, color='blue',\n",
        "                     label=\"Types\", width=barwidth)\n",
        "    tokbar = ax.bar(*zip(*tokens), alpha=0.25, color='red',\n",
        "                    label=\"Tokens\", width=barwidth)\n",
        "    ax.set_xticklabels(labels=labels, rotation=45)\n",
        "    ax.set_title(f\"{g} - Unique and total {mode} per {ky}\")\n",
        "    ax.set_xlabel(f\"{ky.title()}s\")\n",
        "    ax.set_ylabel(f\"Counts of {mode}\")\n",
        "    ax.legend()\n",
        "if do_save == \"true\":\n",
        "    plt.savefig(f\"ttrv_{ky}.png\")\n",
        "plt.show()"
      ]
    },
    {
      "cell_type": "code",
      "source": [
        "#@title ##### Plot types, tokens across verbs (sorted)\n",
        "\n",
        "fig, axs = plt.subplots(nrows=1, ncols=3, figsize=(24, 5))\n",
        "plt.subplots_adjust(hspace=0.5, wspace=0.14)\n",
        "fig.suptitle(\"Type Distributions\", fontsize=18, y=1)\n",
        "mode = \"actions\" #@param [\"objects\", \"actions\"]\n",
        "do_save = \"true\" #@param [true, false]\n",
        "mx = 15 #@param\n",
        "if mode == \"objects\":\n",
        "    ky = \"action\"\n",
        "    df = vod_df\n",
        "else:\n",
        "    ky = \"object\"\n",
        "    df = o2v_df.dropna(axis=0)[:mx]\n",
        "for ix, (g, ax) in enumerate(zip([\"M\", \"F\", \"N\"], axs.ravel())):\n",
        "    test = df.apply(lambda x: sum(x.values[ix].values()), axis=1).sort_values(ascending=False)\n",
        "    types = df.apply(lambda x: len(x.values[ix]), axis=1).items()\n",
        "    tokens = df.apply(lambda x: sum(x.values[ix].values()), axis=1).items()\n",
        "    labels = df.apply(lambda x: sum(x.values[ix].values()), axis=1).keys()\n",
        "    barwidth = 0.5\n",
        "    ks = test.keys()\n",
        "    vs = []\n",
        "    t = dict(types)\n",
        "    for l in ks:\n",
        "        vs.append(t[l])\n",
        "    types = zip(ks, vs)\n",
        "    #types = df.apply(lambda x: len(x.values[ix]), axis=1).items()\n",
        "    tokens = df.apply(lambda x: sum(x.values[ix].values()), axis=1).items()\n",
        "    typebar = ax.bar(*zip(*types), alpha=0.75, color='blue',\n",
        "                     label=\"Types\", width=barwidth)\n",
        "    tokbar = ax.bar(*zip(*test.items()), alpha=0.25, color='red',\n",
        "                    label=\"Tokens\", width=barwidth)\n",
        "    ax.set_xticklabels(labels=ks, rotation=45)\n",
        "    ax.set_title(f\"{g} - Unique and total {mode} per {ky}\")\n",
        "    ax.set_xlabel(f\"{ky.title()}s\")\n",
        "    ax.set_ylabel(f\"Counts of {mode}\")\n",
        "    ax.legend()\n",
        "if do_save == \"true\":\n",
        "    plt.savefig(f\"ttrv_{ky}.png\")\n",
        "plt.show()"
      ],
      "metadata": {
        "colab": {
          "base_uri": "https://localhost:8080/",
          "height": 355
        },
        "cellView": "form",
        "id": "H1wYZdg6Tyh2",
        "outputId": "797d87fe-fe5e-4c52-a501-01574bd44afc"
      },
      "execution_count": null,
      "outputs": [
        {
          "output_type": "display_data",
          "data": {
            "text/plain": [
              "<Figure size 1728x360 with 3 Axes>"
            ],
            "image/png": "[encoded data removed]"
          },
          "metadata": {
            "needs_background": "light"
          }
        }
      ]
    },
    {
      "cell_type": "code",
      "source": [
        "#@title Goal TTR inspired by [Ammanabrolu et al.](https://aclanthology.org/2022.acl-long.557/) but with goal commands vs. short motivation parsing\n",
        "for color, g in zip([\"blue\", \"green\", \"red\"], [\"M\", \"F\", \"N\"]):\n",
        "    l = dfqq_gmn[dfqq_gmn.gender == g].goal.apply(lambda x: x.split()[0]).values.tolist()\n",
        "    c = Counter(l)\n",
        "    df = pd.DataFrame(c.items())\n",
        "    df.index = df.loc[:, 0].values\n",
        "    df = df.drop(columns=0)\n",
        "    df = df.sort_values(by=1, ascending=False)\n",
        "    df.rename(columns={df.columns[0]: 'tokens'}, inplace=True)\n",
        "    df = df.apply(lambda x: x/x.sum(), axis=0)\n",
        "    #df = df.apply(lambda x: x/total, axis=0)\n",
        "    df.plot.bar(color=color, alpha=0.5,\n",
        "                title=f\"Normalized goal type distribution for gender: {g}\\nTTR: {len(c.keys())/sum(c.values()): 0.3f}\",\n",
        "                legend=False)\n",
        "    plt.show()\n"
      ],
      "metadata": {
        "colab": {
          "base_uri": "https://localhost:8080/",
          "height": 938
        },
        "cellView": "form",
        "id": "ST2MBlEWBMKN",
        "outputId": "8883a8dd-aabc-4c48-af89-a4427e4dcadc"
      },
      "execution_count": null,
      "outputs": [
        {
          "output_type": "display_data",
          "data": {
            "text/plain": [
              "<Figure size 432x288 with 1 Axes>"
            ],
            "image/png": "[encoded data removed]"
          },
          "metadata": {
            "needs_background": "light"
          }
        },
        {
          "output_type": "display_data",
          "data": {
            "text/plain": [
              "<Figure size 432x288 with 1 Axes>"
            ],
            "image/png": "[encoded data removed]"
          },
          "metadata": {
            "needs_background": "light"
          }
        },
        {
          "output_type": "display_data",
          "data": {
            "text/plain": [
              "<Figure size 432x288 with 1 Axes>"
            ],
            "image/png": "[encoded data removed]"
          },
          "metadata": {
            "needs_background": "light"
          }
        }
      ]
    },
    {
      "cell_type": "code",
      "execution_count": null,
      "metadata": {
        "colab": {
          "base_uri": "https://localhost:8080/",
          "height": 611
        },
        "id": "xGgPAjdX0l07",
        "outputId": "f2f5f52a-333a-4d37-b4f3-fd5a7146f63b",
        "cellView": "form"
      },
      "outputs": [
        {
          "output_type": "stream",
          "name": "stdout",
          "text": [
            "M sword\n",
            "# unique actions for sword: 9\n",
            "Total # of actions for sword: 164\n",
            "TTR for sword's actions: 0.05\n",
            "\n",
            "F sword\n",
            "# unique actions for sword: 6\n",
            "Total # of actions for sword: 18\n",
            "TTR for sword's actions: 0.33\n",
            "\n",
            "N sword\n",
            "# unique actions for sword: 10\n",
            "Total # of actions for sword: 626\n",
            "TTR for sword's actions: 0.02\n",
            "\n"
          ]
        },
        {
          "output_type": "display_data",
          "data": {
            "text/plain": [
              "<Figure size 1728x360 with 3 Axes>"
            ],
            "image/png": "[encoded data removed]"
          },
          "metadata": {
            "needs_background": "light"
          }
        }
      ],
      "source": [
        "#@title ##### Get TTR for action/object\n",
        "k = 15 #@param\n",
        "do_save = \"false\" #@param [true, false]\n",
        "fig, axs = plt.subplots(nrows=1, ncols=3, figsize=(24, 5))\n",
        "plt.subplots_adjust(hspace=0.5, wspace=0.12)\n",
        "fig.suptitle(\"Distributions\", fontsize=18, y=1)\n",
        "mode = \"actions\" #@param [\"objects\", \"actions\"]\n",
        "ttr_d = vod if mode == \"objects\" else o2v\n",
        "ov = \"wield\" #@param ['drink','drop','eat','follow','get','give','go','hit','hug','put','remove','steal','use','wear','wield']\n",
        "av = \"sword\" #@param\n",
        "v = ov if mode == \"objects\" else av\n",
        "stats_d = {g: {v: {\"types\": None}, v: {\"tokens\": None}, v: {\"ttr\": None}}\n",
        "               for g in [\"M\", \"F\", \"N\"]}\n",
        "for g, ax in zip([\"M\", \"F\", \"N\"], axs.ravel()):\n",
        "    print(g, v)\n",
        "    types = len(ttr_d[g][v].keys())\n",
        "    tokens = sum(ttr_d[g][v].values())\n",
        "    ttr = types/tokens\n",
        "    stats_d[g][v][\"types\"] = types\n",
        "    stats_d[g][v][\"tokens\"] = tokens\n",
        "    stats_d[g][v][\"TTR\"] = ttr\n",
        "    print(f\"# unique {mode} for {v}: {types}\")\n",
        "    print(f\"Total # of {mode} for {v}: {tokens}\")\n",
        "    print(f\"TTR for {v}'s {mode}: {round(ttr, 2)}\\n\")\n",
        "    mc = ttr_d[g][v].most_common(k)\n",
        "    ax.bar(*zip(*mc), alpha=0.5)\n",
        "    ax.set_xticklabels(labels=[x[0] for x in mc], rotation=45)\n",
        "    ax.set_title(f\"{g} - {v} - TTR: {ttr: 0.2f}\")\n",
        "    ax.set_ylabel(f\"Occurrences\")\n",
        "    ax.set_xlabel(f\"{mode.title()} available for {v}\")\n",
        "if do_save == \"true\":\n",
        "    plt.savefig(f\"objdist_{mode}_{v}.png\")\n",
        "plt.show()"
      ]
    },
    {
      "cell_type": "code",
      "source": [
        "#@title ##### Get combined TTR, NE\n",
        "k = 15 #@param\n",
        "do_save = \"false\" #@param [true, false]\n",
        "fig, axs = plt.subplots(nrows=1, ncols=3, figsize=(24, 5))\n",
        "plt.subplots_adjust(hspace=0.5, wspace=0.12)\n",
        "fig.suptitle(\"Distributions\", fontsize=18, y=1)\n",
        "mode = \"actions\" #@param [\"actions\", \"objects\"]\n",
        "ttr_d = vod if mode == \"objects\" else o2v\n",
        "g = \"F\" #@param [\"M\", \"F\", \"N\", \"all\"]\n",
        "a = \"drink\" #@param ['drink','drop','eat','follow','get','give','go','hit','hug','put','remove','steal','use','wear','wield']\n",
        "av = \"knife\" #@param\n",
        "v = ov if mode == \"objects\" else av\n",
        "base = 2 #@param [0, 2] {type:\"raw\"}\n",
        "print_counts = \"false\" #@param [\"true\", \"false\"]\n",
        "print_counts = False if print_counts == \"false\" else True\n",
        "\n",
        "for g, ax in zip([\"M\", \"F\", \"N\"], axs.ravel()):\n",
        "    #print(g, v)\n",
        "    types = len(ttr_d[g][v].keys())\n",
        "    tokens = sum(ttr_d[g][v].values())\n",
        "    ttr = types/tokens\n",
        "    result = get_ens(ttr_d, g, v, base, print_counts) # gd, g, a, base - scipy ent already computes p\n",
        "    if result:\n",
        "        entrpy, norm_ent, max_n = result\n",
        "        #print(f\"Gender: {g}, Action: {a}\")\n",
        "        #print(f\"Normalized (by # of unique arguments of '{a}') entropy: {round(norm_ent, 2)}\")\n",
        "        #print(f\"(Ratio of entropy {round(entrpy, 2)} to maximum entropy of {round(max_n, 2)}.)\")\n",
        "        #print(\"\\n\")\n",
        "    #print(f\"# unique {mode} for {v}: {types}\")\n",
        "    #print(f\"Total # of {mode} for {v}: {tokens}\")\n",
        "    #print(f\"TTR for {v}'s {mode}: {round(ttr, 2)}\\n\")\n",
        "    mc = ttr_d[g][v].most_common(k)\n",
        "    ax.bar(*zip(*mc), alpha=0.5)\n",
        "    ax.set_xticklabels(labels=[x[0] for x in mc], rotation=45)\n",
        "    ax.set_title(f\"{g} - {v} - TTR: {ttr: 0.2f}; NE: {norm_ent: 0.2f}\")\n",
        "    ax.set_ylabel(f\"Occurrences\")\n",
        "    ax.set_xlabel(f\"{mode.title()} available for {v}\")\n",
        "if do_save == \"true\":\n",
        "    plt.savefig(f\"objdist_{mode}_{v}.png\")\n",
        "plt.show()"
      ],
      "metadata": {
        "colab": {
          "base_uri": "https://localhost:8080/",
          "height": 340
        },
        "cellView": "form",
        "id": "cKsdaP8OU9ZW",
        "outputId": "bbfe50e4-32c2-4f5b-906b-6a5fc5d7f911"
      },
      "execution_count": null,
      "outputs": [
        {
          "output_type": "display_data",
          "data": {
            "text/plain": [
              "<Figure size 1728x360 with 3 Axes>"
            ],
            "image/png": "[encoded data removed]"
          },
          "metadata": {
            "needs_background": "light"
          }
        }
      ]
    },
    {
      "cell_type": "markdown",
      "metadata": {
        "id": "tG6NtXc011gy"
      },
      "source": [
        "#### 2. Graphs"
      ]
    },
    {
      "cell_type": "markdown",
      "metadata": {
        "id": "MWv3Cc0YQQ3Z"
      },
      "source": [
        "###### a. Define function to construct graph from dictionary."
      ]
    },
    {
      "cell_type": "code",
      "execution_count": null,
      "metadata": {
        "id": "o_yD1KzO2u9m"
      },
      "outputs": [],
      "source": [
        "def get_edges(df, g):\n",
        "    d = df.dropna(axis=0).to_dict()\n",
        "    edges = []\n",
        "    for k, countr in d[g].items():\n",
        "        for ck, w in countr.most_common():\n",
        "            edges.append((k, ck, {'width': w}))\n",
        "    return edges"
      ]
    },
    {
      "cell_type": "markdown",
      "metadata": {
        "id": "ZKD6Y_zjQuZP"
      },
      "source": [
        "###### b. Visualize objects action is applied to w/ counts, or actions object is afforded."
      ]
    },
    {
      "cell_type": "markdown",
      "metadata": {
        "id": "0VIzGgT_1rlG"
      },
      "source": [
        "- ```g``` - gender\n",
        "- ```s``` - action or object\n",
        "- ```rng``` - range (top $k$)\n",
        "- ```freq``` - minimum count"
      ]
    },
    {
      "cell_type": "code",
      "execution_count": null,
      "metadata": {
        "cellView": "form",
        "colab": {
          "base_uri": "https://localhost:8080/",
          "height": 407
        },
        "id": "zTzfAIHTpacV",
        "outputId": "83850f15-9349-4cee-8988-ba39d396f767"
      },
      "outputs": [
        {
          "data": {
            "image/png": "[encoded data removed]",
            "text/plain": [
              "<Figure size 576x360 with 1 Axes>"
            ]
          },
          "metadata": {},
          "output_type": "display_data"
        }
      ],
      "source": [
        "#@title ###### Select action\n",
        "\n",
        "g = \"F\" #@param [\"M\", \"F\", \"N\"]\n",
        "edges = get_edges(vod_df, g)\n",
        "s = \"get\" #@param ['drink','drop','eat','follow','get','give','go','hit','hug','put','remove','steal','use','wear','wield']\n",
        "rng = 20 #@param {type:\"slider\", min:5, max:50, step:5}\n",
        "freq = 6 #@param {type:\"slider\", min:1, max:10, step:1}\n",
        "mx = len(vod[g][s].keys())\n",
        "rng = min(mx, rng)\n",
        "for six, t in enumerate(edges):\n",
        "    if t[0] == s:\n",
        "        break\n",
        "eix = six+rng\n",
        "G = nx.MultiDiGraph()\n",
        "G.add_edges_from(edges[six:eix])\n",
        "labels = {v: v + f\" {wd['width']}\" for u, v, wd in edges[six:eix]}\n",
        "labels[s] = s\n",
        "d = dict(G.degree)\n",
        "weights = [wd['width'] for u, v, wd in edges[six:eix]]\n",
        "weight_d = [(w/sum(weights))+.05 for w in weights]\n",
        "fig = plt.figure(1, figsize=(8, 5))\n",
        "nx.draw(G, labels=labels, font_size=10, node_color=['#00D992' if _ <= freq\n",
        "                                     else \"lightblue\"\n",
        "                                        if _ <= freq * 2\n",
        "                                            else \"pink\"\n",
        "                       for _ in range(len(G.nodes()))],\n",
        "        node_size=[1580 if n <= freq else 720 if n <= freq * 2 else 320\n",
        "                   for n in range(len(G.nodes()))], # or remove range and freq, use len(n) * 320\n",
        "        with_labels=True, width=weight_d)\n",
        "plt.title(f\"Gender: {g} - Action: {s} - Top {rng} objects\")\n",
        "plt.savefig(f\"{g}_{s}_graph_top_{rng}_freq_{freq}.png\")\n",
        "plt.draw()"
      ]
    },
    {
      "cell_type": "code",
      "execution_count": null,
      "metadata": {
        "cellView": "form",
        "colab": {
          "base_uri": "https://localhost:8080/",
          "height": 407
        },
        "id": "MakEQSSZVEes",
        "outputId": "d25af7a2-23f7-4b6a-a31d-a32f4e7cd91b"
      },
      "outputs": [
        {
          "data": {
            "image/png": "[encoded data removed]",
            "text/plain": [
              "<Figure size 576x360 with 1 Axes>"
            ]
          },
          "metadata": {},
          "output_type": "display_data"
        }
      ],
      "source": [
        "#@title ###### Select object\n",
        "\n",
        "g = \"M\" #@param [\"M\", \"F\", \"N\"]\n",
        "edges = get_edges(o2v_df, g)\n",
        "s = \"crown\" #@param\n",
        "try:\n",
        "    mx = len(o2v[g][s].keys())\n",
        "    rng = 14 #@param {type:\"slider\", min:1, max:14, step:1}\n",
        "    freq = 0.2 #@param {type:\"slider\", min:0.01, max:1.0, step:0.01}\n",
        "    rng = min(mx, rng)\n",
        "    for six, t in enumerate(edges):\n",
        "        if t[0] == s:\n",
        "            break\n",
        "    eix = six+rng\n",
        "    G = nx.MultiDiGraph()\n",
        "    G.add_edges_from(edges[six:eix])\n",
        "    weights = [wd['width'] for u, v, wd in edges[six:eix]]\n",
        "    weight_d = [(w/sum(weights)) for w in weights]\n",
        "    labels = {v: v + f\" {round((wd['width']/sum(weights)), 2)} ({wd['width']}/{sum(weights)})\" for u, v, wd in edges[six:eix]}\n",
        "    labels[s] = s\n",
        "    d = dict(G.degree)\n",
        "    fig = plt.figure(1, figsize=(8, 5))\n",
        "    nx.draw(G, labels=labels, font_size=10, node_color=['#00D992' if _ <= freq\n",
        "                                        else \"lightblue\"\n",
        "                                            if _ <= freq * 2\n",
        "                                                else \"pink\"\n",
        "                        for _ in range(len(G.nodes()))],\n",
        "            with_labels=True, width=weight_d)\n",
        "    plt.title(f\"Gender: {g} - Object: {s} - Top {rng} actions\")\n",
        "    plt.draw()\n",
        "except KeyError:\n",
        "    print(f\"Object not used by {g} characters, try another.\")\n",
        "plt.savefig(f\"{g}_{s}_graph_top_{rng}_freq_{freq}.png\")"
      ]
    },
    {
      "cell_type": "markdown",
      "metadata": {
        "id": "-z6_Mrb92cxs"
      },
      "source": [
        "# III. Entropy\n",
        "Measure normalized entropy of verb-object pairs."
      ]
    },
    {
      "cell_type": "markdown",
      "metadata": {
        "id": "es_id1LKYJ7I"
      },
      "source": [
        "#### 0. Set path to data folder to use in notebook."
      ]
    },
    {
      "cell_type": "code",
      "execution_count": null,
      "metadata": {
        "id": "o56-M_F-YJ7J"
      },
      "outputs": [],
      "source": [
        "DATA_PTH = \"/../content/drive/MyDrive/data/light_data/\""
      ]
    },
    {
      "cell_type": "markdown",
      "metadata": {
        "id": "TbrIR_07AVKN"
      },
      "source": [
        "#### 1. Imports, load verb-object and object-verb dictionaries."
      ]
    },
    {
      "cell_type": "code",
      "execution_count": null,
      "metadata": {
        "id": "MFXsh8eeZSJR"
      },
      "outputs": [],
      "source": [
        "from scipy.stats import entropy\n",
        "import pandas as pd\n",
        "import numpy as np"
      ]
    },
    {
      "cell_type": "markdown",
      "metadata": {
        "id": "ef6aautGA7vO"
      },
      "source": [
        "#### 2. Run to choose data split for loading/saving and run cell:"
      ]
    },
    {
      "cell_type": "code",
      "execution_count": null,
      "metadata": {
        "id": "R7-K6b0lA6nU"
      },
      "outputs": [],
      "source": [
        "split = \"train\" #@param [\"train\", \"dev\", \"test\"]\n",
        "gen = \"false\" #@param [\"true\", \"false\"]\n",
        "gnder = \"all_subset\" #@param [\"all_subset\", \"all\", \"m\", \"f\", \"n\", \"m_subset\"]\n",
        "gnsd = \"42\" #@param [42, 7304, 7696]\n",
        "gnmd = \"quest_sampl\" #@param [\"quest_sampl\", \"quest_beaml\"]"
      ]
    },
    {
      "cell_type": "markdown",
      "metadata": {
        "id": "I-KNyQqEBO-F"
      },
      "source": [
        "#### 3. Load dataframes, convert to dictionaries. Choose whether to use original data or generated with gender annotations per split."
      ]
    },
    {
      "cell_type": "code",
      "execution_count": null,
      "metadata": {
        "id": "LD8wU_RsaLNA"
      },
      "outputs": [],
      "source": [
        "if gen == \"true\":\n",
        "    vod_df = pd.read_pickle(f\"{DATA_PTH}vod_df_genderated_{split}_simplified_{gnder}_{gnmd}_{gnsd}.pkl\")\n",
        "    o2v_df = pd.read_pickle(f\"{DATA_PTH}o2v_df_genderated_{split}_{gnder}_{gnmd}_{gnsd}.pkl\")\n",
        "else:\n",
        "    vod_df = pd.read_pickle(f\"{DATA_PTH}vod_df_simplified.pkl\")\n",
        "    o2v_df = pd.read_pickle(f\"{DATA_PTH}o2v_df.pkl\")\n",
        "\n",
        "vod = vod_df.to_dict()\n",
        "o2v = o2v_df.to_dict()\n",
        "o2v2 = o2v_df.dropna(axis=0).to_dict()"
      ]
    },
    {
      "cell_type": "markdown",
      "metadata": {
        "id": "CWhd7bGkCBjP"
      },
      "source": [
        "#### 4. Define function to get normalized entropy of objects paired with given action."
      ]
    },
    {
      "cell_type": "code",
      "execution_count": null,
      "metadata": {
        "id": "8gMQrwKHUUkm"
      },
      "outputs": [],
      "source": [
        "gs = [\"M\", \"F\", \"N\"]\n",
        "\n",
        "def get_ens(d, g, a, base, prnt):\n",
        "    \"\"\"Given action-object counts, computes\n",
        "        and returns entropy.\n",
        "    \"\"\"\n",
        "    try:\n",
        "        res = list(d[g][a].values())\n",
        "    except KeyError:\n",
        "        print(f\"{a} not in dictionary for {g}.\")\n",
        "        return None\n",
        "    if prnt:\n",
        "        for k, v in d[g][a].items():\n",
        "            print(k, v) # e.g. wine 10, ale 4\n",
        "    base = None if base == 0 else base\n",
        "    if base == 2:\n",
        "        lg = np.log2\n",
        "    else:\n",
        "        lg = np.log\n",
        "    entrpy = entropy(res, base=base) # Normalizes counts of verb-object pairing\n",
        "    max_n = lg(len(res), where=len(res) > 0)\n",
        "    norm_ent = entrpy/max_n if max_n > 0 else 0.0\n",
        "    return entrpy, norm_ent, max_n\n",
        "\n",
        "def get_entropy(res, base):\n",
        "    base = None if base == 0 else base\n",
        "    if base == 2:\n",
        "        lg = np.log2\n",
        "    else:\n",
        "        lg = np.log\n",
        "    entrpy = entropy(res, base=base) # Normalizes counts of verb-object pairing\n",
        "    max_n = lg(len(res), where=len(res) > 0)\n",
        "    norm_ent = entrpy/max_n if max_n > 0 else 0.0\n",
        "    return entrpy, norm_ent, max_n"
      ]
    },
    {
      "cell_type": "markdown",
      "metadata": {
        "id": "XVqVm0zKDDYj"
      },
      "source": [
        "#### 5. Select all or specific gender ```g```, action ```a``` and logarithmic base ```base``` (0 is natural log), run cell to get entropy of verb-object pairings, e.g. of possible objects the action is applied to."
      ]
    },
    {
      "cell_type": "code",
      "execution_count": null,
      "metadata": {
        "colab": {
          "base_uri": "https://localhost:8080/"
        },
        "id": "SOzfozxp38k3",
        "outputId": "aba85377-c0c4-4a85-fba1-bb5138a94d48",
        "cellView": "form"
      },
      "outputs": [
        {
          "output_type": "stream",
          "name": "stdout",
          "text": [
            "Gender: F, Action: wield\n",
            "Normalized (by # of unique arguments of 'wield') entropy: 0.94\n",
            "(Ratio of entropy 5.37 to maximum entropy of 5.73.)\n",
            "\n",
            "\n"
          ]
        }
      ],
      "source": [
        "#@title Entropy of given gender, action\n",
        "\n",
        "g = \"F\" #@param [\"M\", \"F\", \"N\", \"all\"]\n",
        "a = \"wield\" #@param ['drink','drop','eat','follow','get','give','go','hit','hug','put','remove','steal','use','wear','wield']\n",
        "base = 2 #@param [0, 2] {type:\"raw\"}\n",
        "print_counts = \"false\" #@param [\"true\", \"false\"]\n",
        "print_counts = False if print_counts == \"false\" else True\n",
        "if g == \"all\":\n",
        "    gs = [\"M\", \"F\", \"N\"]\n",
        "else:\n",
        "    gs = [g]\n",
        "for g in gs:\n",
        "    result = get_ens(vod, g, a, base, print_counts) # gd, g, a, base - scipy ent already computes p\n",
        "    if result:\n",
        "        entrpy, norm_ent, max_n = result\n",
        "        print(f\"Gender: {g}, Action: {a}\")\n",
        "        print(f\"Normalized (by # of unique arguments of '{a}') entropy: {round(norm_ent, 2)}\")\n",
        "        print(f\"(Ratio of entropy {round(entrpy, 2)} to maximum entropy of {round(max_n, 2)}.)\")\n",
        "        print(\"\\n\")"
      ]
    },
    {
      "cell_type": "markdown",
      "metadata": {
        "id": "9BQjdvI8Djb7"
      },
      "source": [
        "#### 6. Select all or specific gender ```g```, object ```o``` and logarithmic base ```base``` (0 is natural log), run cell to get entropy of verb-object pairings for an object, e.g. commands afforded by crown."
      ]
    },
    {
      "cell_type": "code",
      "execution_count": null,
      "metadata": {
        "colab": {
          "base_uri": "https://localhost:8080/"
        },
        "id": "nUb8a_zDkBjF",
        "outputId": "8e9ec22c-c0cb-4a78-cec4-288bf4b5060c"
      },
      "outputs": [
        {
          "name": "stdout",
          "output_type": "stream",
          "text": [
            "Gender: M, Object: crown\n",
            "Normalized (by # of unique actions for 'crown') entropy: 0.74\n",
            "(Ratio of entropy 2.07 to maximum entropy of 2.81.)\n",
            "\n",
            "\n",
            "Gender: F, Object: crown\n",
            "Normalized (by # of unique actions for 'crown') entropy: 0.9\n",
            "(Ratio of entropy 2.09 to maximum entropy of 2.32.)\n",
            "\n",
            "\n",
            "Gender: N, Object: crown\n",
            "Normalized (by # of unique actions for 'crown') entropy: 0.91\n",
            "(Ratio of entropy 2.57 to maximum entropy of 2.81.)\n",
            "\n",
            "\n"
          ]
        }
      ],
      "source": [
        "#@title Entropy of given gender, object\n",
        "\n",
        "g = \"all\" #@param [\"M\", \"F\", \"N\", \"all\"]\n",
        "o = \"crown\" #@param\n",
        "base = 2 #@param [0, 2] {type:\"raw\"}\n",
        "print_counts = \"false\" #@param [\"true\", \"false\"]\n",
        "print_counts = False if print_counts == \"false\" else True\n",
        "\n",
        "if g == \"all\":\n",
        "    gs = [\"M\", \"F\", \"N\"]\n",
        "else:\n",
        "    gs = [g]\n",
        "for g in gs:\n",
        "    result = get_ens(o2v2, g, o, base, print_counts) # gd, g, a, base - scipy ent already computes p\n",
        "    if result:\n",
        "        entrpy, norm_ent, max_n = result\n",
        "        print(f\"Gender: {g}, Object: {o}\")\n",
        "        print(f\"Normalized (by # of unique actions for '{o}') entropy: {round(norm_ent, 2)}\")\n",
        "        print(f\"(Ratio of entropy {round(entrpy, 2)} to maximum entropy of {round(max_n, 2)}.)\")\n",
        "        print(\"\\n\")"
      ]
    },
    {
      "cell_type": "markdown",
      "metadata": {
        "id": "UvBXUDicaep1"
      },
      "source": [
        "#### 7. Save normalized entropy results"
      ]
    },
    {
      "cell_type": "markdown",
      "metadata": {
        "id": "h6KnAo6CGDVr"
      },
      "source": [
        "##### a. Collect normalized entropies for all actions/objects."
      ]
    },
    {
      "cell_type": "code",
      "execution_count": null,
      "metadata": {
        "colab": {
          "base_uri": "https://localhost:8080/"
        },
        "id": "bPzJW6EQUEHS",
        "outputId": "5b330460-975d-4f05-c7b5-85404f3d6f04"
      },
      "outputs": [
        {
          "output_type": "stream",
          "name": "stdout",
          "text": [
            "Normalized entropy for probabilities of each action paired with applicable objects.\n"
          ]
        }
      ],
      "source": [
        "etyp = \"affordant_objects\" #@param ['affordant_objects', 'object_affordances'] {'type': 'string'}\n",
        "svent = \"false\" #@param [\"true\", \"false\"]\n",
        "gen = \"true\" #@param [\"true\", \"false\"]\n",
        "if gen == \"true\":\n",
        "    vod_df = pd.read_pickle(f\"{DATA_PTH}vod_df_genderated_{split}_simplified_{gnder}_{gnmd}_{gnsd}.pkl\")\n",
        "    o2v_df = pd.read_pickle(f\"{DATA_PTH}o2v_df_genderated_{split}_{gnder}_{gnmd}_{gnsd}.pkl\")\n",
        "else:\n",
        "    vod_df = pd.read_pickle(f\"{DATA_PTH}vod_df_simplified.pkl\")\n",
        "    o2v_df = pd.read_pickle(f\"{DATA_PTH}o2v_df.pkl\")\n",
        "\n",
        "vod = vod_df.to_dict()\n",
        "o2v = o2v_df.to_dict()\n",
        "o2v2 = o2v_df.dropna(axis=0).to_dict()\n",
        "gs = [\"M\", \"F\", \"N\"]\n",
        "if etyp == 'affordant_objects':\n",
        "    print(\"Normalized entropy for probabilities of each action paired with applicable objects.\")\n",
        "    dd = vod\n",
        "else:\n",
        "    print(\"Normalized entropy for probabilities of each object's commands.\")\n",
        "    dd = o2v2\n",
        "results = dict()\n",
        "for g in gs:\n",
        "    results[g] = list(map(lambda k: get_ens(dd, g, k, 2, False)[1], dd[g].keys()))\n",
        "resdf = pd.DataFrame(results)\n",
        "if svent == \"true\":\n",
        "    if gen == \"true\":\n",
        "        resdf.to_csv(f\"{DATA_PTH}norment_all_genderated_{split}_{etyp}_{gnder}_{gnmd}_{gnsd}.csv\", index=False)\n",
        "    else:\n",
        "        resdf.to_csv(f\"{DATA_PTH}norment_all_{etyp}.csv\", index=False)"
      ]
    },
    {
      "cell_type": "code",
      "source": [
        "df = eq_df(resdf)\n",
        "get_res(df.M.values, df.F.values, 0.05)"
      ],
      "metadata": {
        "id": "5HcmJFVF2S3Z"
      },
      "execution_count": null,
      "outputs": []
    },
    {
      "cell_type": "code",
      "execution_count": null,
      "metadata": {
        "id": "_MwedGhNrKQ6",
        "cellView": "form"
      },
      "outputs": [],
      "source": [
        "#@title Bulk compute generated entropies\n",
        "\n",
        "savent = \"true\" #@param [\"true\", \"false\"]\n",
        "gs = [\"M\", \"F\", \"N\"]\n",
        "for gnmd in [\"quest_sampl\", \"quest_beaml\"]:\n",
        "    for gnsd in [42, 7304, 7696]:\n",
        "        for split in [\"train\", \"dev\", \"test\"]:\n",
        "            for gnder in [\"all\", \"all_subset\", \"m\", \"m_subset\", \"n_subset\", \"f\", \"n\"]:\n",
        "                vod_df = pd.read_pickle(f\"{DATA_PTH}vod_df_genderated_{split}_simplified_{gnder}_{gnmd}_{gnsd}.pkl\")\n",
        "                o2v_df = pd.read_pickle(f\"{DATA_PTH}o2v_df_genderated_{split}_{gnder}_{gnmd}_{gnsd}.pkl\")\n",
        "                vod = vod_df.to_dict()\n",
        "                o2v = o2v_df.to_dict()\n",
        "                o2v2 = o2v_df.dropna(axis=0).to_dict()\n",
        "\n",
        "                for etyp in ['affordant_objects', 'object_affordances']:\n",
        "                    if etyp == 'affordant_objects':\n",
        "                        #print(\"Normalized entropy for probabilities of each action paired with applicable objects.\")\n",
        "                        dd = vod\n",
        "                    else:\n",
        "                        #print(\"Normalized entropy for probabilities of each object's commands.\")\n",
        "                        dd = o2v2\n",
        "                    results = dict()\n",
        "                    for g in gs:\n",
        "                        results[g] = list(map(lambda k: get_ens(dd, g, k, 2, False)[1], dd[g].keys()))\n",
        "                    resdf = pd.DataFrame(results)\n",
        "                    if savent == \"true\":\n",
        "                        resdf.to_csv(f\"{DATA_PTH}norment_all_genderated_{split}_{etyp}_{gnder}_{gnmd}_{gnsd}.csv\", index=False)"
      ]
    },
    {
      "cell_type": "markdown",
      "metadata": {
        "id": "rea_x1P6GXBa"
      },
      "source": [
        "##### c. Load, format, test saved normalized entropies"
      ]
    },
    {
      "cell_type": "code",
      "execution_count": null,
      "metadata": {
        "id": "wS0PIlwNXluT",
        "cellView": "form"
      },
      "outputs": [],
      "source": [
        "#@title Load individual\n",
        "\n",
        "etyp = \"affordant_objects\" #@param ['affordant_objects', 'object_affordances'] {'type': 'string'}\n",
        "split = \"train\" #@param [\"train\", \"dev\", \"test\"]\n",
        "gen = \"false\" #@param [\"true\", \"false\"]\n",
        "gnder = \"all_subset\" #@param [\"all_subset\", \"all\", \"m\", \"f\", \"n\", \"m_subset\", \"n_subset\"]\n",
        "gnsd = \"7304\" #@param [42, 7304, 7696]\n",
        "gnmd = \"quest_sampl\" #@param [\"quest_sampl\", \"quest_beaml\"]\n",
        "if gen == \"true\":\n",
        "    resdf = pd.read_csv(f\"{DATA_PTH}norment_all_genderated_{split}_{etyp}_{gnder}_{gnmd}_{gnsd}.csv\")\n",
        "else:\n",
        "    resdf = pd.read_csv(f\"{DATA_PTH}norment_all_{etyp}.csv\")"
      ]
    },
    {
      "cell_type": "code",
      "execution_count": null,
      "metadata": {
        "id": "GYXLvnMcqhSQ",
        "cellView": "form"
      },
      "outputs": [],
      "source": [
        "#@title Bulk load NE\n",
        "gnmd = \"quest_sampl\" #@param [\"quest_sampl\", \"quest_beam\"]\n",
        "all_ed = dict()\n",
        "for gnder in [\"all\", \"all_subset\", \"m\", \"m_subset\", \"f\", \"n\", \"n_subset\"]:\n",
        "    esplits = dict()\n",
        "    for split in [\"train\", \"dev\", \"test\"]:\n",
        "        esplits[split] = []\n",
        "        for etyp in ['affordant_objects', 'object_affordances']:\n",
        "            if etyp == 'affordant_objects':\n",
        "                dd = vod\n",
        "            else:\n",
        "                dd = o2v\n",
        "            resdfa = pd.DataFrame()\n",
        "            for gnsd in [42, 7304, 7696]:\n",
        "                resdf = pd.read_csv(f\"{DATA_PTH}norment_all_genderated_{split}_{etyp}_{gnder}_{gnmd}_{gnsd}.csv\")\n",
        "                resdfa = pd.concat([resdfa, resdf.mean()], axis=1)\n",
        "            resdfa.columns = [\"42\", \"7304\", \"7696\"]\n",
        "            esplits[split].append(round(resdfa.mean(axis=1), 3))\n",
        "    all_ed[gnder] = esplits\n"
      ]
    },
    {
      "cell_type": "code",
      "source": [
        "#@title Format for LaTeX\n",
        "new_all_e = dict()\n",
        "for gnder in all_ed.keys():\n",
        "    splits_d = dict()\n",
        "    for split in [\"train\", \"dev\", \"test\"]:\n",
        "        split_df = pd.DataFrame(all_ed[gnder][split]).T\n",
        "        split_df.columns = [\"ao\", \"oa\"]\n",
        "        split_df = split_df.T\n",
        "        splits_d[split] = split_df\n",
        "\n",
        "    res = pd.concat(splits_d.values(), axis=0, keys=splits_d.keys())\n",
        "    new_all_e[gnder] = res"
      ],
      "metadata": {
        "id": "rG00Ffn9X26l",
        "cellView": "form"
      },
      "execution_count": null,
      "outputs": []
    },
    {
      "cell_type": "code",
      "source": [
        "new_all_ef = pd.concat(new_all_e.values(), axis=1, keys=new_all_e.keys())"
      ],
      "metadata": {
        "id": "xHWRWblbX3vl"
      },
      "execution_count": null,
      "outputs": []
    },
    {
      "cell_type": "code",
      "source": [
        "# new_all_ef.to_csv(f\"{DATA_PTH}generated_ent.csv\", index_label=new_all_ef.index.tolist())"
      ],
      "metadata": {
        "id": "NItof-yZbiv-"
      },
      "execution_count": null,
      "outputs": []
    },
    {
      "cell_type": "code",
      "source": [
        "test_def = pd.read_csv(f\"{DATA_PTH}generated_ent.csv\", header=[0, 2], index_col=[0, 1])"
      ],
      "metadata": {
        "id": "x7GH50I2b4EU"
      },
      "execution_count": null,
      "outputs": []
    },
    {
      "cell_type": "code",
      "source": [
        "test_def = test_def.iloc[:, :21]\n",
        "test_def.columns = new_all_ef.columns"
      ],
      "metadata": {
        "id": "IemrF58CcGmc"
      },
      "execution_count": null,
      "outputs": []
    },
    {
      "cell_type": "code",
      "source": [
        "print(test_def.to_latex())"
      ],
      "metadata": {
        "id": "V9yNCjx6cvuh"
      },
      "execution_count": null,
      "outputs": []
    },
    {
      "cell_type": "code",
      "source": [
        "#@title Bulk compute sig, effect size\n",
        "\n",
        "splits = [\"train\", \"dev\", \"test\"]\n",
        "gnmd = \"quest_sampl\" #@param [\"quest_sampl\", \"quest_beam\"]\n",
        "all_ed = dict()\n",
        "for gnder in [\"all\", \"all_subset\", \"m\", \"m_subset\", \"f\", \"n\", \"n_subset\"]:\n",
        "    all_ed[gnder] = dict()\n",
        "    esplits = dict()\n",
        "    for split in splits:\n",
        "        all_ed[gnder][split] = dict()\n",
        "        esplits[split] = dict()\n",
        "        for etyp in ['affordant_objects', 'object_affordances']:\n",
        "            all_ed[gnder][split] = dict()\n",
        "            esplits[split][etyp] = {\"A\": [], \"B\": []}\n",
        "            '''if etyp == 'affordant_objects':\n",
        "                dd = vod\n",
        "            else:\n",
        "                dd = o2v'''\n",
        "            resdfa = pd.DataFrame()\n",
        "            for gnsd in [42, 7304, 7696]:\n",
        "                resdf = pd.read_csv(f\"{DATA_PTH}norment_all_genderated_{split}_{etyp}_{gnder}_{gnmd}_{gnsd}.csv\")\n",
        "                df = eq_df(resdf)\n",
        "                a = df[\"M\"].values\n",
        "                b = df[\"F\"].values\n",
        "                esplits[split][etyp][\"A\"].append((gnsd, a))\n",
        "                esplits[split][etyp][\"B\"].append((gnsd, b))\n",
        "        for typ, A, B in [(\"affordant_objects\", esplits[split][\"affordant_objects\"][\"A\"],\n",
        "                            esplits[split][\"affordant_objects\"][\"B\"]),\n",
        "                            (\"object_affordances\", esplits[split][\"object_affordances\"][\"A\"],\n",
        "                            esplits[split][\"object_affordances\"][\"B\"])]:\n",
        "            alt = \"less\"\n",
        "            pairs = zip(A, B)\n",
        "            all_ed[gnder][split][typ] = dict()\n",
        "            for a, b in pairs:\n",
        "                sda, a = a\n",
        "                sdb, b = b\n",
        "                if sda == sdb:\n",
        "                    with warnings.catch_warnings():\n",
        "                        warnings.filterwarnings(category=RuntimeWarning,\n",
        "                                                action='ignore',\n",
        "                                                message='overflow encountered in double_scalars')\n",
        "                        res = get_res(a, b, alpha=0.05, alt=alt)\n",
        "                        if not res[\"sig\"]:\n",
        "                            res = get_res(a, b, alpha=0.05, alt='greater')\n",
        "                        if not res[\"sig\"]:\n",
        "                            res = get_res(a, b, alpha=0.05, alt='two-sided')\n",
        "                        all_ed[gnder][split][typ][sda] = res"
      ],
      "metadata": {
        "id": "_0lJGhswh3qX",
        "cellView": "form"
      },
      "execution_count": null,
      "outputs": []
    },
    {
      "cell_type": "code",
      "source": [
        "# np.save(f'{DATA_PTH}gender_ne_sigs.npy', all_ed)"
      ],
      "metadata": {
        "id": "NPSPvz4enC1T"
      },
      "execution_count": null,
      "outputs": []
    },
    {
      "cell_type": "code",
      "source": [
        "all_ed2 = np.load(f'{DATA_PTH}gender_ne_sigs.npy', allow_pickle='TRUE').item()"
      ],
      "metadata": {
        "id": "9lmXA7SRnC1U"
      },
      "execution_count": null,
      "outputs": []
    },
    {
      "cell_type": "code",
      "source": [
        "keyys = [\"ne ao\", \"ne oa\"]"
      ],
      "metadata": {
        "id": "sV3Vy1Bymk1t"
      },
      "execution_count": null,
      "outputs": []
    },
    {
      "cell_type": "code",
      "source": [
        "#@title Format sig, effect size results\n",
        "\n",
        "new_all_d = dict()\n",
        "for gnder in all_ed.keys():\n",
        "    splits_d = dict()\n",
        "    for split in [\"train\", \"dev\", \"test\"]:\n",
        "        split_df = pd.DataFrame(all_ed[gnder][split])\n",
        "        split_df.columns = keyys\n",
        "        def reps(x):\n",
        "            # ensure all are M < F\n",
        "            s = x[\"alt\"]\n",
        "            if \"greater\" in s or (\"two-sided\" in s and x[\"cles\"] != 0):\n",
        "                sys.exit()\n",
        "            if x[\"cles\"] == 0:\n",
        "                return \"\"\n",
        "            else:\n",
        "                return s.replace(\"less\", \"<\").replace(\"greater\", \">\").replace(\"two-sided\", \"!=\")\n",
        "        split_df = split_df.applymap(lambda x: str(x[\"sig\"] * np.round(x[\"cles\"], 2)) + reps(x))\n",
        "        split_df = split_df.T\n",
        "        splits_d[split] = split_df\n",
        "\n",
        "    res = pd.concat(splits_d.values(), axis=0, keys=splits_d.keys())\n",
        "    new_all_d[gnder] = res"
      ],
      "metadata": {
        "id": "sjoBqLALmaZm",
        "cellView": "form"
      },
      "execution_count": null,
      "outputs": []
    },
    {
      "cell_type": "code",
      "source": [
        "df = pd.concat(new_all_d.values(), axis=1, keys=new_all_d.keys())\n",
        "df = df.mask(df==\"0\").fillna(\"--\")"
      ],
      "metadata": {
        "id": "FIMbTu0WmaZn"
      },
      "execution_count": null,
      "outputs": []
    },
    {
      "cell_type": "code",
      "source": [
        "print(df.to_latex())"
      ],
      "metadata": {
        "id": "m2IVlODqokIN"
      },
      "execution_count": null,
      "outputs": []
    },
    {
      "cell_type": "markdown",
      "metadata": {
        "id": "RtD9EPNnGqB8"
      },
      "source": [
        "##### d. Display averaged results per gender."
      ]
    },
    {
      "cell_type": "code",
      "execution_count": null,
      "metadata": {
        "id": "XvNhnNf2F60r"
      },
      "outputs": [],
      "source": [
        "df = resdf[resdf.M != 0]\n",
        "df = df[df.F != 0]\n",
        "get_res(df.M.values, df.F.values, 0.05, \"less\")"
      ]
    },
    {
      "cell_type": "markdown",
      "source": [
        "# IV. Surprisal (Affordance Sensitivity)"
      ],
      "metadata": {
        "id": "fMm2NRqUIOFL"
      }
    },
    {
      "cell_type": "markdown",
      "source": [
        "#### a. Imports, dependencies"
      ],
      "metadata": {
        "id": "v-WDcfAdrsFt"
      }
    },
    {
      "cell_type": "code",
      "source": [
        "import warnings\n",
        "warnings.filterwarnings(\"ignore\", category=DeprecationWarning)"
      ],
      "metadata": {
        "id": "LuHi22qmxXch"
      },
      "execution_count": null,
      "outputs": []
    },
    {
      "cell_type": "code",
      "execution_count": null,
      "metadata": {
        "id": "l_LfbA4AWcHA"
      },
      "outputs": [],
      "source": [
        "!pip install transformers sentencepiece datasets &> /dev/null"
      ]
    },
    {
      "cell_type": "code",
      "source": [
        "from transformers import (T5TokenizerFast as T5Tokenizer, T5ForConditionalGeneration,\n",
        "                          BartTokenizer, BartForConditionalGeneration)\n",
        "from transformers import (AutoTokenizer, DataCollatorWithPadding, Seq2SeqTrainer,\n",
        "                          DataCollatorForSeq2Seq, Seq2SeqTrainingArguments,\n",
        "                          Trainer, TrainingArguments)\n",
        "\n",
        "from datasets import load_dataset, DatasetDict\n",
        "\n",
        "from datasets import load_from_disk"
      ],
      "metadata": {
        "id": "gmAADvdRlYF1"
      },
      "execution_count": null,
      "outputs": []
    },
    {
      "cell_type": "code",
      "source": [
        "!pip install minicons &> /dev/null # https://pypi.org/project/minicons/"
      ],
      "metadata": {
        "id": "2Jfqpkl54gU6"
      },
      "execution_count": null,
      "outputs": []
    },
    {
      "cell_type": "code",
      "source": [
        "from minicons import scorer"
      ],
      "metadata": {
        "id": "s8NrbETY5zXu"
      },
      "execution_count": null,
      "outputs": []
    },
    {
      "cell_type": "code",
      "execution_count": null,
      "metadata": {
        "id": "ObFfTaFfWcHB"
      },
      "outputs": [],
      "source": [
        "from collections import defaultdict\n",
        "import re, sys\n",
        "import random, numpy as np, torch\n",
        "import pandas as pd\n",
        "from collections import Counter"
      ]
    },
    {
      "cell_type": "code",
      "source": [
        "DATA_PTH = f\"/../content/drive/MyDrive/data/light_data/\""
      ],
      "metadata": {
        "id": "wVviO7qi3zvH"
      },
      "execution_count": null,
      "outputs": []
    },
    {
      "cell_type": "code",
      "execution_count": null,
      "metadata": {
        "id": "nbbg9rT4oS3Z"
      },
      "outputs": [],
      "source": [
        "from google.colab import data_table\n",
        "\n",
        "data_table.enable_dataframe_formatter()\n",
        "data_table.DataTable.num_rows_per_page = 10\n"
      ]
    },
    {
      "cell_type": "code",
      "source": [
        "import ipywidgets as widgets\n",
        "from ipywidgets import (interact, interactive,\n",
        "                        interactive_output,\n",
        "                        fixed, interact_manual)\n",
        "from IPython.display import display, clear_output"
      ],
      "metadata": {
        "id": "T2i436F9vNMN"
      },
      "execution_count": null,
      "outputs": []
    },
    {
      "cell_type": "code",
      "execution_count": null,
      "metadata": {
        "id": "MqGJ22dHWcHB"
      },
      "outputs": [],
      "source": [
        "def set_seed(seed):\n",
        "  random.seed(seed)\n",
        "  np.random.seed(seed)\n",
        "  torch.manual_seed(seed)\n",
        "\n",
        "seed = 42\n",
        "set_seed(seed)"
      ]
    },
    {
      "cell_type": "markdown",
      "source": [
        "#### b. Load model, tokenizer for encodings\n",
        "\n",
        "```sel``` chooses BART, T5, or fine-tuned versions thereof. ```sz``` choose between base-size or large. ```g``` selects all genders or male, female, or gender-neutral."
      ],
      "metadata": {
        "id": "7-TodKl2wlKd"
      }
    },
    {
      "cell_type": "code",
      "execution_count": null,
      "metadata": {
        "id": "ToLJXILFWWVO",
        "cellView": "form"
      },
      "outputs": [],
      "source": [
        "#@title ##### Primary model, tokenizer selection\n",
        "\n",
        "sel = \"bart\" #@param [\"bart\", \"t5\", \"bart_custom\", \"t5_custom\"]\n",
        "sz = \"base\" #@param [\"base\", \"large\"]\n",
        "g = \"All (Subset)\" #@param [\"All\", \"All (Subset)\", \"Male\", \"Female\", \"Neutral\", \"Male (Subset)\", \"Neutral (Subset)\"]\n",
        "gd = {\"Male\": \"m\", \"Female\": \"f\", \"Neutral\": \"n\", \"All\": \"all\", \"Male (Subset)\": \"m_subset\",\n",
        "      \"All (Subset)\": \"all_subset\", \"Neutral (Subset)\": \"n_subset\"}\n",
        "g = gd[g]\n",
        "sd = \"42\" #@param [42, 7304, 7696]\n",
        "cd = {\"all\": 1640, \"m\": 205, \"f\": 180, \"n\": 1305,\n",
        "      \"m_subset\": 180, \"all_subset\": 180, \"n_subset\": 180}\n",
        "cp = cd[g]\n",
        "pth = widgets.Text(f\"{DATA_PTH}models/quest_model_{g}_{sd}/checkpoint-{cp}\").value\n",
        "display(pth)\n",
        "\n",
        "if pth or \"custom\" not in sel:\n",
        "    mt = {\"t5\": (f\"t5-{sz}\", (T5Tokenizer, T5ForConditionalGeneration)),\n",
        "        \"bart\": (f\"facebook/bart-{sz}\", (BartTokenizer, BartForConditionalGeneration)),\n",
        "        \"bart_custom\": (f\"facebook/bart-{sz}\", (BartTokenizer, BartForConditionalGeneration)),\n",
        "        \"t5_custom\": (f\"t5-{sz}\", (T5Tokenizer, T5ForConditionalGeneration))}\n",
        "\n",
        "    if sel in [\"t5\", \"bart\"]:\n",
        "        print(f\"Using base {sel.upper()}.\")\n",
        "        tokenizer = mt[sel][1][0].from_pretrained(f\"{mt[sel][0]}\")\n",
        "        modelnm = f\"{mt[sel][0]}\"\n",
        "    else:\n",
        "        if \"t5\" in sel:\n",
        "            tpth = \"t5-base\"\n",
        "        elif \"bart_\" in sel:\n",
        "            tpth = \"facebook/bart-base\"\n",
        "        tokenizer = mt[sel][1][0].from_pretrained(f\"{tpth}\")\n",
        "        modelnm = pth\n",
        "    #tokenizer.pad_token = tokenizer.eos_token"
      ]
    },
    {
      "cell_type": "markdown",
      "source": [
        "##### Load data for prompts"
      ],
      "metadata": {
        "id": "9KRM3CW5E7TJ"
      }
    },
    {
      "cell_type": "code",
      "source": [
        "vod_df = pd.read_pickle(f\"{DATA_PTH}vod_df_simplified.pkl\")\n",
        "o2v_df = pd.read_pickle(f\"{DATA_PTH}o2v_df.pkl\")\n",
        "\n",
        "vod = vod_df.to_dict()\n",
        "o2v = o2v_df.to_dict()\n",
        "o2v2 = o2v_df.dropna(axis=0).to_dict()"
      ],
      "metadata": {
        "id": "iScan0ThloGg"
      },
      "execution_count": null,
      "outputs": []
    },
    {
      "cell_type": "code",
      "execution_count": null,
      "metadata": {
        "id": "jKhPTDy6ayZ7"
      },
      "outputs": [],
      "source": [
        "dfqq = pd.read_pickle(f\"{DATA_PTH}dfqq_gmn.pkl\")"
      ]
    },
    {
      "cell_type": "markdown",
      "source": [
        "##### 1. Load splits, tokenize"
      ],
      "metadata": {
        "id": "TezXpCn7rIm8"
      }
    },
    {
      "cell_type": "code",
      "source": [
        "qtrain_dev_test_dataset = load_from_disk(f\"{DATA_PTH}light_dataset\")"
      ],
      "metadata": {
        "id": "PF6vT3G9m3l1"
      },
      "execution_count": null,
      "outputs": []
    },
    {
      "cell_type": "markdown",
      "source": [
        "#### c. Setup, compute surprisals, save, plot"
      ],
      "metadata": {
        "id": "o6tN40Vg7QwX"
      }
    },
    {
      "cell_type": "code",
      "source": [
        "dvc = \"cuda\" #@param [\"cuda\", \"cpu\"]"
      ],
      "metadata": {
        "id": "UBsojrfj4kNc"
      },
      "execution_count": null,
      "outputs": []
    },
    {
      "cell_type": "code",
      "source": [
        "#@title Setup (tokenizer, definitions)\n",
        "tokenizer = BartTokenizer.from_pretrained(f\"facebook/bart-base\")\n",
        "vset = {'drink','drop','eat','follow','get','give',\n",
        "        'go','hit','hug','put','remove','steal',\n",
        "        'use','wear','wield'}\n",
        "toks = [\"wield\", \"drink\", \"hug\", \"steal\"]\n",
        "for v in vset:\n",
        "    for tok in tokenizer(v)[\"input_ids\"][1:-1]:\n",
        "        toks.append(tokenizer.decode(tok))\n",
        "def get_ind_res(ind_res):\n",
        "    \"\"\"Get object surprisal, averaged over subword tokens if necessary.\"\"\"\n",
        "    ind_toks = [i[0] for i in ind_res]\n",
        "    ix = ind_toks.index(\"-\")+1\n",
        "    six = 0\n",
        "    if ind_toks.count(\"-\") >= 2:\n",
        "        sind_toks = ind_toks[ix:]\n",
        "        six = sind_toks.index(\"-\")+1\n",
        "    ind_res = ind_res[ix+six:-1]\n",
        "    if ind_res[0][0] in toks:\n",
        "        if (ind_res[0][0] == \"h\" and ind_res[1][0] == \"ug\"\n",
        "            or ind_res[0][0] == \"dr\" and ind_res[1][0] == \"ink\"\n",
        "            or ind_res[0][0] == \"st\" and ind_res[1][0] == \"eal\"\n",
        "            or ind_res[0][0] == \"w\" and ind_res[1][0] == \"ield\"):\n",
        "            res = np.mean([v for i, v in ind_res[2:]])\n",
        "        else:\n",
        "            res = np.mean([v for i, v in ind_res[1:]])\n",
        "    else:\n",
        "        print(ind_res)\n",
        "        sys.exit()\n",
        "    return(res)"
      ],
      "metadata": {
        "id": "87CiEi3-I0GP",
        "cellView": "form"
      },
      "execution_count": null,
      "outputs": []
    },
    {
      "cell_type": "code",
      "source": [
        "#@title Setup prompts\n",
        "topk = 5 #@param\n",
        "clsms_main = {g: [] for g in [\"M\", \"F\", \"N\"]}\n",
        "dfqq_gmn = pd.read_pickle(f\"{DATA_PTH}dfqq_gmn.pkl\") # Contains additional columns listing entities, preserves types\n",
        "source_df = dfqq_gmn.loc[:, [\"gender\", \"clsm\", \"character\", \"location\", \"short_motivation\", \"quest\", \"questl\"]]\n",
        "def remove_the(x):\n",
        "    x[\"character\"] = x[\"character\"].replace(\"The The \", \"The \").replace(\"The A \", \"A \")\n",
        "    x[\"location\"] = x[\"location\"].replace(\"The The \", \"The \").replace(\"The A \", \"A \")\n",
        "    x[\"clsm\"] = x[\"clsm\"].replace(\"The The \", \"The \").replace(\"The A \", \"A \")\n",
        "    return x\n",
        "sdf = source_df.apply(remove_the, axis=1)\n",
        "\n",
        "for clsmg in [\"M\", \"F\", \"N\"]:\n",
        "    sorted_df = sdf[sdf.gender == clsmg].groupby(['character',\n",
        "                        'location']).count().reset_index().sort_values(['clsm'],\n",
        "                                                                        ascending=False)\n",
        "    characters = []\n",
        "    locations = []\n",
        "    for char in sorted_df.character.values.tolist():\n",
        "        if char not in characters and len(characters) < topk:\n",
        "            characters.append(char)\n",
        "\n",
        "\n",
        "    for loc in sorted_df.location.values.tolist():\n",
        "        if loc not in locations and len(locations) < topk:\n",
        "            locations.append(loc)\n",
        "\n",
        "    for char in characters:\n",
        "        for loc in locations:\n",
        "            c = char\n",
        "            l = loc\n",
        "            context = f\"{char} - {loc}\"\n",
        "            clsms_main[clsmg].append(context)"
      ],
      "metadata": {
        "id": "uhzPsHrRaybf",
        "cellView": "form"
      },
      "execution_count": null,
      "outputs": []
    },
    {
      "cell_type": "markdown",
      "source": [
        "Afforded:"
      ],
      "metadata": {
        "id": "UlPUJq-4z0FH"
      }
    },
    {
      "cell_type": "code",
      "source": [
        "commands_d = dict()\n",
        "for gnd in [\"M\", \"F\", \"N\"]:\n",
        "    commandss = dict()\n",
        "    vgnd = vod[gnd]\n",
        "    for action in vgnd.keys():\n",
        "        commands = []\n",
        "        for obj in vgnd[action].keys(): #objects:\n",
        "            if vgnd[action][obj] > 0:\n",
        "                    commands.append(f\"{action} {obj}\")\n",
        "        commandss[action] = commands\n",
        "    commands_d[gnd] = commandss"
      ],
      "metadata": {
        "id": "H9ZyLfUBZkwZ"
      },
      "execution_count": null,
      "outputs": []
    },
    {
      "cell_type": "markdown",
      "source": [
        "Nonafforded:"
      ],
      "metadata": {
        "id": "Aq1AI9r3AaaV"
      }
    },
    {
      "cell_type": "code",
      "source": [
        "a_na_d = {gnd: {action: dict(filter(lambda x: x[-1] > 0, sorted(list(zip(vod[gnd][action].keys(),\n",
        "                map(lambda x: np.round(x/sum(vod[gnd][action].values()) * 100, 3),\n",
        "                    vod[gnd][action].values()))),\n",
        "       key=lambda x: -x[-1]))) for action in vset}\n",
        " for gnd in [\"M\", \"F\", \"N\"]}"
      ],
      "metadata": {
        "id": "AXzoAzTe29d9"
      },
      "execution_count": null,
      "outputs": []
    },
    {
      "cell_type": "code",
      "source": [
        "#@title Bulk compute models' surprisals for afforded vs. nonafforded\n",
        "res_sds = dict()\n",
        "mchars = list(set([s.split(\" - \")[0] for s in clsms_main[\"M\"]]))\n",
        "mprompts = clsms_main[\"M\"]\n",
        "fchars = list(set([s.split(\" - \")[0] for s in clsms_main[\"F\"]]))\n",
        "fprompts = clsms_main[\"F\"]\n",
        "prompt_pairs = list(zip(mprompts, fprompts))\n",
        "for gen_sd in [42, 7304, 7696]:\n",
        "    set_seed(gen_sd)\n",
        "    cd = {\"base\": 0, \"all\": 1640, \"m\": 205, \"f\": 180, \"n\": 1305,\n",
        "          \"m_subset\": 180, \"n_subset\": 180, \"all_subset\": 180}\n",
        "    print(f\"Set seed to {gen_sd}.\")\n",
        "    res_gs = dict()\n",
        "    for g in cd.keys():\n",
        "        results = dict()\n",
        "        cp = cd[g.lower()]\n",
        "        if g == \"base\":\n",
        "            modelnm = f\"facebook/bart-base\"\n",
        "        else:\n",
        "            modelnm = f\"{DATA_PTH}models/quest_model_{g.lower()}_{gen_sd}/checkpoint-{cp}\"\n",
        "        print(modelnm)\n",
        "        s2s_model = scorer.Seq2SeqScorer(modelnm, dvc)\n",
        "        res_ana = dict()\n",
        "        for action in vset:\n",
        "            m_items = [cmd for cmd in commands_d[\"M\"][action]\n",
        "                       if a_na_d[\"M\"][action].get(cmd.split()[-1], 0) > a_na_d[\"F\"][action].get(cmd.split()[-1], 0)] # afforded M, nonafforded F\n",
        "            f_items = [cmd for cmd in commands_d[\"F\"][action]\n",
        "                       if a_na_d[\"F\"][action].get(cmd.split()[-1], 0) > a_na_d[\"M\"][action].get(cmd.split()[-1], 0)] # afforded F, nonafforded M\n",
        "            res_ana[action] = dict()\n",
        "            for aff, items in [(\"MA\", m_items), (\"FA\", f_items)]:\n",
        "                msurp = []\n",
        "                fsurp = []\n",
        "                for cmd in items: # afforded male/nonafforded female first, then vice versa\n",
        "                    commands = []\n",
        "                    for pair in prompt_pairs: # create pair of m/f prompts for afforded items\n",
        "                        for s in pair:\n",
        "                            prompt = f\"{s} - {cmd}\"\n",
        "                            commands.append(prompt)\n",
        "                    # get cmd surprisal for afforded vs. nonafforded by gender\n",
        "                    res = list(map(get_ind_res,\n",
        "                                    s2s_model.token_score(commands,\n",
        "                                                        surprisal = True,\n",
        "                                                        base_two = True)))\n",
        "                    msurp.append(res[0]) # surprisal for gender with afforded cmd for that gender\n",
        "                    fsurp.append(res[1]) # surprisal for opposite gender with nonafforded cmd for that opposite gender\n",
        "                res_ana[action][aff] = [msurp, fsurp] # for averaging the pairs of surprisals for condition w/ np.mean\n",
        "        res_gs[g] = res_ana\n",
        "        del s2s_model\n",
        "    res_sds[gen_sd] = res_gs\n"
      ],
      "metadata": {
        "id": "IuwM2V9olvcr",
        "cellView": "form"
      },
      "execution_count": null,
      "outputs": []
    },
    {
      "cell_type": "markdown",
      "source": [
        "Load/save:"
      ],
      "metadata": {
        "id": "awqmZsUhz5OS"
      }
    },
    {
      "cell_type": "code",
      "source": [
        "# np.save(f'{DATA_PTH}surprisals_mfana2.npy', res_sds)"
      ],
      "metadata": {
        "id": "l6mc1Uzvq5UH"
      },
      "execution_count": null,
      "outputs": []
    },
    {
      "cell_type": "code",
      "source": [
        "res_sds = np.load(f'{DATA_PTH}surprisals_mfana2.npy', allow_pickle='TRUE').item()"
      ],
      "metadata": {
        "id": "uTQZhaFTrD-q"
      },
      "execution_count": null,
      "outputs": []
    },
    {
      "cell_type": "markdown",
      "source": [
        "###### Display:"
      ],
      "metadata": {
        "id": "D61brXPez3nI"
      }
    },
    {
      "cell_type": "code",
      "source": [
        "cd = {\"base\": 0, \"all\": 1640, \"m\": 205, \"f\": 180, \"n\": 1305,\n",
        "          \"m_subset\": 180, \"n_subset\": 180, \"all_subset\": 180}\n",
        "vset = {'drink','drop','eat','follow','get','give',\n",
        "'go','hit','hug','put','remove','steal',\n",
        "'use','wear','wield'}"
      ],
      "metadata": {
        "id": "5XqQwTnqEVvu"
      },
      "execution_count": null,
      "outputs": []
    },
    {
      "cell_type": "code",
      "source": [
        "res_d = dict()\n",
        "for mg in cd.keys():\n",
        "    s_d = {a: dict() for a in vset}\n",
        "    for sd in [42, 7304, 7696]:\n",
        "        for a, vs in res_sds[sd][mg].items():\n",
        "            a_d = dict()\n",
        "            for k, v in vs.items():\n",
        "                a_d[k] = []\n",
        "                for surp in v:\n",
        "                    a_d[k].append(np.mean(surp))\n",
        "                s_d[a][k] = [np.mean(a_d[k][0]), np.mean(a_d[k][1])]\n",
        "    res_d[mg] = s_d"
      ],
      "metadata": {
        "id": "KUrxekWtYg6E"
      },
      "execution_count": null,
      "outputs": []
    },
    {
      "cell_type": "code",
      "source": [
        "verb = \"wear\" #@param\n",
        "mafa = \"FA\" #@param [\"MA\", \"FA\"]\n",
        "for mg in cd.keys():\n",
        "    print(mg, mafa, 'afforded: ',\n",
        "            np.round(res_d[mg][verb][mafa][0], 3),\n",
        "            'nonafforded: ',\n",
        "            np.round(res_d[mg][verb][mafa][1], 3))"
      ],
      "metadata": {
        "colab": {
          "base_uri": "https://localhost:8080/"
        },
        "id": "owQPKWw0a6mj",
        "outputId": "e08e1661-fe1b-4471-e450-b0181de4baad"
      },
      "execution_count": null,
      "outputs": [
        {
          "output_type": "stream",
          "name": "stdout",
          "text": [
            "base FA afforded:  24.872 nonafforded:  24.764\n",
            "all FA afforded:  19.384 nonafforded:  19.668\n",
            "m FA afforded:  18.406 nonafforded:  18.601\n",
            "f FA afforded:  17.517 nonafforded:  17.549\n",
            "n FA afforded:  18.898 nonafforded:  19.721\n",
            "m_subset FA afforded:  18.395 nonafforded:  18.349\n",
            "n_subset FA afforded:  18.12 nonafforded:  18.589\n",
            "all_subset FA afforded:  18.1 nonafforded:  18.515\n"
          ]
        }
      ]
    },
    {
      "cell_type": "code",
      "source": [
        "verb = \"drop\" #@param\n",
        "for mg in cd.keys():\n",
        "    for g in [\"M\", \"F\", \"N\"]:\n",
        "        print(mg, g, res_d[mg][g][verb])\n",
        "\n",
        "    print(mg, \"MFR: \", round(res_d[mg][\"M\"][verb]/res_d[mg][\"F\"][verb], 3))"
      ],
      "metadata": {
        "id": "iTPYHz2bKEW4",
        "cellView": "form"
      },
      "execution_count": null,
      "outputs": []
    },
    {
      "cell_type": "code",
      "source": [
        "verb = \"remove\" #@param\n",
        "for mg in cd.keys():\n",
        "    for g in [\"M\", \"F\", \"N\"]:\n",
        "        print(mg, g, res_d[mg][g][verb])\n",
        "\n",
        "    print(mg, \"MFR: \", round(res_d[mg][\"M\"][verb]/res_d[mg][\"F\"][verb], 3))"
      ],
      "metadata": {
        "id": "LS8r6PnwwXBC",
        "cellView": "form"
      },
      "execution_count": null,
      "outputs": []
    },
    {
      "cell_type": "markdown",
      "source": [
        "###### Plot"
      ],
      "metadata": {
        "id": "Ea39Bqq-azSW"
      }
    },
    {
      "cell_type": "code",
      "source": [
        "import matplotlib.pyplot as plt"
      ],
      "metadata": {
        "id": "gWf2rj1QLHeO"
      },
      "execution_count": null,
      "outputs": []
    },
    {
      "cell_type": "code",
      "source": [
        "#@title Experimental bulk plotting (first load res_sds, get res_d)\n",
        "for mg in [\"base\", \"all\", \"all_subset\", \"m_subset\", \"m\", \"f\", \"n\", \"n_subset\"]:\n",
        "    fig, axs = plt.subplots(2, 1, figsize=(5, 8), sharey=True, sharex=True)\n",
        "    for ix, ax in enumerate(axs):\n",
        "        if ix == 0:\n",
        "            lab = \"MA\"\n",
        "        else:\n",
        "            lab = \"FA\"\n",
        "        keys = [key for key in res_d[mg].keys()]\n",
        "        values = [d[lab] for d in res_d[mg].values()]\n",
        "        ax.barh(np.arange(len(keys)) - 0.11, [value[0] for value in values], 0.25,\n",
        "            color='b', align='center')\n",
        "        ax.barh(np.arange(len(keys)) + 0.11,\n",
        "            [value[1] for value in values], 0.25,\n",
        "            color='g', align='center')\n",
        "        if ix == 0:\n",
        "            title = f\"{mg} Male Afforded, Female Nonafforded\"\n",
        "        else:\n",
        "            title = f\"{mg} Female Afforded, Male Nonafforded\"\n",
        "        ax.set_title(f\"{title}\")\n",
        "        ax.set_yticklabels(keys)\n",
        "        ax.set_yticks(np.arange(len(keys)))\n",
        "\n",
        "    for ax in axs.flat:\n",
        "        ax.set(ylabel='Actions')\n",
        "\n",
        "    # Hide x labels and tick labels for top plots and y ticks for right plots.\n",
        "    for ax in axs.flat:\n",
        "        ax.label_outer()\n",
        "\n",
        "    fig.text(0.5, 0, 'Surprisal (bits)', ha='center')\n",
        "    plt.legend([\"A\", \"NA\"], loc='best',\n",
        "            bbox_to_anchor=(0.74, 0.69, 0.5, 0.5))\n",
        "\n",
        "    plt.show()\n"
      ],
      "metadata": {
        "colab": {
          "base_uri": "https://localhost:8080/",
          "height": 1000
        },
        "id": "eJKJEdzh88Fl",
        "outputId": "88982c31-4cb3-468d-ff15-b7502c33a53a",
        "cellView": "form"
      },
      "execution_count": null,
      "outputs": [
        {
          "output_type": "display_data",
          "data": {
            "text/plain": [
              "<Figure size 360x576 with 2 Axes>"
            ],
            "image/png": "[encoded data removed]"
          },
          "metadata": {
            "needs_background": "light"
          }
        },
        {
          "output_type": "display_data",
          "data": {
            "text/plain": [
              "<Figure size 360x576 with 2 Axes>"
            ],
            "image/png": "[encoded data removed]"
          },
          "metadata": {
            "needs_background": "light"
          }
        },
        {
          "output_type": "display_data",
          "data": {
            "text/plain": [
              "<Figure size 360x576 with 2 Axes>"
            ],
            "image/png": "[encoded data removed]"
          },
          "metadata": {
            "needs_background": "light"
          }
        },
        {
          "output_type": "display_data",
          "data": {
            "text/plain": [
              "<Figure size 360x576 with 2 Axes>"
            ],
            "image/png": "[encoded data removed]"
          },
          "metadata": {
            "needs_background": "light"
          }
        },
        {
          "output_type": "display_data",
          "data": {
            "text/plain": [
              "<Figure size 360x576 with 2 Axes>"
            ],
            "image/png": "[encoded data removed]"
          },
          "metadata": {
            "needs_background": "light"
          }
        },
        {
          "output_type": "display_data",
          "data": {
            "text/plain": [
              "<Figure size 360x576 with 2 Axes>"
            ],
            "image/png": "[encoded data removed]"
          },
          "metadata": {
            "needs_background": "light"
          }
        },
        {
          "output_type": "display_data",
          "data": {
            "text/plain": [
              "<Figure size 360x576 with 2 Axes>"
            ],
            "image/png": "[encoded data removed]"
          },
          "metadata": {
            "needs_background": "light"
          }
        },
        {
          "output_type": "display_data",
          "data": {
            "text/plain": [
              "<Figure size 360x576 with 2 Axes>"
            ],
            "image/png": "[encoded data removed]"
          },
          "metadata": {
            "needs_background": "light"
          }
        }
      ]
    },
    {
      "cell_type": "markdown",
      "source": [
        "#### d. Significance"
      ],
      "metadata": {
        "id": "f3HK70bqa6Yk"
      }
    },
    {
      "cell_type": "code",
      "source": [
        "from itertools import product"
      ],
      "metadata": {
        "id": "xhcLxjlgRMm3"
      },
      "execution_count": null,
      "outputs": []
    },
    {
      "cell_type": "code",
      "source": [
        "#@title Sig test for all seed combinations\n",
        "# alpha w/ bonferroni\n",
        "afforded_g = \"MA\" #@param [\"MA\", \"FA\"]\n",
        "models = ['base', 'All', 'All_subset', 'M', 'M_subset', 'F', 'N', 'N_subset']\n",
        "m_d = dict()\n",
        "for model in models:\n",
        "    print(model)\n",
        "    model = model.lower()\n",
        "    A = []\n",
        "    B = []\n",
        "    for sd in [42, 7304, 7696]:\n",
        "        if model == \"base\":\n",
        "            sda = 42\n",
        "        else:\n",
        "            sda = sd\n",
        "        ma_all = []\n",
        "        fna_all = []\n",
        "        for action, mafa in res_sds[sda][model].items():\n",
        "            ma_all.extend(mafa[f\"{afforded_g}\"][0])\n",
        "            fna_all.extend(mafa[f\"{afforded_g}\"][1])\n",
        "        a = (sd, ma_all) # male afforded surprisal if MA else female afforded (FA)\n",
        "        b = (sd, fna_all) # female or male nonafforded likewise\n",
        "        A.append(a)\n",
        "        B.append(b)\n",
        "    pairs = list(product(A, B))\n",
        "    dct = dict()\n",
        "    for a, b in pairs:\n",
        "        sda, a = a\n",
        "        sdb, b = b\n",
        "        if model != \"base\" or (model == \"base\" and (sda == 42 and sdb == 42)):\n",
        "            res = get_res(a, b, alpha=0.01/9, alt=\"less\")\n",
        "            dct[f\"{sda}_a vs. {sdb}_b\"] = res\n",
        "        else:\n",
        "            dct[f\"{sda}_a vs. {sdb}_b\"] = res\n",
        "    m_d[model] = dct\n"
      ],
      "metadata": {
        "id": "7IINQosyK-ZH",
        "cellView": "form"
      },
      "execution_count": null,
      "outputs": []
    },
    {
      "cell_type": "code",
      "source": [
        "# np.save(f'{DATA_PTH}surprisals_{afforded_g}_cles.npy', m_d)"
      ],
      "metadata": {
        "id": "gFm7l4g-V49-"
      },
      "execution_count": null,
      "outputs": []
    },
    {
      "cell_type": "code",
      "source": [
        "m_d_ma = np.load(f'{DATA_PTH}surprisals_ma_cles.npy', allow_pickle='TRUE').item()"
      ],
      "metadata": {
        "id": "2FSCE3LnSsYO"
      },
      "execution_count": null,
      "outputs": []
    },
    {
      "cell_type": "code",
      "source": [
        "m_d_fa = np.load(f'{DATA_PTH}surprisals_fa_cles.npy', allow_pickle='TRUE').item()"
      ],
      "metadata": {
        "id": "p4CKVUTaTgfY"
      },
      "execution_count": null,
      "outputs": []
    },
    {
      "cell_type": "code",
      "source": [
        "#@title Format loaded results\n",
        "nested_d = dict()\n",
        "for model in m_d_ma.keys():\n",
        "    for k in [\"cles_MA\", \"cles_FA\"]:\n",
        "        lst = []\n",
        "        for key in m_d_ma[model].keys():\n",
        "            ky = key.split(\"vs.\")\n",
        "            kk, t = k.split(\"_\")\n",
        "            if t == \"MA\":\n",
        "                d = m_d_ma[model][key]\n",
        "            elif t == \"FA\":\n",
        "                d = m_d_fa[model][key]\n",
        "            if d[\"sig\"]: # 0.01/9\n",
        "                lst.append(np.round(d[kk], 2))\n",
        "            elif d[\"pval\"] < 0.05/9:\n",
        "                dd = np.round(d[kk], 2)\n",
        "                lst.append(f\"{dd}*\")\n",
        "            else:\n",
        "                lst.append(\"--\")\n",
        "        if kk == \"cles\":\n",
        "            kk = kk.upper()\n",
        "        tup = (model, t)\n",
        "        nested_d[tup] = lst\n",
        "df = pd.DataFrame(nested_d)\n",
        "\n",
        "indexx = [f\"{i+1}\" for i in range(9)]\n",
        "df.index = indexx\n",
        "#df.index.name = \"MF\""
      ],
      "metadata": {
        "id": "yfSoDk4ISSOw",
        "cellView": "form"
      },
      "execution_count": null,
      "outputs": []
    },
    {
      "cell_type": "code",
      "source": [
        "df # M < F or F < M"
      ],
      "metadata": {
        "id": "Czn13BWPUt-b"
      },
      "execution_count": null,
      "outputs": []
    },
    {
      "cell_type": "code",
      "source": [
        "print(df.to_latex())"
      ],
      "metadata": {
        "id": "X-PnoEb0XIkj"
      },
      "execution_count": null,
      "outputs": []
    }
  ],
  "metadata": {
    "accelerator": "GPU",
    "colab": {
      "collapsed_sections": [
        "5BdnOKxcArkc",
        "OyZrggMkUVpX",
        "gAoK_dIGHcwr",
        "yIs5DOtya-jK",
        "h1EBwOKkbCz5",
        "fFK8MZw31uIb",
        "0q9Ch3GmPH4j",
        "_lHGWyuYNvyr",
        "AeXfGLg1UC-8",
        "m-GB5JvyPe2X",
        "JEfi6Yq8OPq3",
        "by5uDJWcbvV9",
        "naVcMZq0PqCz",
        "vbOpW9qw0qBe",
        "pw7ZkTsYQAwZ",
        "LMXJkbI9P4gY",
        "tG6NtXc011gy",
        "MWv3Cc0YQQ3Z",
        "ZKD6Y_zjQuZP",
        "-z6_Mrb92cxs",
        "es_id1LKYJ7I",
        "TbrIR_07AVKN",
        "ef6aautGA7vO",
        "I-KNyQqEBO-F",
        "CWhd7bGkCBjP",
        "XVqVm0zKDDYj",
        "UvBXUDicaep1",
        "h6KnAo6CGDVr",
        "rea_x1P6GXBa",
        "RtD9EPNnGqB8",
        "fMm2NRqUIOFL",
        "v-WDcfAdrsFt",
        "7-TodKl2wlKd",
        "9KRM3CW5E7TJ",
        "o6tN40Vg7QwX",
        "D61brXPez3nI",
        "Ea39Bqq-azSW",
        "f3HK70bqa6Yk"
      ],
      "machine_shape": "hm",
      "provenance": [],
      "gpuClass": "premium",
      "toc_visible": true,
      "mount_file_id": "1xSZfok1dBPfE1re2SdeLMAar7V9Dmzap",
      "authorship_tag": "ABX9TyMUwjunNs+oOYcbumoBepI3",
      "include_colab_link": true
    },
    "gpuClass": "premium",
    "kernelspec": {
      "display_name": "Python 3",
      "name": "python3"
    },
    "language_info": {
      "name": "python"
    }
  },
  "nbformat": 4,
  "nbformat_minor": 0
}